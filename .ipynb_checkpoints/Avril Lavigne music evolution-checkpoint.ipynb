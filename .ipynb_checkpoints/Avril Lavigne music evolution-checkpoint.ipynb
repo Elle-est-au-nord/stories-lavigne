{
 "cells": [
  {
   "cell_type": "markdown",
   "metadata": {},
   "source": [
    "# Letting go of early 2000's Avril Lavigne"
   ]
  },
  {
   "cell_type": "markdown",
   "metadata": {},
   "source": [
    "This is me (hey! I'm Éléonore Mayola) coming to you with a crucial investigation into what happened to Avril Lavigne in the early 2000's.\n",
    "\n",
    "This announcement might surprise you if, unlike me, you haven't wandered down the comments under one of her early YouTube video. That's where I discovered a specific group of Lavigne fans are convinced she passed away in 2003 and was replaced by a lookalike [1,2].\n",
    "\n",
    "It is a fact that Avril Lavigne changed in both her music and style, but who doesn't change over time. The explanation being that transformation is very unlikely to be so dramatic, but then what happened?\n",
    "While it is tricky to account for her personal /internal evolution, some of her musical influences (such as her support band and producing partners) can be looked at to find a correlation with her visible transformation (music and style)."
   ]
  },
  {
   "cell_type": "markdown",
   "metadata": {},
   "source": [
    "<img src=\"img/album_covers.png\" title=\"Lavigne studio album covers\" />\n",
    "[6]"
   ]
  },
  {
   "cell_type": "markdown",
   "metadata": {},
   "source": [
    "Avril Lavigne's albums popularity decreased especially after the 3rd album. This third album seems different in its content (more energy, more speechiness) and has songs viewed as part of a style called \"Bubblegum Pop\" and the first time Avril Lavigne produces songs. It was made after she left Arista Records, and after the biggest musicians turnover in her backing band. While her style (hair, clothes) started to change between the two first albums (released in 2002 and 2004), which is consistent with her leaving teenagehood, her biggest musical change happened on the third album (2007). This change in both style and music has lost her a part of her fans. And it could obviously not be explained by the artist being replaced in 2003."
   ]
  },
  {
   "cell_type": "code",
   "execution_count": 1,
   "metadata": {},
   "outputs": [
    {
     "data": {
      "text/plain": [
       "RendererRegistry.enable('notebook')"
      ]
     },
     "execution_count": 1,
     "metadata": {},
     "output_type": "execute_result"
    }
   ],
   "source": [
    "import pandas as pd\n",
    "import altair as alt\n",
    "alt.renderers.enable('notebook')"
   ]
  },
  {
   "cell_type": "markdown",
   "metadata": {},
   "source": [
    "## Avril Lavigne studio albums data\n",
    "[3, 4]"
   ]
  },
  {
   "cell_type": "code",
   "execution_count": 26,
   "metadata": {},
   "outputs": [],
   "source": [
    "al_albums = [\n",
    "    {\"name\": \"Let Go\", \"year\": 2002, \"genre\": [\"Alternative rock\",\"Pop punk\"], \"global_sales\": 16000000, \n",
    "     \"billboard200_debut\": 2, \"label\": [\"Arista Records\"], \n",
    "     \"producers\": [\"L.A. Reid\", \"The Matrix\", \"Clif Magness\", \"Curt Frasca\", \"Peter Zizzo\"]},\n",
    "    {\"name\": \"Under My Skin\", \"year\": 2004, \"genre\": [\"Alternative rock\",\"Pop punk\"], \"global_sales\": 10000000, \n",
    "     \"billboard200_debut\": 1, \"label\": [\"Arista Records\", \"RCA Records\"], \n",
    "     \"producers\": [\"Raine Maida\", \"Don Gilmore\", \"Butch Walker\"]},\n",
    "    {\"name\": \"The Best Damn Thing\", \"year\": 2007, \"genre\": [\"Bubblegum pop\",\"Pop punk\"], \"global_sales\": 6000000, \n",
    "     \"billboard200_debut\": 1, \"label\": [\"RCA Records\"], \n",
    "     \"producers\": [\"Avril Lavigne\", \"Deryck Whibley\", \"Butch Walker\", \"Rob Cavallo\", \"Dr. Luke\", \n",
    "                  \"The Submarines\", \"Jesse Welch\", \"Steven Wolf\"]},\n",
    "    {\"name\": \"Goodbye Lullaby\", \"year\": 2011, \"genre\": [\"Pop rock\"], \"global_sales\": 2000000, \n",
    "     \"billboard200_debut\": 4, \"label\": [\"RCA Records\"], \n",
    "     \"producers\": [\"Avril Lavigne\", \"Deryck Whibley\", \"Butch Walker\", \"Max Martin\", \"Shellback\"]},\n",
    "    {\"name\": \"Avril Lavigne\", \"year\": 2013, \"genre\": [\"Pop\", \"Pop rock\"], \"global_sales\": 650000, \n",
    "     \"billboard200_debut\": 5, \"label\": [\"Epic Records\"], \n",
    "     \"producers\": [\"Avril Lavigne\", \"L.A. Reid\", \"Martin Johnson\", \"Peter Svensson\", \n",
    "                  \"David Hodges\", \"Matt Squire\", \"Chad Kroeger\"]},\n",
    "    {\"name\": \"Head Above Water\", \"year\": 2019, \"genre\": [\"Pop rock\"], \"global_sales\": None, \n",
    "     \"billboard200_debut\": 13, \"label\": [\"BMG\"], \n",
    "     \"producers\": [\"Avril Lavigne\", \"Stephan Moccio\", \"Chris Baseford\", \"Johan Carlsson\", \n",
    "                   \"Lauren Christy\", \"Ryan Cabrera\", \"Chad Kroeger\"]}\n",
    "]"
   ]
  },
  {
   "cell_type": "code",
   "execution_count": 27,
   "metadata": {},
   "outputs": [],
   "source": [
    "df_albums = pd.DataFrame(al_albums)"
   ]
  },
  {
   "cell_type": "code",
   "execution_count": 28,
   "metadata": {},
   "outputs": [
    {
     "data": {
      "text/html": [
       "<div>\n",
       "<style scoped>\n",
       "    .dataframe tbody tr th:only-of-type {\n",
       "        vertical-align: middle;\n",
       "    }\n",
       "\n",
       "    .dataframe tbody tr th {\n",
       "        vertical-align: top;\n",
       "    }\n",
       "\n",
       "    .dataframe thead th {\n",
       "        text-align: right;\n",
       "    }\n",
       "</style>\n",
       "<table border=\"1\" class=\"dataframe\">\n",
       "  <thead>\n",
       "    <tr style=\"text-align: right;\">\n",
       "      <th></th>\n",
       "      <th>name</th>\n",
       "      <th>year</th>\n",
       "      <th>genre</th>\n",
       "      <th>global_sales</th>\n",
       "      <th>billboard200_debut</th>\n",
       "      <th>label</th>\n",
       "      <th>producers</th>\n",
       "    </tr>\n",
       "  </thead>\n",
       "  <tbody>\n",
       "    <tr>\n",
       "      <td>0</td>\n",
       "      <td>Let Go</td>\n",
       "      <td>2002</td>\n",
       "      <td>[Alternative rock, Pop punk]</td>\n",
       "      <td>16000000.0</td>\n",
       "      <td>2</td>\n",
       "      <td>[Arista Records]</td>\n",
       "      <td>[L.A. Reid, The Matrix, Clif Magness, Curt Fra...</td>\n",
       "    </tr>\n",
       "    <tr>\n",
       "      <td>1</td>\n",
       "      <td>Under My Skin</td>\n",
       "      <td>2004</td>\n",
       "      <td>[Alternative rock, Pop punk]</td>\n",
       "      <td>10000000.0</td>\n",
       "      <td>1</td>\n",
       "      <td>[Arista Records, RCA Records]</td>\n",
       "      <td>[Raine Maida, Don Gilmore, Butch Walker]</td>\n",
       "    </tr>\n",
       "    <tr>\n",
       "      <td>2</td>\n",
       "      <td>The Best Damn Thing</td>\n",
       "      <td>2007</td>\n",
       "      <td>[Bubblegum pop, Pop punk]</td>\n",
       "      <td>6000000.0</td>\n",
       "      <td>1</td>\n",
       "      <td>[RCA Records]</td>\n",
       "      <td>[Avril Lavigne, Deryck Whibley, Butch Walker, ...</td>\n",
       "    </tr>\n",
       "    <tr>\n",
       "      <td>3</td>\n",
       "      <td>Goodbye Lullaby</td>\n",
       "      <td>2011</td>\n",
       "      <td>[Pop rock]</td>\n",
       "      <td>2000000.0</td>\n",
       "      <td>4</td>\n",
       "      <td>[RCA Records]</td>\n",
       "      <td>[Avril Lavigne, Deryck Whibley, Butch Walker, ...</td>\n",
       "    </tr>\n",
       "    <tr>\n",
       "      <td>4</td>\n",
       "      <td>Avril Lavigne</td>\n",
       "      <td>2013</td>\n",
       "      <td>[Pop, Pop rock]</td>\n",
       "      <td>650000.0</td>\n",
       "      <td>5</td>\n",
       "      <td>[Epic Records]</td>\n",
       "      <td>[Avril Lavigne, L.A. Reid, Martin Johnson, Pet...</td>\n",
       "    </tr>\n",
       "    <tr>\n",
       "      <td>5</td>\n",
       "      <td>Head Above Water</td>\n",
       "      <td>2019</td>\n",
       "      <td>[Pop rock]</td>\n",
       "      <td>NaN</td>\n",
       "      <td>13</td>\n",
       "      <td>[BMG]</td>\n",
       "      <td>[Avril Lavigne, Stephan Moccio, Chris Baseford...</td>\n",
       "    </tr>\n",
       "  </tbody>\n",
       "</table>\n",
       "</div>"
      ],
      "text/plain": [
       "                  name  year                         genre  global_sales  \\\n",
       "0               Let Go  2002  [Alternative rock, Pop punk]    16000000.0   \n",
       "1        Under My Skin  2004  [Alternative rock, Pop punk]    10000000.0   \n",
       "2  The Best Damn Thing  2007     [Bubblegum pop, Pop punk]     6000000.0   \n",
       "3      Goodbye Lullaby  2011                    [Pop rock]     2000000.0   \n",
       "4        Avril Lavigne  2013               [Pop, Pop rock]      650000.0   \n",
       "5     Head Above Water  2019                    [Pop rock]           NaN   \n",
       "\n",
       "   billboard200_debut                          label  \\\n",
       "0                   2               [Arista Records]   \n",
       "1                   1  [Arista Records, RCA Records]   \n",
       "2                   1                  [RCA Records]   \n",
       "3                   4                  [RCA Records]   \n",
       "4                   5                 [Epic Records]   \n",
       "5                  13                          [BMG]   \n",
       "\n",
       "                                           producers  \n",
       "0  [L.A. Reid, The Matrix, Clif Magness, Curt Fra...  \n",
       "1           [Raine Maida, Don Gilmore, Butch Walker]  \n",
       "2  [Avril Lavigne, Deryck Whibley, Butch Walker, ...  \n",
       "3  [Avril Lavigne, Deryck Whibley, Butch Walker, ...  \n",
       "4  [Avril Lavigne, L.A. Reid, Martin Johnson, Pet...  \n",
       "5  [Avril Lavigne, Stephan Moccio, Chris Baseford...  "
      ]
     },
     "execution_count": 28,
     "metadata": {},
     "output_type": "execute_result"
    }
   ],
   "source": [
    "df_albums"
   ]
  },
  {
   "cell_type": "code",
   "execution_count": 36,
   "metadata": {},
   "outputs": [],
   "source": [
    "# df_albums.to_csv(\"al_albums_data.csv\")"
   ]
  },
  {
   "cell_type": "markdown",
   "metadata": {},
   "source": [
    "### Albums sales and debut in US charts"
   ]
  },
  {
   "cell_type": "code",
   "execution_count": 29,
   "metadata": {},
   "outputs": [
    {
     "data": {
      "application/javascript": [
       "const spec = {\"config\": {\"view\": {\"width\": 400, \"height\": 300}, \"mark\": {\"tooltip\": null}}, \"hconcat\": [{\"mark\": {\"type\": \"point\", \"filled\": true, \"opacity\": 0.8, \"size\": 100}, \"encoding\": {\"color\": {\"type\": \"nominal\", \"field\": \"name\", \"sort\": [\"year\"]}, \"x\": {\"type\": \"quantitative\", \"field\": \"year\", \"scale\": {\"domain\": [1999, 2019]}}, \"y\": {\"type\": \"quantitative\", \"field\": \"global_sales\"}}, \"height\": 200, \"width\": 300}, {\"mark\": {\"type\": \"bar\", \"opacity\": 0.8, \"size\": 20}, \"encoding\": {\"color\": {\"type\": \"nominal\", \"field\": \"name\", \"sort\": [\"year\"]}, \"x\": {\"type\": \"ordinal\", \"field\": \"year\"}, \"y\": {\"type\": \"quantitative\", \"field\": \"billboard200_debut\", \"scale\": {\"domain\": [0, 15]}}}, \"height\": 200, \"width\": 300}], \"data\": {\"name\": \"data-5dd291d2b5dd3a7b1617aa2b4afdf30c\"}, \"$schema\": \"https://vega.github.io/schema/vega-lite/v3.4.0.json\", \"datasets\": {\"data-5dd291d2b5dd3a7b1617aa2b4afdf30c\": [{\"name\": \"Let Go\", \"year\": 2002, \"genre\": [\"Alternative rock\", \"Pop punk\"], \"global_sales\": 16000000.0, \"billboard200_debut\": 2, \"label\": [\"Arista Records\"], \"producers\": [\"L.A. Reid\", \"The Matrix\", \"Clif Magness\", \"Curt Frasca\", \"Peter Zizzo\"]}, {\"name\": \"Under My Skin\", \"year\": 2004, \"genre\": [\"Alternative rock\", \"Pop punk\"], \"global_sales\": 10000000.0, \"billboard200_debut\": 1, \"label\": [\"Arista Records\", \"RCA Records\"], \"producers\": [\"Raine Maida\", \"Don Gilmore\", \"Butch Walker\"]}, {\"name\": \"The Best Damn Thing\", \"year\": 2007, \"genre\": [\"Bubblegum pop\", \"Pop punk\"], \"global_sales\": 6000000.0, \"billboard200_debut\": 1, \"label\": [\"RCA Records\"], \"producers\": [\"Avril Lavigne\", \"Deryck Whibley\", \"Butch Walker\", \"Rob Cavallo\", \"Dr. Luke\", \"The Submarines\", \"Jesse Welch\", \"Steven Wolf\"]}, {\"name\": \"Goodbye Lullaby\", \"year\": 2011, \"genre\": [\"Pop rock\"], \"global_sales\": 2000000.0, \"billboard200_debut\": 4, \"label\": [\"RCA Records\"], \"producers\": [\"Avril Lavigne\", \"Deryck Whibley\", \"Butch Walker\", \"Max Martin\", \"Shellback\"]}, {\"name\": \"Avril Lavigne\", \"year\": 2013, \"genre\": [\"Pop\", \"Pop rock\"], \"global_sales\": 650000.0, \"billboard200_debut\": 5, \"label\": [\"Epic Records\"], \"producers\": [\"Avril Lavigne\", \"L.A. Reid\", \"Martin Johnson\", \"Peter Svensson\", \"David Hodges\", \"Matt Squire\", \"Chad Kroeger\"]}, {\"name\": \"Head Above Water\", \"year\": 2019, \"genre\": [\"Pop rock\"], \"global_sales\": null, \"billboard200_debut\": 13, \"label\": [\"BMG\"], \"producers\": [\"Avril Lavigne\", \"Stephan Moccio\", \"Chris Baseford\", \"Johan Carlsson\", \"Lauren Christy\", \"Ryan Cabrera\", \"Chad Kroeger\"]}]}};\n",
       "const opt = {};\n",
       "const type = \"vega-lite\";\n",
       "const id = \"5ce436a2-28a3-4d09-9b53-e68b124d9e08\";\n",
       "\n",
       "const output_area = this;\n",
       "\n",
       "require([\"nbextensions/jupyter-vega/index\"], function(vega) {\n",
       "  const target = document.createElement(\"div\");\n",
       "  target.id = id;\n",
       "  target.className = \"vega-embed\";\n",
       "\n",
       "  const style = document.createElement(\"style\");\n",
       "  style.textContent = [\n",
       "    \".vega-embed .error p {\",\n",
       "    \"  color: firebrick;\",\n",
       "    \"  font-size: 14px;\",\n",
       "    \"}\",\n",
       "  ].join(\"\\\\n\");\n",
       "\n",
       "  // element is a jQuery wrapped DOM element inside the output area\n",
       "  // see http://ipython.readthedocs.io/en/stable/api/generated/\\\n",
       "  // IPython.display.html#IPython.display.Javascript.__init__\n",
       "  element[0].appendChild(target);\n",
       "  element[0].appendChild(style);\n",
       "\n",
       "  vega.render(\"#\" + id, spec, type, opt, output_area);\n",
       "}, function (err) {\n",
       "  if (err.requireType !== \"scripterror\") {\n",
       "    throw(err);\n",
       "  }\n",
       "});\n"
      ],
      "text/plain": [
       "<vega.vegalite.VegaLite at 0x7f08a5f9a630>"
      ]
     },
     "metadata": {
      "jupyter-vega": "#5ce436a2-28a3-4d09-9b53-e68b124d9e08"
     },
     "output_type": "display_data"
    },
    {
     "data": {
      "text/plain": []
     },
     "execution_count": 29,
     "metadata": {},
     "output_type": "execute_result"
    },
    {
     "data": {
      "image/png": "[encoded data removed]"
     },
     "metadata": {
      "jupyter-vega": "#5ce436a2-28a3-4d09-9b53-e68b124d9e08"
     },
     "output_type": "display_data"
    }
   ],
   "source": [
    "chart1 = alt.Chart(df_albums, width=300, height=200).mark_point(size=100, filled=True, opacity=0.8).encode(\n",
    "    alt.X('year',\n",
    "        scale=alt.Scale(domain=(1999, 2019))\n",
    "    ),\n",
    "    y='global_sales:Q',\n",
    "    color=alt.Color('name', sort=['year'])\n",
    ")\n",
    "\n",
    "chart2 = alt.Chart(df_albums, width=300, height=200).mark_bar(size=20, opacity=0.8).encode(\n",
    "    x='year:O',\n",
    "    y=alt.Y('billboard200_debut:Q', \n",
    "           scale=alt.Scale(domain=(0, 15))),\n",
    "    color=alt.Color('name', sort=['year'])\n",
    ")\n",
    "\n",
    "chart1 | chart2"
   ]
  },
  {
   "cell_type": "code",
   "execution_count": 35,
   "metadata": {},
   "outputs": [],
   "source": [
    "# chart1.save('plots/chart1.json')\n",
    "# chart2.save('plots/chart2.json')"
   ]
  },
  {
   "cell_type": "markdown",
   "metadata": {},
   "source": [
    "#### => A.L. studio albums global sales decreased with time\n",
    "#### => A.L. studio albums US chart debut worsened with time"
   ]
  },
  {
   "cell_type": "code",
   "execution_count": 7,
   "metadata": {},
   "outputs": [
    {
     "data": {
      "text/html": [
       "<div>\n",
       "<style scoped>\n",
       "    .dataframe tbody tr th:only-of-type {\n",
       "        vertical-align: middle;\n",
       "    }\n",
       "\n",
       "    .dataframe tbody tr th {\n",
       "        vertical-align: top;\n",
       "    }\n",
       "\n",
       "    .dataframe thead th {\n",
       "        text-align: right;\n",
       "    }\n",
       "</style>\n",
       "<table border=\"1\" class=\"dataframe\">\n",
       "  <thead>\n",
       "    <tr style=\"text-align: right;\">\n",
       "      <th></th>\n",
       "      <th>year</th>\n",
       "      <th>label</th>\n",
       "      <th>producers</th>\n",
       "    </tr>\n",
       "  </thead>\n",
       "  <tbody>\n",
       "    <tr>\n",
       "      <td>0</td>\n",
       "      <td>2002</td>\n",
       "      <td>[Arista Records]</td>\n",
       "      <td>[L.A. Reid, The Matrix, Clif Magness, Curt Frasca, Peter Zizzo]</td>\n",
       "    </tr>\n",
       "    <tr>\n",
       "      <td>1</td>\n",
       "      <td>2004</td>\n",
       "      <td>[Arista Records, RCA Records]</td>\n",
       "      <td>[Raine Maida, Don Gilmore, Butch Walker]</td>\n",
       "    </tr>\n",
       "    <tr>\n",
       "      <td>2</td>\n",
       "      <td>2007</td>\n",
       "      <td>[RCA Records]</td>\n",
       "      <td>[Avril Lavigne, Deryck Whibley, Butch Walker, Rob Cavallo, Dr. Luke, The Submarines, Jesse Welch, Steven Wolf]</td>\n",
       "    </tr>\n",
       "    <tr>\n",
       "      <td>3</td>\n",
       "      <td>2011</td>\n",
       "      <td>[RCA Records]</td>\n",
       "      <td>[Avril Lavigne, Deryck Whibley, Butch Walker, Max Martin, Shellback]</td>\n",
       "    </tr>\n",
       "    <tr>\n",
       "      <td>4</td>\n",
       "      <td>2013</td>\n",
       "      <td>[Epic Records]</td>\n",
       "      <td>[Avril Lavigne, L.A. Reid, Martin Johnson, Peter Svensson, David Hodges, Matt Squire, Chad Kroeger]</td>\n",
       "    </tr>\n",
       "    <tr>\n",
       "      <td>5</td>\n",
       "      <td>2019</td>\n",
       "      <td>[BMG]</td>\n",
       "      <td>[Avril Lavigne, Stephan Moccio, Chris Baseford, Johan Carlsson, Lauren Christy, Ryan Cabrera, Chad Kroeger]</td>\n",
       "    </tr>\n",
       "  </tbody>\n",
       "</table>\n",
       "</div>"
      ],
      "text/plain": [
       "   year                          label  \\\n",
       "0  2002               [Arista Records]   \n",
       "1  2004  [Arista Records, RCA Records]   \n",
       "2  2007                  [RCA Records]   \n",
       "3  2011                  [RCA Records]   \n",
       "4  2013                 [Epic Records]   \n",
       "5  2019                          [BMG]   \n",
       "\n",
       "                                                                                                        producers  \n",
       "0                                                 [L.A. Reid, The Matrix, Clif Magness, Curt Frasca, Peter Zizzo]  \n",
       "1                                                                        [Raine Maida, Don Gilmore, Butch Walker]  \n",
       "2  [Avril Lavigne, Deryck Whibley, Butch Walker, Rob Cavallo, Dr. Luke, The Submarines, Jesse Welch, Steven Wolf]  \n",
       "3                                            [Avril Lavigne, Deryck Whibley, Butch Walker, Max Martin, Shellback]  \n",
       "4             [Avril Lavigne, L.A. Reid, Martin Johnson, Peter Svensson, David Hodges, Matt Squire, Chad Kroeger]  \n",
       "5     [Avril Lavigne, Stephan Moccio, Chris Baseford, Johan Carlsson, Lauren Christy, Ryan Cabrera, Chad Kroeger]  "
      ]
     },
     "execution_count": 7,
     "metadata": {},
     "output_type": "execute_result"
    }
   ],
   "source": [
    "albums_selection = df_albums[[\"year\", \"label\", \"producers\"]]\n",
    "\n",
    "pd.set_option('max_colwidth', 120)\n",
    "\n",
    "albums_selection"
   ]
  },
  {
   "cell_type": "markdown",
   "metadata": {},
   "source": [
    "#### => Frequent change of producers, changed labels several time"
   ]
  },
  {
   "cell_type": "markdown",
   "metadata": {},
   "source": [
    "## Avril Lavigne's backing band\n",
    "\n",
    "[3]"
   ]
  },
  {
   "cell_type": "markdown",
   "metadata": {},
   "source": [
    "<img src=\"img/al_band_timeline.png\" title=\"Lavigne band timeline\" />"
   ]
  },
  {
   "cell_type": "markdown",
   "metadata": {},
   "source": [
    "* 2nd album (2004): 1 new musician (since the previous album)\n",
    "* 3rd album (2007): 6 new musicians\n",
    "* 4th album (2011): 1 new musician\n",
    "* 5th album (2013): 2 new musicians\n",
    "* 6th album (2019): 2 new musicians\n",
    "\n",
    "#### => There is no one left from the original band, they stayed for the first or two first albums\n",
    "#### The 3rd album has the most new band members."
   ]
  },
  {
   "cell_type": "markdown",
   "metadata": {},
   "source": [
    "## Avril Lavigne's songs\n",
    "\n",
    "[5]"
   ]
  },
  {
   "cell_type": "code",
   "execution_count": 2,
   "metadata": {},
   "outputs": [],
   "source": [
    "al_songs = pd.read_csv('al_songs_spotify_data.csv')"
   ]
  },
  {
   "cell_type": "code",
   "execution_count": 3,
   "metadata": {},
   "outputs": [
    {
     "data": {
      "text/html": [
       "<div>\n",
       "<style scoped>\n",
       "    .dataframe tbody tr th:only-of-type {\n",
       "        vertical-align: middle;\n",
       "    }\n",
       "\n",
       "    .dataframe tbody tr th {\n",
       "        vertical-align: top;\n",
       "    }\n",
       "\n",
       "    .dataframe thead th {\n",
       "        text-align: right;\n",
       "    }\n",
       "</style>\n",
       "<table border=\"1\" class=\"dataframe\">\n",
       "  <thead>\n",
       "    <tr style=\"text-align: right;\">\n",
       "      <th></th>\n",
       "      <th>title</th>\n",
       "      <th>artist</th>\n",
       "      <th>top genre</th>\n",
       "      <th>year</th>\n",
       "      <th>added</th>\n",
       "      <th>Beats per minute</th>\n",
       "      <th>energy</th>\n",
       "      <th>danceability</th>\n",
       "      <th>Loudness (dB)</th>\n",
       "      <th>liveness</th>\n",
       "      <th>valence</th>\n",
       "      <th>duration</th>\n",
       "      <th>acousticness</th>\n",
       "      <th>speechiness</th>\n",
       "      <th>popularity</th>\n",
       "    </tr>\n",
       "  </thead>\n",
       "  <tbody>\n",
       "    <tr>\n",
       "      <td>0</td>\n",
       "      <td>Complicated</td>\n",
       "      <td>Avril Lavigne</td>\n",
       "      <td>canadian pop</td>\n",
       "      <td>2002</td>\n",
       "      <td>2020‑03‑05</td>\n",
       "      <td>78</td>\n",
       "      <td>78</td>\n",
       "      <td>59</td>\n",
       "      <td>-6</td>\n",
       "      <td>30</td>\n",
       "      <td>43</td>\n",
       "      <td>245</td>\n",
       "      <td>6</td>\n",
       "      <td>5</td>\n",
       "      <td>76</td>\n",
       "    </tr>\n",
       "    <tr>\n",
       "      <td>1</td>\n",
       "      <td>Sk8er Boi</td>\n",
       "      <td>Avril Lavigne</td>\n",
       "      <td>canadian pop</td>\n",
       "      <td>2002</td>\n",
       "      <td>2020‑03‑05</td>\n",
       "      <td>150</td>\n",
       "      <td>90</td>\n",
       "      <td>49</td>\n",
       "      <td>-4</td>\n",
       "      <td>36</td>\n",
       "      <td>48</td>\n",
       "      <td>204</td>\n",
       "      <td>0</td>\n",
       "      <td>5</td>\n",
       "      <td>74</td>\n",
       "    </tr>\n",
       "    <tr>\n",
       "      <td>2</td>\n",
       "      <td>What the Hell</td>\n",
       "      <td>Avril Lavigne</td>\n",
       "      <td>canadian pop</td>\n",
       "      <td>2011</td>\n",
       "      <td>2020‑03‑05</td>\n",
       "      <td>150</td>\n",
       "      <td>93</td>\n",
       "      <td>58</td>\n",
       "      <td>-4</td>\n",
       "      <td>14</td>\n",
       "      <td>88</td>\n",
       "      <td>221</td>\n",
       "      <td>0</td>\n",
       "      <td>5</td>\n",
       "      <td>73</td>\n",
       "    </tr>\n",
       "    <tr>\n",
       "      <td>3</td>\n",
       "      <td>Girlfriend</td>\n",
       "      <td>Avril Lavigne</td>\n",
       "      <td>canadian pop</td>\n",
       "      <td>2007</td>\n",
       "      <td>2020‑03‑05</td>\n",
       "      <td>164</td>\n",
       "      <td>96</td>\n",
       "      <td>56</td>\n",
       "      <td>-2</td>\n",
       "      <td>21</td>\n",
       "      <td>67</td>\n",
       "      <td>217</td>\n",
       "      <td>0</td>\n",
       "      <td>10</td>\n",
       "      <td>72</td>\n",
       "    </tr>\n",
       "    <tr>\n",
       "      <td>4</td>\n",
       "      <td>Head Above Water</td>\n",
       "      <td>Avril Lavigne</td>\n",
       "      <td>canadian pop</td>\n",
       "      <td>2019</td>\n",
       "      <td>2020‑03‑05</td>\n",
       "      <td>130</td>\n",
       "      <td>69</td>\n",
       "      <td>58</td>\n",
       "      <td>-5</td>\n",
       "      <td>10</td>\n",
       "      <td>27</td>\n",
       "      <td>221</td>\n",
       "      <td>1</td>\n",
       "      <td>7</td>\n",
       "      <td>71</td>\n",
       "    </tr>\n",
       "  </tbody>\n",
       "</table>\n",
       "</div>"
      ],
      "text/plain": [
       "              title         artist     top genre  year       added  \\\n",
       "0       Complicated  Avril Lavigne  canadian pop  2002  2020‑03‑05   \n",
       "1         Sk8er Boi  Avril Lavigne  canadian pop  2002  2020‑03‑05   \n",
       "2     What the Hell  Avril Lavigne  canadian pop  2011  2020‑03‑05   \n",
       "3        Girlfriend  Avril Lavigne  canadian pop  2007  2020‑03‑05   \n",
       "4  Head Above Water  Avril Lavigne  canadian pop  2019  2020‑03‑05   \n",
       "\n",
       "   Beats per minute  energy  danceability  Loudness (dB)  liveness  valence  \\\n",
       "0                78      78            59             -6        30       43   \n",
       "1               150      90            49             -4        36       48   \n",
       "2               150      93            58             -4        14       88   \n",
       "3               164      96            56             -2        21       67   \n",
       "4               130      69            58             -5        10       27   \n",
       "\n",
       "   duration  acousticness  speechiness  popularity  \n",
       "0       245             6            5          76  \n",
       "1       204             0            5          74  \n",
       "2       221             0            5          73  \n",
       "3       217             0           10          72  \n",
       "4       221             1            7          71  "
      ]
     },
     "execution_count": 3,
     "metadata": {},
     "output_type": "execute_result"
    }
   ],
   "source": [
    "al_songs.head()"
   ]
  },
  {
   "cell_type": "code",
   "execution_count": 4,
   "metadata": {},
   "outputs": [],
   "source": [
    "# Add an 'album' column\n",
    "albums_content = {\n",
    "    \"album1\": {\"name\": \"Let Go\", \n",
    "               \"songs\": [\"Losing Grip\", \"Complicated\", \"Sk8er Boi\", \"I'm with You\", \"Mobile\", \"Unwanted\",\n",
    "                         \"Tomorrow\", \"Anything but Ordinary\", \"Things I'll Never Say\", \"My World\",\n",
    "                         \"Nobody's Fool\", \"Too Much to Ask\", \"Naked\"]},\n",
    "    \"album2\": {\"name\": \"Under My Skin\", \n",
    "               \"songs\": [\"Take Me Away\", \"Together\", \"Don't Tell Me\", \"He Wasn't\",\n",
    "                         \"How Does It Feel\", \"My Happy Ending\", \"Nobody's Home\", \"Forgotten\",\n",
    "                         \"Who Knows\", \"Fall to Pieces\", \"Freak Out\", \"Slipped Away\"]},\n",
    "    \"album3\": {\"name\": \"The Best Damn Thing\", \n",
    "               \"songs\": [\"Girlfriend\", \"I Can Do Better\", \"Runaway\", \"The Best Damn Thing\",\n",
    "                         \"When You're Gone\", \"Everything Back but You\", \"Hot\", \"Innocence\",\n",
    "                         \"I Don't Have to Try\", \"One of Those Girls\", \"Contagious\", \"Keep Holding On\"]},\n",
    "    \"album4\": {\"name\": \"Goodbye Lullaby\", \n",
    "               \"songs\": [\"Black Star\", \"What the Hell\", \"Push\", \"Wish You Were Here\", \"Smile\",\n",
    "                         \"Stop Standing There\", \"I Love You\", \"Everybody Hurts\", \"Not Enough\",\n",
    "                         \"4 Real\", \"Darlin\", \"Remember When\", \"Goodbye\", \"Alice\"]},\n",
    "    \"album5\": {\"name\": \"Avril Lavigne\", \n",
    "               \"songs\": [\"Rock n Roll\", \"Here's to Never Growing Up\", \"17\", \"Bitchin' Summer\",\n",
    "                         \"Let Me Go\", \"Give You What You Like\", \"Bad Girl\", \"Hello Kitty\",\n",
    "                         \"You Ain't Seen Nothin' Yet\", \"Sippin' On Sunshine\", \"Hello Heartache\",\n",
    "                         \"Falling Fast\", \"Hush Hush\"]},\n",
    "    \"album6\": {\"name\": \"Head Above Water\", \n",
    "               \"songs\": [\"Head Above Water\", \"Birdie\", \"I Fell in Love with the Devil\",\n",
    "                         \"Tell Me It's Over\", \"Mailbox\", \"Dumb Blonde\", \"It Was In Me\",\n",
    "                         \"Souvenir\", \"Crush\", \"Goddess\", \"Bigger Wow\", \"Love Me Insane\", \"Warrior\"]}\n",
    "    }"
   ]
  },
  {
   "cell_type": "code",
   "execution_count": 5,
   "metadata": {},
   "outputs": [],
   "source": [
    "import string\n",
    "\n",
    "def clean_song_title(song_title):\n",
    "    song_title = song_title.lower()\n",
    "    song_title = song_title.split(\" - \")[0]\n",
    "    song_title = song_title.split(\" (\")[0]\n",
    "    return song_title"
   ]
  },
  {
   "cell_type": "code",
   "execution_count": 6,
   "metadata": {},
   "outputs": [],
   "source": [
    "for k, v in albums_content.items():\n",
    "    v[\"songs\"] = [clean_song_title(song) for song in v[\"songs\"]]"
   ]
  },
  {
   "cell_type": "code",
   "execution_count": 7,
   "metadata": {},
   "outputs": [],
   "source": [
    "def get_album_names(title):\n",
    "    title = clean_song_title(title)\n",
    "    if title in albums_content[\"album1\"][\"songs\"]:\n",
    "        return albums_content[\"album1\"][\"name\"]\n",
    "    if title in albums_content[\"album2\"][\"songs\"]:\n",
    "        return albums_content[\"album2\"][\"name\"]\n",
    "    if title in albums_content[\"album3\"][\"songs\"]:\n",
    "        return albums_content[\"album3\"][\"name\"]\n",
    "    if title in albums_content[\"album4\"][\"songs\"]:\n",
    "        return albums_content[\"album4\"][\"name\"]\n",
    "    if title in albums_content[\"album5\"][\"songs\"]:\n",
    "        return albums_content[\"album5\"][\"name\"]\n",
    "    if title in albums_content[\"album6\"][\"songs\"]:\n",
    "        return albums_content[\"album6\"][\"name\"]"
   ]
  },
  {
   "cell_type": "code",
   "execution_count": 8,
   "metadata": {},
   "outputs": [
    {
     "data": {
      "text/html": [
       "<div>\n",
       "<style scoped>\n",
       "    .dataframe tbody tr th:only-of-type {\n",
       "        vertical-align: middle;\n",
       "    }\n",
       "\n",
       "    .dataframe tbody tr th {\n",
       "        vertical-align: top;\n",
       "    }\n",
       "\n",
       "    .dataframe thead th {\n",
       "        text-align: right;\n",
       "    }\n",
       "</style>\n",
       "<table border=\"1\" class=\"dataframe\">\n",
       "  <thead>\n",
       "    <tr style=\"text-align: right;\">\n",
       "      <th></th>\n",
       "      <th>title</th>\n",
       "      <th>artist</th>\n",
       "      <th>top genre</th>\n",
       "      <th>year</th>\n",
       "      <th>added</th>\n",
       "      <th>Beats per minute</th>\n",
       "      <th>energy</th>\n",
       "      <th>danceability</th>\n",
       "      <th>Loudness (dB)</th>\n",
       "      <th>liveness</th>\n",
       "      <th>valence</th>\n",
       "      <th>duration</th>\n",
       "      <th>acousticness</th>\n",
       "      <th>speechiness</th>\n",
       "      <th>popularity</th>\n",
       "      <th>album</th>\n",
       "    </tr>\n",
       "  </thead>\n",
       "  <tbody>\n",
       "    <tr>\n",
       "      <td>0</td>\n",
       "      <td>Complicated</td>\n",
       "      <td>Avril Lavigne</td>\n",
       "      <td>canadian pop</td>\n",
       "      <td>2002</td>\n",
       "      <td>2020‑03‑05</td>\n",
       "      <td>78</td>\n",
       "      <td>78</td>\n",
       "      <td>59</td>\n",
       "      <td>-6</td>\n",
       "      <td>30</td>\n",
       "      <td>43</td>\n",
       "      <td>245</td>\n",
       "      <td>6</td>\n",
       "      <td>5</td>\n",
       "      <td>76</td>\n",
       "      <td></td>\n",
       "    </tr>\n",
       "    <tr>\n",
       "      <td>1</td>\n",
       "      <td>Sk8er Boi</td>\n",
       "      <td>Avril Lavigne</td>\n",
       "      <td>canadian pop</td>\n",
       "      <td>2002</td>\n",
       "      <td>2020‑03‑05</td>\n",
       "      <td>150</td>\n",
       "      <td>90</td>\n",
       "      <td>49</td>\n",
       "      <td>-4</td>\n",
       "      <td>36</td>\n",
       "      <td>48</td>\n",
       "      <td>204</td>\n",
       "      <td>0</td>\n",
       "      <td>5</td>\n",
       "      <td>74</td>\n",
       "      <td></td>\n",
       "    </tr>\n",
       "    <tr>\n",
       "      <td>2</td>\n",
       "      <td>What the Hell</td>\n",
       "      <td>Avril Lavigne</td>\n",
       "      <td>canadian pop</td>\n",
       "      <td>2011</td>\n",
       "      <td>2020‑03‑05</td>\n",
       "      <td>150</td>\n",
       "      <td>93</td>\n",
       "      <td>58</td>\n",
       "      <td>-4</td>\n",
       "      <td>14</td>\n",
       "      <td>88</td>\n",
       "      <td>221</td>\n",
       "      <td>0</td>\n",
       "      <td>5</td>\n",
       "      <td>73</td>\n",
       "      <td></td>\n",
       "    </tr>\n",
       "    <tr>\n",
       "      <td>3</td>\n",
       "      <td>Girlfriend</td>\n",
       "      <td>Avril Lavigne</td>\n",
       "      <td>canadian pop</td>\n",
       "      <td>2007</td>\n",
       "      <td>2020‑03‑05</td>\n",
       "      <td>164</td>\n",
       "      <td>96</td>\n",
       "      <td>56</td>\n",
       "      <td>-2</td>\n",
       "      <td>21</td>\n",
       "      <td>67</td>\n",
       "      <td>217</td>\n",
       "      <td>0</td>\n",
       "      <td>10</td>\n",
       "      <td>72</td>\n",
       "      <td></td>\n",
       "    </tr>\n",
       "    <tr>\n",
       "      <td>4</td>\n",
       "      <td>Head Above Water</td>\n",
       "      <td>Avril Lavigne</td>\n",
       "      <td>canadian pop</td>\n",
       "      <td>2019</td>\n",
       "      <td>2020‑03‑05</td>\n",
       "      <td>130</td>\n",
       "      <td>69</td>\n",
       "      <td>58</td>\n",
       "      <td>-5</td>\n",
       "      <td>10</td>\n",
       "      <td>27</td>\n",
       "      <td>221</td>\n",
       "      <td>1</td>\n",
       "      <td>7</td>\n",
       "      <td>71</td>\n",
       "      <td></td>\n",
       "    </tr>\n",
       "    <tr>\n",
       "      <td>...</td>\n",
       "      <td>...</td>\n",
       "      <td>...</td>\n",
       "      <td>...</td>\n",
       "      <td>...</td>\n",
       "      <td>...</td>\n",
       "      <td>...</td>\n",
       "      <td>...</td>\n",
       "      <td>...</td>\n",
       "      <td>...</td>\n",
       "      <td>...</td>\n",
       "      <td>...</td>\n",
       "      <td>...</td>\n",
       "      <td>...</td>\n",
       "      <td>...</td>\n",
       "      <td>...</td>\n",
       "      <td>...</td>\n",
       "    </tr>\n",
       "    <tr>\n",
       "      <td>70</td>\n",
       "      <td>Black Star</td>\n",
       "      <td>Avril Lavigne</td>\n",
       "      <td>canadian pop</td>\n",
       "      <td>2011</td>\n",
       "      <td>2020‑03‑05</td>\n",
       "      <td>128</td>\n",
       "      <td>33</td>\n",
       "      <td>54</td>\n",
       "      <td>-9</td>\n",
       "      <td>19</td>\n",
       "      <td>20</td>\n",
       "      <td>94</td>\n",
       "      <td>61</td>\n",
       "      <td>3</td>\n",
       "      <td>41</td>\n",
       "      <td></td>\n",
       "    </tr>\n",
       "    <tr>\n",
       "      <td>71</td>\n",
       "      <td>4 Real</td>\n",
       "      <td>Avril Lavigne</td>\n",
       "      <td>canadian pop</td>\n",
       "      <td>2011</td>\n",
       "      <td>2020‑03‑05</td>\n",
       "      <td>78</td>\n",
       "      <td>84</td>\n",
       "      <td>52</td>\n",
       "      <td>-6</td>\n",
       "      <td>11</td>\n",
       "      <td>28</td>\n",
       "      <td>208</td>\n",
       "      <td>0</td>\n",
       "      <td>3</td>\n",
       "      <td>41</td>\n",
       "      <td></td>\n",
       "    </tr>\n",
       "    <tr>\n",
       "      <td>72</td>\n",
       "      <td>Sippin' On Sunshine</td>\n",
       "      <td>Avril Lavigne</td>\n",
       "      <td>canadian pop</td>\n",
       "      <td>2013</td>\n",
       "      <td>2020‑03‑05</td>\n",
       "      <td>176</td>\n",
       "      <td>73</td>\n",
       "      <td>55</td>\n",
       "      <td>-7</td>\n",
       "      <td>32</td>\n",
       "      <td>56</td>\n",
       "      <td>209</td>\n",
       "      <td>0</td>\n",
       "      <td>12</td>\n",
       "      <td>41</td>\n",
       "      <td></td>\n",
       "    </tr>\n",
       "    <tr>\n",
       "      <td>73</td>\n",
       "      <td>Goodbye</td>\n",
       "      <td>Avril Lavigne</td>\n",
       "      <td>canadian pop</td>\n",
       "      <td>2011</td>\n",
       "      <td>2020‑03‑05</td>\n",
       "      <td>167</td>\n",
       "      <td>33</td>\n",
       "      <td>18</td>\n",
       "      <td>-7</td>\n",
       "      <td>13</td>\n",
       "      <td>24</td>\n",
       "      <td>272</td>\n",
       "      <td>72</td>\n",
       "      <td>3</td>\n",
       "      <td>40</td>\n",
       "      <td></td>\n",
       "    </tr>\n",
       "    <tr>\n",
       "      <td>74</td>\n",
       "      <td>You Ain't Seen Nothin' Yet</td>\n",
       "      <td>Avril Lavigne</td>\n",
       "      <td>canadian pop</td>\n",
       "      <td>2013</td>\n",
       "      <td>2020‑03‑05</td>\n",
       "      <td>145</td>\n",
       "      <td>90</td>\n",
       "      <td>56</td>\n",
       "      <td>-4</td>\n",
       "      <td>7</td>\n",
       "      <td>67</td>\n",
       "      <td>193</td>\n",
       "      <td>0</td>\n",
       "      <td>6</td>\n",
       "      <td>40</td>\n",
       "      <td></td>\n",
       "    </tr>\n",
       "  </tbody>\n",
       "</table>\n",
       "<p>75 rows × 16 columns</p>\n",
       "</div>"
      ],
      "text/plain": [
       "                         title         artist     top genre  year       added  \\\n",
       "0                  Complicated  Avril Lavigne  canadian pop  2002  2020‑03‑05   \n",
       "1                    Sk8er Boi  Avril Lavigne  canadian pop  2002  2020‑03‑05   \n",
       "2                What the Hell  Avril Lavigne  canadian pop  2011  2020‑03‑05   \n",
       "3                   Girlfriend  Avril Lavigne  canadian pop  2007  2020‑03‑05   \n",
       "4             Head Above Water  Avril Lavigne  canadian pop  2019  2020‑03‑05   \n",
       "..                         ...            ...           ...   ...         ...   \n",
       "70                  Black Star  Avril Lavigne  canadian pop  2011  2020‑03‑05   \n",
       "71                      4 Real  Avril Lavigne  canadian pop  2011  2020‑03‑05   \n",
       "72         Sippin' On Sunshine  Avril Lavigne  canadian pop  2013  2020‑03‑05   \n",
       "73                     Goodbye  Avril Lavigne  canadian pop  2011  2020‑03‑05   \n",
       "74  You Ain't Seen Nothin' Yet  Avril Lavigne  canadian pop  2013  2020‑03‑05   \n",
       "\n",
       "    Beats per minute  energy  danceability  Loudness (dB)  liveness  valence  \\\n",
       "0                 78      78            59             -6        30       43   \n",
       "1                150      90            49             -4        36       48   \n",
       "2                150      93            58             -4        14       88   \n",
       "3                164      96            56             -2        21       67   \n",
       "4                130      69            58             -5        10       27   \n",
       "..               ...     ...           ...            ...       ...      ...   \n",
       "70               128      33            54             -9        19       20   \n",
       "71                78      84            52             -6        11       28   \n",
       "72               176      73            55             -7        32       56   \n",
       "73               167      33            18             -7        13       24   \n",
       "74               145      90            56             -4         7       67   \n",
       "\n",
       "    duration  acousticness  speechiness  popularity album  \n",
       "0        245             6            5          76        \n",
       "1        204             0            5          74        \n",
       "2        221             0            5          73        \n",
       "3        217             0           10          72        \n",
       "4        221             1            7          71        \n",
       "..       ...           ...          ...         ...   ...  \n",
       "70        94            61            3          41        \n",
       "71       208             0            3          41        \n",
       "72       209             0           12          41        \n",
       "73       272            72            3          40        \n",
       "74       193             0            6          40        \n",
       "\n",
       "[75 rows x 16 columns]"
      ]
     },
     "execution_count": 8,
     "metadata": {},
     "output_type": "execute_result"
    }
   ],
   "source": [
    "# Add empty 'album' album\n",
    "al_songs.assign(album=\"\")"
   ]
  },
  {
   "cell_type": "code",
   "execution_count": 9,
   "metadata": {},
   "outputs": [],
   "source": [
    "for idx, row in al_songs.iterrows():\n",
    "    album_name = get_album_names(row.title)\n",
    "    al_songs.loc[idx, \"album\"] = album_name"
   ]
  },
  {
   "cell_type": "code",
   "execution_count": 10,
   "metadata": {},
   "outputs": [
    {
     "data": {
      "text/html": [
       "<div>\n",
       "<style scoped>\n",
       "    .dataframe tbody tr th:only-of-type {\n",
       "        vertical-align: middle;\n",
       "    }\n",
       "\n",
       "    .dataframe tbody tr th {\n",
       "        vertical-align: top;\n",
       "    }\n",
       "\n",
       "    .dataframe thead th {\n",
       "        text-align: right;\n",
       "    }\n",
       "</style>\n",
       "<table border=\"1\" class=\"dataframe\">\n",
       "  <thead>\n",
       "    <tr style=\"text-align: right;\">\n",
       "      <th></th>\n",
       "      <th>title</th>\n",
       "      <th>artist</th>\n",
       "      <th>top genre</th>\n",
       "      <th>year</th>\n",
       "      <th>added</th>\n",
       "      <th>Beats per minute</th>\n",
       "      <th>energy</th>\n",
       "      <th>danceability</th>\n",
       "      <th>Loudness (dB)</th>\n",
       "      <th>liveness</th>\n",
       "      <th>valence</th>\n",
       "      <th>duration</th>\n",
       "      <th>acousticness</th>\n",
       "      <th>speechiness</th>\n",
       "      <th>popularity</th>\n",
       "      <th>album</th>\n",
       "    </tr>\n",
       "  </thead>\n",
       "  <tbody>\n",
       "    <tr>\n",
       "      <td>0</td>\n",
       "      <td>Complicated</td>\n",
       "      <td>Avril Lavigne</td>\n",
       "      <td>canadian pop</td>\n",
       "      <td>2002</td>\n",
       "      <td>2020‑03‑05</td>\n",
       "      <td>78</td>\n",
       "      <td>78</td>\n",
       "      <td>59</td>\n",
       "      <td>-6</td>\n",
       "      <td>30</td>\n",
       "      <td>43</td>\n",
       "      <td>245</td>\n",
       "      <td>6</td>\n",
       "      <td>5</td>\n",
       "      <td>76</td>\n",
       "      <td>Let Go</td>\n",
       "    </tr>\n",
       "    <tr>\n",
       "      <td>1</td>\n",
       "      <td>Sk8er Boi</td>\n",
       "      <td>Avril Lavigne</td>\n",
       "      <td>canadian pop</td>\n",
       "      <td>2002</td>\n",
       "      <td>2020‑03‑05</td>\n",
       "      <td>150</td>\n",
       "      <td>90</td>\n",
       "      <td>49</td>\n",
       "      <td>-4</td>\n",
       "      <td>36</td>\n",
       "      <td>48</td>\n",
       "      <td>204</td>\n",
       "      <td>0</td>\n",
       "      <td>5</td>\n",
       "      <td>74</td>\n",
       "      <td>Let Go</td>\n",
       "    </tr>\n",
       "    <tr>\n",
       "      <td>2</td>\n",
       "      <td>What the Hell</td>\n",
       "      <td>Avril Lavigne</td>\n",
       "      <td>canadian pop</td>\n",
       "      <td>2011</td>\n",
       "      <td>2020‑03‑05</td>\n",
       "      <td>150</td>\n",
       "      <td>93</td>\n",
       "      <td>58</td>\n",
       "      <td>-4</td>\n",
       "      <td>14</td>\n",
       "      <td>88</td>\n",
       "      <td>221</td>\n",
       "      <td>0</td>\n",
       "      <td>5</td>\n",
       "      <td>73</td>\n",
       "      <td>Goodbye Lullaby</td>\n",
       "    </tr>\n",
       "    <tr>\n",
       "      <td>3</td>\n",
       "      <td>Girlfriend</td>\n",
       "      <td>Avril Lavigne</td>\n",
       "      <td>canadian pop</td>\n",
       "      <td>2007</td>\n",
       "      <td>2020‑03‑05</td>\n",
       "      <td>164</td>\n",
       "      <td>96</td>\n",
       "      <td>56</td>\n",
       "      <td>-2</td>\n",
       "      <td>21</td>\n",
       "      <td>67</td>\n",
       "      <td>217</td>\n",
       "      <td>0</td>\n",
       "      <td>10</td>\n",
       "      <td>72</td>\n",
       "      <td>The Best Damn Thing</td>\n",
       "    </tr>\n",
       "    <tr>\n",
       "      <td>4</td>\n",
       "      <td>Head Above Water</td>\n",
       "      <td>Avril Lavigne</td>\n",
       "      <td>canadian pop</td>\n",
       "      <td>2019</td>\n",
       "      <td>2020‑03‑05</td>\n",
       "      <td>130</td>\n",
       "      <td>69</td>\n",
       "      <td>58</td>\n",
       "      <td>-5</td>\n",
       "      <td>10</td>\n",
       "      <td>27</td>\n",
       "      <td>221</td>\n",
       "      <td>1</td>\n",
       "      <td>7</td>\n",
       "      <td>71</td>\n",
       "      <td>Head Above Water</td>\n",
       "    </tr>\n",
       "  </tbody>\n",
       "</table>\n",
       "</div>"
      ],
      "text/plain": [
       "              title         artist     top genre  year       added  \\\n",
       "0       Complicated  Avril Lavigne  canadian pop  2002  2020‑03‑05   \n",
       "1         Sk8er Boi  Avril Lavigne  canadian pop  2002  2020‑03‑05   \n",
       "2     What the Hell  Avril Lavigne  canadian pop  2011  2020‑03‑05   \n",
       "3        Girlfriend  Avril Lavigne  canadian pop  2007  2020‑03‑05   \n",
       "4  Head Above Water  Avril Lavigne  canadian pop  2019  2020‑03‑05   \n",
       "\n",
       "   Beats per minute  energy  danceability  Loudness (dB)  liveness  valence  \\\n",
       "0                78      78            59             -6        30       43   \n",
       "1               150      90            49             -4        36       48   \n",
       "2               150      93            58             -4        14       88   \n",
       "3               164      96            56             -2        21       67   \n",
       "4               130      69            58             -5        10       27   \n",
       "\n",
       "   duration  acousticness  speechiness  popularity                album  \n",
       "0       245             6            5          76               Let Go  \n",
       "1       204             0            5          74               Let Go  \n",
       "2       221             0            5          73      Goodbye Lullaby  \n",
       "3       217             0           10          72  The Best Damn Thing  \n",
       "4       221             1            7          71     Head Above Water  "
      ]
     },
     "execution_count": 10,
     "metadata": {},
     "output_type": "execute_result"
    }
   ],
   "source": [
    "al_songs.head()"
   ]
  },
  {
   "cell_type": "code",
   "execution_count": 37,
   "metadata": {},
   "outputs": [],
   "source": [
    "# al_songs.to_csv('al_songs_spotify_data_with_albums.csv', index=False)"
   ]
  },
  {
   "cell_type": "markdown",
   "metadata": {},
   "source": [
    "<img src=\"img/oym_properties.png\" title=\"Properties in the Organize Your Music analysis\" />"
   ]
  },
  {
   "cell_type": "code",
   "execution_count": 12,
   "metadata": {},
   "outputs": [],
   "source": [
    "# Tempo (BPM)\n",
    "chart3 = alt.Chart(al_songs, width=200, height=200).mark_boxplot(opacity=0.7).encode(\n",
    "    x='year:O',\n",
    "    y='Beats per minute:Q',\n",
    "    color=alt.Color('album', sort=['year']),\n",
    "    tooltip=['title', 'Beats per minute']\n",
    ").interactive()\n",
    "\n",
    "# Energy\n",
    "chart4 = alt.Chart(al_songs, width=200, height=200).mark_boxplot(opacity=0.7).encode(\n",
    "    x='year:O',\n",
    "    y='energy:Q',\n",
    "    color=alt.Color('album', sort=['year']),\n",
    "    tooltip=['title', 'energy']\n",
    ").interactive()\n",
    "\n",
    "# Danceability\n",
    "chart5 = alt.Chart(al_songs, width=200, height=200).mark_boxplot(opacity=0.7).encode(\n",
    "    x='year:O',\n",
    "    y='danceability:Q',\n",
    "    color=alt.Color('album', sort=['year']),\n",
    "    tooltip=['title', 'danceability']\n",
    ").interactive()\n",
    "\n",
    "# Positive Mood (Valence)\n",
    "chart6 = alt.Chart(al_songs, width=300, height=300).mark_boxplot(opacity=0.7).encode(\n",
    "    x='year:O',\n",
    "    y='valence:Q',\n",
    "    color=alt.Color('album', sort=['year']),\n",
    "    tooltip=['title', 'valence']\n",
    ").interactive()\n",
    "\n",
    "# Acousticness\n",
    "chart7 = alt.Chart(al_songs, width=300, height=300).mark_boxplot(opacity=0.7).encode(\n",
    "    x='year:O',\n",
    "    y='acousticness:Q',\n",
    "    color=alt.Color('album', sort=['year']),\n",
    "    tooltip=['title', 'acousticness']\n",
    ").interactive()\n",
    "\n",
    "# Speechiness\n",
    "chart8 = alt.Chart(al_songs, width=300, height=300).mark_boxplot(opacity=0.7).encode(\n",
    "    x='year:O',\n",
    "    y='speechiness:Q',\n",
    "    color=alt.Color('album', sort=['year']),\n",
    "    tooltip=['title', 'speechiness']\n",
    ").interactive()\n",
    "\n",
    "# Popularity\n",
    "chart9 = alt.Chart(al_songs, width=300, height=300).mark_boxplot(opacity=0.7).encode(\n",
    "    x='year:O',\n",
    "    y='popularity:Q',\n",
    "    color=alt.Color('album', sort=['year']),\n",
    "    tooltip=['title', 'popularity']\n",
    ").interactive()"
   ]
  },
  {
   "cell_type": "code",
   "execution_count": 13,
   "metadata": {},
   "outputs": [
    {
     "data": {
      "application/javascript": [
       "const spec = {\"config\": {\"view\": {\"width\": 400, \"height\": 300}, \"mark\": {\"tooltip\": null}}, \"hconcat\": [{\"mark\": {\"type\": \"boxplot\", \"opacity\": 0.7}, \"encoding\": {\"color\": {\"type\": \"nominal\", \"field\": \"album\", \"sort\": [\"year\"]}, \"tooltip\": [{\"type\": \"nominal\", \"field\": \"title\"}, {\"type\": \"quantitative\", \"field\": \"Beats per minute\"}], \"x\": {\"type\": \"ordinal\", \"field\": \"year\"}, \"y\": {\"type\": \"quantitative\", \"field\": \"Beats per minute\"}}, \"height\": 200, \"selection\": {\"selector001\": {\"type\": \"interval\", \"bind\": \"scales\", \"encodings\": [\"x\", \"y\"]}}, \"width\": 200}, {\"mark\": {\"type\": \"boxplot\", \"opacity\": 0.7}, \"encoding\": {\"color\": {\"type\": \"nominal\", \"field\": \"album\", \"sort\": [\"year\"]}, \"tooltip\": [{\"type\": \"nominal\", \"field\": \"title\"}, {\"type\": \"quantitative\", \"field\": \"energy\"}], \"x\": {\"type\": \"ordinal\", \"field\": \"year\"}, \"y\": {\"type\": \"quantitative\", \"field\": \"energy\"}}, \"height\": 200, \"selection\": {\"selector002\": {\"type\": \"interval\", \"bind\": \"scales\", \"encodings\": [\"x\", \"y\"]}}, \"width\": 200}, {\"mark\": {\"type\": \"boxplot\", \"opacity\": 0.7}, \"encoding\": {\"color\": {\"type\": \"nominal\", \"field\": \"album\", \"sort\": [\"year\"]}, \"tooltip\": [{\"type\": \"nominal\", \"field\": \"title\"}, {\"type\": \"quantitative\", \"field\": \"danceability\"}], \"x\": {\"type\": \"ordinal\", \"field\": \"year\"}, \"y\": {\"type\": \"quantitative\", \"field\": \"danceability\"}}, \"height\": 200, \"selection\": {\"selector003\": {\"type\": \"interval\", \"bind\": \"scales\", \"encodings\": [\"x\", \"y\"]}}, \"width\": 200}], \"data\": {\"name\": \"data-2f77c806fc60843d4fa6234c96e05c2c\"}, \"$schema\": \"https://vega.github.io/schema/vega-lite/v3.4.0.json\", \"datasets\": {\"data-2f77c806fc60843d4fa6234c96e05c2c\": [{\"title\": \"Complicated\", \"artist\": \"Avril Lavigne\", \"top genre\": \"canadian pop\", \"year\": 2002, \"added\": \"2020\\u201103\\u201105\", \"Beats per minute\": 78, \"energy\": 78, \"danceability\": 59, \"Loudness (dB)\": -6, \"liveness\": 30, \"valence\": 43, \"duration\": 245, \"acousticness\": 6, \"speechiness\": 5, \"popularity\": 76, \"album\": \"Let Go\"}, {\"title\": \"Sk8er Boi\", \"artist\": \"Avril Lavigne\", \"top genre\": \"canadian pop\", \"year\": 2002, \"added\": \"2020\\u201103\\u201105\", \"Beats per minute\": 150, \"energy\": 90, \"danceability\": 49, \"Loudness (dB)\": -4, \"liveness\": 36, \"valence\": 48, \"duration\": 204, \"acousticness\": 0, \"speechiness\": 5, \"popularity\": 74, \"album\": \"Let Go\"}, {\"title\": \"What the Hell\", \"artist\": \"Avril Lavigne\", \"top genre\": \"canadian pop\", \"year\": 2011, \"added\": \"2020\\u201103\\u201105\", \"Beats per minute\": 150, \"energy\": 93, \"danceability\": 58, \"Loudness (dB)\": -4, \"liveness\": 14, \"valence\": 88, \"duration\": 221, \"acousticness\": 0, \"speechiness\": 5, \"popularity\": 73, \"album\": \"Goodbye Lullaby\"}, {\"title\": \"Girlfriend\", \"artist\": \"Avril Lavigne\", \"top genre\": \"canadian pop\", \"year\": 2007, \"added\": \"2020\\u201103\\u201105\", \"Beats per minute\": 164, \"energy\": 96, \"danceability\": 56, \"Loudness (dB)\": -2, \"liveness\": 21, \"valence\": 67, \"duration\": 217, \"acousticness\": 0, \"speechiness\": 10, \"popularity\": 72, \"album\": \"The Best Damn Thing\"}, {\"title\": \"Head Above Water\", \"artist\": \"Avril Lavigne\", \"top genre\": \"canadian pop\", \"year\": 2019, \"added\": \"2020\\u201103\\u201105\", \"Beats per minute\": 130, \"energy\": 69, \"danceability\": 58, \"Loudness (dB)\": -5, \"liveness\": 10, \"valence\": 27, \"duration\": 221, \"acousticness\": 1, \"speechiness\": 7, \"popularity\": 71, \"album\": \"Head Above Water\"}, {\"title\": \"I'm with You\", \"artist\": \"Avril Lavigne\", \"top genre\": \"canadian pop\", \"year\": 2002, \"added\": \"2020\\u201103\\u201105\", \"Beats per minute\": 152, \"energy\": 41, \"danceability\": 46, \"Loudness (dB)\": -7, \"liveness\": 12, \"valence\": 21, \"duration\": 223, \"acousticness\": 8, \"speechiness\": 3, \"popularity\": 69, \"album\": \"Let Go\"}, {\"title\": \"When You're Gone\", \"artist\": \"Avril Lavigne\", \"top genre\": \"canadian pop\", \"year\": 2007, \"added\": \"2020\\u201103\\u201105\", \"Beats per minute\": 142, \"energy\": 72, \"danceability\": 46, \"Loudness (dB)\": -4, \"liveness\": 23, \"valence\": 17, \"duration\": 240, \"acousticness\": 19, \"speechiness\": 3, \"popularity\": 68, \"album\": \"The Best Damn Thing\"}, {\"title\": \"My Happy Ending\", \"artist\": \"Avril Lavigne\", \"top genre\": \"canadian pop\", \"year\": 2004, \"added\": \"2020\\u201103\\u201105\", \"Beats per minute\": 170, \"energy\": 94, \"danceability\": 41, \"Loudness (dB)\": -2, \"liveness\": 37, \"valence\": 74, \"duration\": 242, \"acousticness\": 0, \"speechiness\": 8, \"popularity\": 67, \"album\": \"Under My Skin\"}, {\"title\": \"Here's to Never Growing Up\", \"artist\": \"Avril Lavigne\", \"top genre\": \"canadian pop\", \"year\": 2013, \"added\": \"2020\\u201103\\u201105\", \"Beats per minute\": 165, \"energy\": 87, \"danceability\": 48, \"Loudness (dB)\": -3, \"liveness\": 41, \"valence\": 74, \"duration\": 214, \"acousticness\": 1, \"speechiness\": 9, \"popularity\": 67, \"album\": \"Avril Lavigne\"}, {\"title\": \"Wish You Were Here\", \"artist\": \"Avril Lavigne\", \"top genre\": \"canadian pop\", \"year\": 2011, \"added\": \"2020\\u201103\\u201105\", \"Beats per minute\": 166, \"energy\": 87, \"danceability\": 45, \"Loudness (dB)\": -4, \"liveness\": 19, \"valence\": 34, \"duration\": 226, \"acousticness\": 3, \"speechiness\": 6, \"popularity\": 65, \"album\": \"Goodbye Lullaby\"}, {\"title\": \"Keep Holding On\", \"artist\": \"Avril Lavigne\", \"top genre\": \"canadian pop\", \"year\": 2007, \"added\": \"2020\\u201103\\u201105\", \"Beats per minute\": 161, \"energy\": 79, \"danceability\": 27, \"Loudness (dB)\": -2, \"liveness\": 14, \"valence\": 15, \"duration\": 240, \"acousticness\": 4, \"speechiness\": 3, \"popularity\": 64, \"album\": \"The Best Damn Thing\"}, {\"title\": \"Nobody's Home\", \"artist\": \"Avril Lavigne\", \"top genre\": \"canadian pop\", \"year\": 2004, \"added\": \"2020\\u201103\\u201105\", \"Beats per minute\": 185, \"energy\": 91, \"danceability\": 35, \"Loudness (dB)\": -4, \"liveness\": 16, \"valence\": 18, \"duration\": 212, \"acousticness\": 0, \"speechiness\": 5, \"popularity\": 61, \"album\": \"Under My Skin\"}, {\"title\": \"Smile\", \"artist\": \"Avril Lavigne\", \"top genre\": \"canadian pop\", \"year\": 2011, \"added\": \"2020\\u201103\\u201105\", \"Beats per minute\": 105, \"energy\": 85, \"danceability\": 63, \"Loudness (dB)\": -4, \"liveness\": 7, \"valence\": 65, \"duration\": 210, \"acousticness\": 0, \"speechiness\": 5, \"popularity\": 61, \"album\": \"Goodbye Lullaby\"}, {\"title\": \"Tell Me It's Over\", \"artist\": \"Avril Lavigne\", \"top genre\": \"canadian pop\", \"year\": 2019, \"added\": \"2020\\u201103\\u201105\", \"Beats per minute\": 92, \"energy\": 74, \"danceability\": 55, \"Loudness (dB)\": -4, \"liveness\": 14, \"valence\": 30, \"duration\": 189, \"acousticness\": 4, \"speechiness\": 3, \"popularity\": 60, \"album\": \"Head Above Water\"}, {\"title\": \"Hot\", \"artist\": \"Avril Lavigne\", \"top genre\": \"canadian pop\", \"year\": 2007, \"added\": \"2020\\u201103\\u201105\", \"Beats per minute\": 145, \"energy\": 94, \"danceability\": 60, \"Loudness (dB)\": -4, \"liveness\": 36, \"valence\": 47, \"duration\": 203, \"acousticness\": 2, \"speechiness\": 8, \"popularity\": 59, \"album\": \"The Best Damn Thing\"}, {\"title\": \"Rock N Roll\", \"artist\": \"Avril Lavigne\", \"top genre\": \"canadian pop\", \"year\": 2013, \"added\": \"2020\\u201103\\u201105\", \"Beats per minute\": 184, \"energy\": 96, \"danceability\": 47, \"Loudness (dB)\": -3, \"liveness\": 34, \"valence\": 67, \"duration\": 207, \"acousticness\": 1, \"speechiness\": 13, \"popularity\": 59, \"album\": \"Avril Lavigne\"}, {\"title\": \"Let Me Go (feat. Chad Kroeger)\", \"artist\": \"Avril Lavigne\", \"top genre\": \"canadian pop\", \"year\": 2013, \"added\": \"2020\\u201103\\u201105\", \"Beats per minute\": 164, \"energy\": 65, \"danceability\": 39, \"Loudness (dB)\": -7, \"liveness\": 14, \"valence\": 13, \"duration\": 268, \"acousticness\": 21, \"speechiness\": 3, \"popularity\": 59, \"album\": \"Avril Lavigne\"}, {\"title\": \"Don't Tell Me\", \"artist\": \"Avril Lavigne\", \"top genre\": \"canadian pop\", \"year\": 2004, \"added\": \"2020\\u201103\\u201105\", \"Beats per minute\": 144, \"energy\": 80, \"danceability\": 52, \"Loudness (dB)\": -3, \"liveness\": 36, \"valence\": 48, \"duration\": 202, \"acousticness\": 0, \"speechiness\": 4, \"popularity\": 58, \"album\": \"Under My Skin\"}, {\"title\": \"I Fell In Love With The Devil\", \"artist\": \"Avril Lavigne\", \"top genre\": \"canadian pop\", \"year\": 2019, \"added\": \"2020\\u201103\\u201105\", \"Beats per minute\": 136, \"energy\": 68, \"danceability\": 52, \"Loudness (dB)\": -7, \"liveness\": 20, \"valence\": 22, \"duration\": 256, \"acousticness\": 2, \"speechiness\": 8, \"popularity\": 58, \"album\": \"Head Above Water\"}, {\"title\": \"Losing Grip\", \"artist\": \"Avril Lavigne\", \"top genre\": \"canadian pop\", \"year\": 2002, \"added\": \"2020\\u201103\\u201105\", \"Beats per minute\": 158, \"energy\": 89, \"danceability\": 53, \"Loudness (dB)\": -5, \"liveness\": 8, \"valence\": 58, \"duration\": 234, \"acousticness\": 0, \"speechiness\": 10, \"popularity\": 57, \"album\": \"Let Go\"}, {\"title\": \"Innocence\", \"artist\": \"Avril Lavigne\", \"top genre\": \"canadian pop\", \"year\": 2007, \"added\": \"2020\\u201103\\u201105\", \"Beats per minute\": 138, \"energy\": 71, \"danceability\": 39, \"Loudness (dB)\": -4, \"liveness\": 20, \"valence\": 34, \"duration\": 232, \"acousticness\": 15, \"speechiness\": 3, \"popularity\": 57, \"album\": \"The Best Damn Thing\"}, {\"title\": \"Hello Kitty\", \"artist\": \"Avril Lavigne\", \"top genre\": \"canadian pop\", \"year\": 2013, \"added\": \"2020\\u201103\\u201105\", \"Beats per minute\": 128, \"energy\": 79, \"danceability\": 75, \"Loudness (dB)\": -7, \"liveness\": 65, \"valence\": 59, \"duration\": 196, \"acousticness\": 0, \"speechiness\": 9, \"popularity\": 57, \"album\": \"Avril Lavigne\"}, {\"title\": \"Give You What You Like\", \"artist\": \"Avril Lavigne\", \"top genre\": \"canadian pop\", \"year\": 2013, \"added\": \"2020\\u201103\\u201105\", \"Beats per minute\": 79, \"energy\": 53, \"danceability\": 62, \"Loudness (dB)\": -7, \"liveness\": 11, \"valence\": 39, \"duration\": 225, \"acousticness\": 44, \"speechiness\": 3, \"popularity\": 56, \"album\": \"Avril Lavigne\"}, {\"title\": \"Dumb Blonde (feat. Nicki Minaj)\", \"artist\": \"Avril Lavigne\", \"top genre\": \"canadian pop\", \"year\": 2019, \"added\": \"2020\\u201103\\u201105\", \"Beats per minute\": 110, \"energy\": 85, \"danceability\": 73, \"Loudness (dB)\": -5, \"liveness\": 12, \"valence\": 92, \"duration\": 215, \"acousticness\": 17, \"speechiness\": 8, \"popularity\": 56, \"album\": \"Head Above Water\"}, {\"title\": \"Things I'll Never Say\", \"artist\": \"Avril Lavigne\", \"top genre\": \"canadian pop\", \"year\": 2002, \"added\": \"2020\\u201103\\u201105\", \"Beats per minute\": 102, \"energy\": 81, \"danceability\": 57, \"Loudness (dB)\": -5, \"liveness\": 14, \"valence\": 59, \"duration\": 224, \"acousticness\": 0, \"speechiness\": 3, \"popularity\": 55, \"album\": \"Let Go\"}, {\"title\": \"The Best Damn Thing\", \"artist\": \"Avril Lavigne\", \"top genre\": \"canadian pop\", \"year\": 2007, \"added\": \"2020\\u201103\\u201105\", \"Beats per minute\": 165, \"energy\": 94, \"danceability\": 56, \"Loudness (dB)\": -2, \"liveness\": 15, \"valence\": 88, \"duration\": 189, \"acousticness\": 0, \"speechiness\": 9, \"popularity\": 55, \"album\": \"The Best Damn Thing\"}, {\"title\": \"Tomorrow\", \"artist\": \"Avril Lavigne\", \"top genre\": \"canadian pop\", \"year\": 2002, \"added\": \"2020\\u201103\\u201105\", \"Beats per minute\": 136, \"energy\": 79, \"danceability\": 63, \"Loudness (dB)\": -7, \"liveness\": 16, \"valence\": 61, \"duration\": 229, \"acousticness\": 1, \"speechiness\": 3, \"popularity\": 54, \"album\": \"Let Go\"}, {\"title\": \"Anything but Ordinary\", \"artist\": \"Avril Lavigne\", \"top genre\": \"canadian pop\", \"year\": 2002, \"added\": \"2020\\u201103\\u201105\", \"Beats per minute\": 123, \"energy\": 67, \"danceability\": 65, \"Loudness (dB)\": -6, \"liveness\": 9, \"valence\": 64, \"duration\": 251, \"acousticness\": 4, \"speechiness\": 4, \"popularity\": 54, \"album\": \"Let Go\"}, {\"title\": \"Fall To Pieces\", \"artist\": \"Avril Lavigne\", \"top genre\": \"canadian pop\", \"year\": 2004, \"added\": \"2020\\u201103\\u201105\", \"Beats per minute\": 178, \"energy\": 90, \"danceability\": 43, \"Loudness (dB)\": -3, \"liveness\": 63, \"valence\": 49, \"duration\": 209, \"acousticness\": 0, \"speechiness\": 4, \"popularity\": 54, \"album\": \"Under My Skin\"}, {\"title\": \"Bad Girl (feat. Marilyn Manson)\", \"artist\": \"Avril Lavigne\", \"top genre\": \"canadian pop\", \"year\": 2013, \"added\": \"2020\\u201103\\u201105\", \"Beats per minute\": 158, \"energy\": 94, \"danceability\": 43, \"Loudness (dB)\": -3, \"liveness\": 41, \"valence\": 34, \"duration\": 175, \"acousticness\": 0, \"speechiness\": 14, \"popularity\": 54, \"album\": \"Avril Lavigne\"}, {\"title\": \"Nobody's Fool\", \"artist\": \"Avril Lavigne\", \"top genre\": \"canadian pop\", \"year\": 2002, \"added\": \"2020\\u201103\\u201105\", \"Beats per minute\": 90, \"energy\": 88, \"danceability\": 50, \"Loudness (dB)\": -6, \"liveness\": 13, \"valence\": 46, \"duration\": 237, \"acousticness\": 0, \"speechiness\": 6, \"popularity\": 53, \"album\": \"Let Go\"}, {\"title\": \"Slipped Away\", \"artist\": \"Avril Lavigne\", \"top genre\": \"canadian pop\", \"year\": 2004, \"added\": \"2020\\u201103\\u201105\", \"Beats per minute\": 161, \"energy\": 62, \"danceability\": 45, \"Loudness (dB)\": -4, \"liveness\": 12, \"valence\": 10, \"duration\": 214, \"acousticness\": 0, \"speechiness\": 3, \"popularity\": 53, \"album\": \"Under My Skin\"}, {\"title\": \"Everybody Hurts\", \"artist\": \"Avril Lavigne\", \"top genre\": \"canadian pop\", \"year\": 2011, \"added\": \"2020\\u201103\\u201105\", \"Beats per minute\": 102, \"energy\": 75, \"danceability\": 45, \"Loudness (dB)\": -4, \"liveness\": 12, \"valence\": 36, \"duration\": 222, \"acousticness\": 1, \"speechiness\": 3, \"popularity\": 53, \"album\": \"Goodbye Lullaby\"}, {\"title\": \"Alice - Extended Version\", \"artist\": \"Avril Lavigne\", \"top genre\": \"canadian pop\", \"year\": 2011, \"added\": \"2020\\u201103\\u201105\", \"Beats per minute\": 119, \"energy\": 82, \"danceability\": 54, \"Loudness (dB)\": -4, \"liveness\": 17, \"valence\": 17, \"duration\": 301, \"acousticness\": 5, \"speechiness\": 8, \"popularity\": 53, \"album\": \"Goodbye Lullaby\"}, {\"title\": \"Birdie\", \"artist\": \"Avril Lavigne\", \"top genre\": \"canadian pop\", \"year\": 2019, \"added\": \"2020\\u201103\\u201105\", \"Beats per minute\": 156, \"energy\": 82, \"danceability\": 55, \"Loudness (dB)\": -4, \"liveness\": 26, \"valence\": 45, \"duration\": 215, \"acousticness\": 27, \"speechiness\": 9, \"popularity\": 53, \"album\": \"Head Above Water\"}, {\"title\": \"Warrior\", \"artist\": \"Avril Lavigne\", \"top genre\": \"canadian pop\", \"year\": 2019, \"added\": \"2020\\u201103\\u201105\", \"Beats per minute\": 142, \"energy\": 63, \"danceability\": 46, \"Loudness (dB)\": -5, \"liveness\": 22, \"valence\": 33, \"duration\": 226, \"acousticness\": 31, \"speechiness\": 5, \"popularity\": 53, \"album\": \"Head Above Water\"}, {\"title\": \"Take Me Away\", \"artist\": \"Avril Lavigne\", \"top genre\": \"canadian pop\", \"year\": 2004, \"added\": \"2020\\u201103\\u201105\", \"Beats per minute\": 99, \"energy\": 89, \"danceability\": 51, \"Loudness (dB)\": -2, \"liveness\": 20, \"valence\": 26, \"duration\": 178, \"acousticness\": 0, \"speechiness\": 3, \"popularity\": 52, \"album\": \"Under My Skin\"}, {\"title\": \"He Wasn't\", \"artist\": \"Avril Lavigne\", \"top genre\": \"canadian pop\", \"year\": 2004, \"added\": \"2020\\u201103\\u201105\", \"Beats per minute\": 173, \"energy\": 86, \"danceability\": 41, \"Loudness (dB)\": -4, \"liveness\": 8, \"valence\": 66, \"duration\": 179, \"acousticness\": 0, \"speechiness\": 5, \"popularity\": 52, \"album\": \"Under My Skin\"}, {\"title\": \"Runaway\", \"artist\": \"Avril Lavigne\", \"top genre\": \"canadian pop\", \"year\": 2007, \"added\": \"2020\\u201103\\u201105\", \"Beats per minute\": 135, \"energy\": 94, \"danceability\": 57, \"Loudness (dB)\": -2, \"liveness\": 16, \"valence\": 68, \"duration\": 228, \"acousticness\": 0, \"speechiness\": 5, \"popularity\": 51, \"album\": \"The Best Damn Thing\"}, {\"title\": \"Mobile\", \"artist\": \"Avril Lavigne\", \"top genre\": \"canadian pop\", \"year\": 2002, \"added\": \"2020\\u201103\\u201105\", \"Beats per minute\": 100, \"energy\": 73, \"danceability\": 59, \"Loudness (dB)\": -6, \"liveness\": 11, \"valence\": 63, \"duration\": 212, \"acousticness\": 0, \"speechiness\": 3, \"popularity\": 50, \"album\": \"Let Go\"}, {\"title\": \"Remember When\", \"artist\": \"Avril Lavigne\", \"top genre\": \"canadian pop\", \"year\": 2011, \"added\": \"2020\\u201103\\u201105\", \"Beats per minute\": 148, \"energy\": 53, \"danceability\": 43, \"Loudness (dB)\": -6, \"liveness\": 8, \"valence\": 17, \"duration\": 209, \"acousticness\": 3, \"speechiness\": 3, \"popularity\": 50, \"album\": \"Goodbye Lullaby\"}, {\"title\": \"It Was In Me\", \"artist\": \"Avril Lavigne\", \"top genre\": \"canadian pop\", \"year\": 2019, \"added\": \"2020\\u201103\\u201105\", \"Beats per minute\": 146, \"energy\": 64, \"danceability\": 46, \"Loudness (dB)\": -6, \"liveness\": 11, \"valence\": 22, \"duration\": 223, \"acousticness\": 1, \"speechiness\": 4, \"popularity\": 50, \"album\": \"Head Above Water\"}, {\"title\": \"Unwanted\", \"artist\": \"Avril Lavigne\", \"top genre\": \"canadian pop\", \"year\": 2002, \"added\": \"2020\\u201103\\u201105\", \"Beats per minute\": 162, \"energy\": 84, \"danceability\": 48, \"Loudness (dB)\": -5, \"liveness\": 63, \"valence\": 62, \"duration\": 221, \"acousticness\": 0, \"speechiness\": 6, \"popularity\": 48, \"album\": \"Let Go\"}, {\"title\": \"My World\", \"artist\": \"Avril Lavigne\", \"top genre\": \"canadian pop\", \"year\": 2002, \"added\": \"2020\\u201103\\u201105\", \"Beats per minute\": 103, \"energy\": 92, \"danceability\": 60, \"Loudness (dB)\": -5, \"liveness\": 10, \"valence\": 70, \"duration\": 207, \"acousticness\": 1, \"speechiness\": 5, \"popularity\": 48, \"album\": \"Let Go\"}, {\"title\": \"Crush\", \"artist\": \"Avril Lavigne\", \"top genre\": \"canadian pop\", \"year\": 2019, \"added\": \"2020\\u201103\\u201105\", \"Beats per minute\": 108, \"energy\": 73, \"danceability\": 53, \"Loudness (dB)\": -5, \"liveness\": 11, \"valence\": 29, \"duration\": 214, \"acousticness\": 9, \"speechiness\": 6, \"popularity\": 48, \"album\": \"Head Above Water\"}, {\"title\": \"Goddess\", \"artist\": \"Avril Lavigne\", \"top genre\": \"canadian pop\", \"year\": 2019, \"added\": \"2020\\u201103\\u201105\", \"Beats per minute\": 74, \"energy\": 51, \"danceability\": 47, \"Loudness (dB)\": -7, \"liveness\": 8, \"valence\": 50, \"duration\": 221, \"acousticness\": 31, \"speechiness\": 6, \"popularity\": 48, \"album\": \"Head Above Water\"}, {\"title\": \"Naked\", \"artist\": \"Avril Lavigne\", \"top genre\": \"canadian pop\", \"year\": 2002, \"added\": \"2020\\u201103\\u201105\", \"Beats per minute\": 82, \"energy\": 77, \"danceability\": 52, \"Loudness (dB)\": -6, \"liveness\": 10, \"valence\": 46, \"duration\": 209, \"acousticness\": 0, \"speechiness\": 4, \"popularity\": 47, \"album\": \"Let Go\"}, {\"title\": \"I Can Do Better\", \"artist\": \"Avril Lavigne\", \"top genre\": \"canadian pop\", \"year\": 2007, \"added\": \"2020\\u201103\\u201105\", \"Beats per minute\": 172, \"energy\": 98, \"danceability\": 44, \"Loudness (dB)\": -3, \"liveness\": 72, \"valence\": 27, \"duration\": 195, \"acousticness\": 0, \"speechiness\": 17, \"popularity\": 47, \"album\": \"The Best Damn Thing\"}, {\"title\": \"Souvenir\", \"artist\": \"Avril Lavigne\", \"top genre\": \"canadian pop\", \"year\": 2019, \"added\": \"2020\\u201103\\u201105\", \"Beats per minute\": 180, \"energy\": 74, \"danceability\": 49, \"Loudness (dB)\": -4, \"liveness\": 9, \"valence\": 42, \"duration\": 178, \"acousticness\": 41, \"speechiness\": 7, \"popularity\": 47, \"album\": \"Head Above Water\"}, {\"title\": \"Too Much to Ask\", \"artist\": \"Avril Lavigne\", \"top genre\": \"canadian pop\", \"year\": 2002, \"added\": \"2020\\u201103\\u201105\", \"Beats per minute\": 147, \"energy\": 70, \"danceability\": 50, \"Loudness (dB)\": -7, \"liveness\": 10, \"valence\": 41, \"duration\": 225, \"acousticness\": 1, \"speechiness\": 3, \"popularity\": 46, \"album\": \"Let Go\"}, {\"title\": \"Together\", \"artist\": \"Avril Lavigne\", \"top genre\": \"canadian pop\", \"year\": 2004, \"added\": \"2020\\u201103\\u201105\", \"Beats per minute\": 82, \"energy\": 86, \"danceability\": 44, \"Loudness (dB)\": -3, \"liveness\": 23, \"valence\": 30, \"duration\": 195, \"acousticness\": 0, \"speechiness\": 4, \"popularity\": 46, \"album\": \"Under My Skin\"}, {\"title\": \"Bigger Wow\", \"artist\": \"Avril Lavigne\", \"top genre\": \"canadian pop\", \"year\": 2019, \"added\": \"2020\\u201103\\u201105\", \"Beats per minute\": 103, \"energy\": 68, \"danceability\": 75, \"Loudness (dB)\": -5, \"liveness\": 6, \"valence\": 85, \"duration\": 175, \"acousticness\": 7, \"speechiness\": 3, \"popularity\": 46, \"album\": \"Head Above Water\"}, {\"title\": \"Love Me Insane\", \"artist\": \"Avril Lavigne\", \"top genre\": \"canadian pop\", \"year\": 2019, \"added\": \"2020\\u201103\\u201105\", \"Beats per minute\": 154, \"energy\": 53, \"danceability\": 68, \"Loudness (dB)\": -6, \"liveness\": 31, \"valence\": 56, \"duration\": 181, \"acousticness\": 7, \"speechiness\": 8, \"popularity\": 46, \"album\": \"Head Above Water\"}, {\"title\": \"How Does It Feel\", \"artist\": \"Avril Lavigne\", \"top genre\": \"canadian pop\", \"year\": 2004, \"added\": \"2020\\u201103\\u201105\", \"Beats per minute\": 118, \"energy\": 58, \"danceability\": 65, \"Loudness (dB)\": -5, \"liveness\": 12, \"valence\": 34, \"duration\": 225, \"acousticness\": 2, \"speechiness\": 3, \"popularity\": 45, \"album\": \"Under My Skin\"}, {\"title\": \"Forgotten\", \"artist\": \"Avril Lavigne\", \"top genre\": \"canadian pop\", \"year\": 2004, \"added\": \"2020\\u201103\\u201105\", \"Beats per minute\": 132, \"energy\": 68, \"danceability\": 57, \"Loudness (dB)\": -3, \"liveness\": 21, \"valence\": 35, \"duration\": 197, \"acousticness\": 0, \"speechiness\": 3, \"popularity\": 45, \"album\": \"Under My Skin\"}, {\"title\": \"Who Knows\", \"artist\": \"Avril Lavigne\", \"top genre\": \"canadian pop\", \"year\": 2004, \"added\": \"2020\\u201103\\u201105\", \"Beats per minute\": 162, \"energy\": 81, \"danceability\": 45, \"Loudness (dB)\": -3, \"liveness\": 11, \"valence\": 37, \"duration\": 210, \"acousticness\": 0, \"speechiness\": 4, \"popularity\": 45, \"album\": \"Under My Skin\"}, {\"title\": \"Hush Hush\", \"artist\": \"Avril Lavigne\", \"top genre\": \"canadian pop\", \"year\": 2013, \"added\": \"2020\\u201103\\u201105\", \"Beats per minute\": 148, \"energy\": 79, \"danceability\": 49, \"Loudness (dB)\": -7, \"liveness\": 15, \"valence\": 19, \"duration\": 239, \"acousticness\": 17, \"speechiness\": 6, \"popularity\": 45, \"album\": \"Avril Lavigne\"}, {\"title\": \"Freak Out\", \"artist\": \"Avril Lavigne\", \"top genre\": \"canadian pop\", \"year\": 2004, \"added\": \"2020\\u201103\\u201105\", \"Beats per minute\": 160, \"energy\": 89, \"danceability\": 46, \"Loudness (dB)\": -2, \"liveness\": 12, \"valence\": 68, \"duration\": 192, \"acousticness\": 0, \"speechiness\": 7, \"popularity\": 44, \"album\": \"Under My Skin\"}, {\"title\": \"Everything Back But You\", \"artist\": \"Avril Lavigne\", \"top genre\": \"canadian pop\", \"year\": 2007, \"added\": \"2020\\u201103\\u201105\", \"Beats per minute\": 130, \"energy\": 97, \"danceability\": 54, \"Loudness (dB)\": -3, \"liveness\": 38, \"valence\": 48, \"duration\": 182, \"acousticness\": 0, \"speechiness\": 17, \"popularity\": 44, \"album\": \"The Best Damn Thing\"}, {\"title\": \"Contagious\", \"artist\": \"Avril Lavigne\", \"top genre\": \"canadian pop\", \"year\": 2007, \"added\": \"2020\\u201103\\u201105\", \"Beats per minute\": 158, \"energy\": 91, \"danceability\": 45, \"Loudness (dB)\": -4, \"liveness\": 32, \"valence\": 44, \"duration\": 129, \"acousticness\": 0, \"speechiness\": 5, \"popularity\": 44, \"album\": \"The Best Damn Thing\"}, {\"title\": \"17\", \"artist\": \"Avril Lavigne\", \"top genre\": \"canadian pop\", \"year\": 2013, \"added\": \"2020\\u201103\\u201105\", \"Beats per minute\": 140, \"energy\": 90, \"danceability\": 68, \"Loudness (dB)\": -4, \"liveness\": 7, \"valence\": 94, \"duration\": 205, \"acousticness\": 1, \"speechiness\": 5, \"popularity\": 44, \"album\": \"Avril Lavigne\"}, {\"title\": \"Push\", \"artist\": \"Avril Lavigne\", \"top genre\": \"canadian pop\", \"year\": 2011, \"added\": \"2020\\u201103\\u201105\", \"Beats per minute\": 184, \"energy\": 68, \"danceability\": 52, \"Loudness (dB)\": -5, \"liveness\": 8, \"valence\": 47, \"duration\": 181, \"acousticness\": 1, \"speechiness\": 9, \"popularity\": 43, \"album\": \"Goodbye Lullaby\"}, {\"title\": \"Bitchin' Summer\", \"artist\": \"Avril Lavigne\", \"top genre\": \"canadian pop\", \"year\": 2013, \"added\": \"2020\\u201103\\u201105\", \"Beats per minute\": 174, \"energy\": 67, \"danceability\": 56, \"Loudness (dB)\": -5, \"liveness\": 6, \"valence\": 46, \"duration\": 211, \"acousticness\": 2, \"speechiness\": 6, \"popularity\": 43, \"album\": \"Avril Lavigne\"}, {\"title\": \"Falling Fast\", \"artist\": \"Avril Lavigne\", \"top genre\": \"canadian pop\", \"year\": 2013, \"added\": \"2020\\u201103\\u201105\", \"Beats per minute\": 174, \"energy\": 43, \"danceability\": 50, \"Loudness (dB)\": -9, \"liveness\": 14, \"valence\": 42, \"duration\": 194, \"acousticness\": 49, \"speechiness\": 4, \"popularity\": 43, \"album\": \"Avril Lavigne\"}, {\"title\": \"I Don't Have To Try\", \"artist\": \"Avril Lavigne\", \"top genre\": \"canadian pop\", \"year\": 2007, \"added\": \"2020\\u201103\\u201105\", \"Beats per minute\": 212, \"energy\": 97, \"danceability\": 42, \"Loudness (dB)\": -3, \"liveness\": 8, \"valence\": 25, \"duration\": 197, \"acousticness\": 0, \"speechiness\": 35, \"popularity\": 42, \"album\": \"The Best Damn Thing\"}, {\"title\": \"One of Those Girls\", \"artist\": \"Avril Lavigne\", \"top genre\": \"canadian pop\", \"year\": 2007, \"added\": \"2020\\u201103\\u201105\", \"Beats per minute\": 92, \"energy\": 93, \"danceability\": 51, \"Loudness (dB)\": -3, \"liveness\": 15, \"valence\": 74, \"duration\": 175, \"acousticness\": 0, \"speechiness\": 4, \"popularity\": 42, \"album\": \"The Best Damn Thing\"}, {\"title\": \"Stop Standing There\", \"artist\": \"Avril Lavigne\", \"top genre\": \"canadian pop\", \"year\": 2011, \"added\": \"2020\\u201103\\u201105\", \"Beats per minute\": 142, \"energy\": 89, \"danceability\": 64, \"Loudness (dB)\": -5, \"liveness\": 7, \"valence\": 91, \"duration\": 207, \"acousticness\": 0, \"speechiness\": 5, \"popularity\": 42, \"album\": \"Goodbye Lullaby\"}, {\"title\": \"Not Enough\", \"artist\": \"Avril Lavigne\", \"top genre\": \"canadian pop\", \"year\": 2011, \"added\": \"2020\\u201103\\u201105\", \"Beats per minute\": 136, \"energy\": 88, \"danceability\": 52, \"Loudness (dB)\": -4, \"liveness\": 10, \"valence\": 24, \"duration\": 259, \"acousticness\": 0, \"speechiness\": 4, \"popularity\": 42, \"album\": \"Goodbye Lullaby\"}, {\"title\": \"Darlin\", \"artist\": \"Avril Lavigne\", \"top genre\": \"canadian pop\", \"year\": 2011, \"added\": \"2020\\u201103\\u201105\", \"Beats per minute\": 179, \"energy\": 58, \"danceability\": 37, \"Loudness (dB)\": -5, \"liveness\": 8, \"valence\": 40, \"duration\": 231, \"acousticness\": 21, \"speechiness\": 3, \"popularity\": 42, \"album\": \"Goodbye Lullaby\"}, {\"title\": \"Hello Heartache\", \"artist\": \"Avril Lavigne\", \"top genre\": \"canadian pop\", \"year\": 2013, \"added\": \"2020\\u201103\\u201105\", \"Beats per minute\": 174, \"energy\": 76, \"danceability\": 51, \"Loudness (dB)\": -4, \"liveness\": 34, \"valence\": 59, \"duration\": 229, \"acousticness\": 9, \"speechiness\": 4, \"popularity\": 42, \"album\": \"Avril Lavigne\"}, {\"title\": \"Black Star\", \"artist\": \"Avril Lavigne\", \"top genre\": \"canadian pop\", \"year\": 2011, \"added\": \"2020\\u201103\\u201105\", \"Beats per minute\": 128, \"energy\": 33, \"danceability\": 54, \"Loudness (dB)\": -9, \"liveness\": 19, \"valence\": 20, \"duration\": 94, \"acousticness\": 61, \"speechiness\": 3, \"popularity\": 41, \"album\": \"Goodbye Lullaby\"}, {\"title\": \"4 Real\", \"artist\": \"Avril Lavigne\", \"top genre\": \"canadian pop\", \"year\": 2011, \"added\": \"2020\\u201103\\u201105\", \"Beats per minute\": 78, \"energy\": 84, \"danceability\": 52, \"Loudness (dB)\": -6, \"liveness\": 11, \"valence\": 28, \"duration\": 208, \"acousticness\": 0, \"speechiness\": 3, \"popularity\": 41, \"album\": \"Goodbye Lullaby\"}, {\"title\": \"Sippin' On Sunshine\", \"artist\": \"Avril Lavigne\", \"top genre\": \"canadian pop\", \"year\": 2013, \"added\": \"2020\\u201103\\u201105\", \"Beats per minute\": 176, \"energy\": 73, \"danceability\": 55, \"Loudness (dB)\": -7, \"liveness\": 32, \"valence\": 56, \"duration\": 209, \"acousticness\": 0, \"speechiness\": 12, \"popularity\": 41, \"album\": \"Avril Lavigne\"}, {\"title\": \"Goodbye\", \"artist\": \"Avril Lavigne\", \"top genre\": \"canadian pop\", \"year\": 2011, \"added\": \"2020\\u201103\\u201105\", \"Beats per minute\": 167, \"energy\": 33, \"danceability\": 18, \"Loudness (dB)\": -7, \"liveness\": 13, \"valence\": 24, \"duration\": 272, \"acousticness\": 72, \"speechiness\": 3, \"popularity\": 40, \"album\": \"Goodbye Lullaby\"}, {\"title\": \"You Ain't Seen Nothin' Yet\", \"artist\": \"Avril Lavigne\", \"top genre\": \"canadian pop\", \"year\": 2013, \"added\": \"2020\\u201103\\u201105\", \"Beats per minute\": 145, \"energy\": 90, \"danceability\": 56, \"Loudness (dB)\": -4, \"liveness\": 7, \"valence\": 67, \"duration\": 193, \"acousticness\": 0, \"speechiness\": 6, \"popularity\": 40, \"album\": \"Avril Lavigne\"}]}};\n",
       "const opt = {};\n",
       "const type = \"vega-lite\";\n",
       "const id = \"3e2a923d-abdf-4cad-aff8-16c29fab9c40\";\n",
       "\n",
       "const output_area = this;\n",
       "\n",
       "require([\"nbextensions/jupyter-vega/index\"], function(vega) {\n",
       "  const target = document.createElement(\"div\");\n",
       "  target.id = id;\n",
       "  target.className = \"vega-embed\";\n",
       "\n",
       "  const style = document.createElement(\"style\");\n",
       "  style.textContent = [\n",
       "    \".vega-embed .error p {\",\n",
       "    \"  color: firebrick;\",\n",
       "    \"  font-size: 14px;\",\n",
       "    \"}\",\n",
       "  ].join(\"\\\\n\");\n",
       "\n",
       "  // element is a jQuery wrapped DOM element inside the output area\n",
       "  // see http://ipython.readthedocs.io/en/stable/api/generated/\\\n",
       "  // IPython.display.html#IPython.display.Javascript.__init__\n",
       "  element[0].appendChild(target);\n",
       "  element[0].appendChild(style);\n",
       "\n",
       "  vega.render(\"#\" + id, spec, type, opt, output_area);\n",
       "}, function (err) {\n",
       "  if (err.requireType !== \"scripterror\") {\n",
       "    throw(err);\n",
       "  }\n",
       "});\n"
      ],
      "text/plain": [
       "<vega.vegalite.VegaLite at 0x7f08a5f9a048>"
      ]
     },
     "metadata": {
      "jupyter-vega": "#3e2a923d-abdf-4cad-aff8-16c29fab9c40"
     },
     "output_type": "display_data"
    },
    {
     "data": {
      "text/plain": []
     },
     "execution_count": 13,
     "metadata": {},
     "output_type": "execute_result"
    },
    {
     "data": {
      "image/png": "[encoded data removed]"
     },
     "metadata": {
      "jupyter-vega": "#3e2a923d-abdf-4cad-aff8-16c29fab9c40"
     },
     "output_type": "display_data"
    }
   ],
   "source": [
    "# Tempo (BPM) | Energy | Danceability\n",
    "chart3 | chart4 | chart5"
   ]
  },
  {
   "cell_type": "code",
   "execution_count": 43,
   "metadata": {},
   "outputs": [],
   "source": [
    "# alt.hconcat(chart3, chart4, chart5).save('plots/charts345.json')\n",
    "# alt.hconcat(chart3, chart4, chart5).save('plots/charts345.html')"
   ]
  },
  {
   "cell_type": "code",
   "execution_count": 14,
   "metadata": {},
   "outputs": [
    {
     "data": {
      "application/javascript": [
       "const spec = {\"config\": {\"view\": {\"width\": 400, \"height\": 300}, \"mark\": {\"tooltip\": null}}, \"hconcat\": [{\"mark\": {\"type\": \"boxplot\", \"opacity\": 0.7}, \"encoding\": {\"color\": {\"type\": \"nominal\", \"field\": \"album\", \"sort\": [\"year\"]}, \"tooltip\": [{\"type\": \"nominal\", \"field\": \"title\"}, {\"type\": \"quantitative\", \"field\": \"valence\"}], \"x\": {\"type\": \"ordinal\", \"field\": \"year\"}, \"y\": {\"type\": \"quantitative\", \"field\": \"valence\"}}, \"height\": 300, \"selection\": {\"selector004\": {\"type\": \"interval\", \"bind\": \"scales\", \"encodings\": [\"x\", \"y\"]}}, \"width\": 300}, {\"mark\": {\"type\": \"boxplot\", \"opacity\": 0.7}, \"encoding\": {\"color\": {\"type\": \"nominal\", \"field\": \"album\", \"sort\": [\"year\"]}, \"tooltip\": [{\"type\": \"nominal\", \"field\": \"title\"}, {\"type\": \"quantitative\", \"field\": \"acousticness\"}], \"x\": {\"type\": \"ordinal\", \"field\": \"year\"}, \"y\": {\"type\": \"quantitative\", \"field\": \"acousticness\"}}, \"height\": 300, \"selection\": {\"selector005\": {\"type\": \"interval\", \"bind\": \"scales\", \"encodings\": [\"x\", \"y\"]}}, \"width\": 300}], \"data\": {\"name\": \"data-2f77c806fc60843d4fa6234c96e05c2c\"}, \"$schema\": \"https://vega.github.io/schema/vega-lite/v3.4.0.json\", \"datasets\": {\"data-2f77c806fc60843d4fa6234c96e05c2c\": [{\"title\": \"Complicated\", \"artist\": \"Avril Lavigne\", \"top genre\": \"canadian pop\", \"year\": 2002, \"added\": \"2020\\u201103\\u201105\", \"Beats per minute\": 78, \"energy\": 78, \"danceability\": 59, \"Loudness (dB)\": -6, \"liveness\": 30, \"valence\": 43, \"duration\": 245, \"acousticness\": 6, \"speechiness\": 5, \"popularity\": 76, \"album\": \"Let Go\"}, {\"title\": \"Sk8er Boi\", \"artist\": \"Avril Lavigne\", \"top genre\": \"canadian pop\", \"year\": 2002, \"added\": \"2020\\u201103\\u201105\", \"Beats per minute\": 150, \"energy\": 90, \"danceability\": 49, \"Loudness (dB)\": -4, \"liveness\": 36, \"valence\": 48, \"duration\": 204, \"acousticness\": 0, \"speechiness\": 5, \"popularity\": 74, \"album\": \"Let Go\"}, {\"title\": \"What the Hell\", \"artist\": \"Avril Lavigne\", \"top genre\": \"canadian pop\", \"year\": 2011, \"added\": \"2020\\u201103\\u201105\", \"Beats per minute\": 150, \"energy\": 93, \"danceability\": 58, \"Loudness (dB)\": -4, \"liveness\": 14, \"valence\": 88, \"duration\": 221, \"acousticness\": 0, \"speechiness\": 5, \"popularity\": 73, \"album\": \"Goodbye Lullaby\"}, {\"title\": \"Girlfriend\", \"artist\": \"Avril Lavigne\", \"top genre\": \"canadian pop\", \"year\": 2007, \"added\": \"2020\\u201103\\u201105\", \"Beats per minute\": 164, \"energy\": 96, \"danceability\": 56, \"Loudness (dB)\": -2, \"liveness\": 21, \"valence\": 67, \"duration\": 217, \"acousticness\": 0, \"speechiness\": 10, \"popularity\": 72, \"album\": \"The Best Damn Thing\"}, {\"title\": \"Head Above Water\", \"artist\": \"Avril Lavigne\", \"top genre\": \"canadian pop\", \"year\": 2019, \"added\": \"2020\\u201103\\u201105\", \"Beats per minute\": 130, \"energy\": 69, \"danceability\": 58, \"Loudness (dB)\": -5, \"liveness\": 10, \"valence\": 27, \"duration\": 221, \"acousticness\": 1, \"speechiness\": 7, \"popularity\": 71, \"album\": \"Head Above Water\"}, {\"title\": \"I'm with You\", \"artist\": \"Avril Lavigne\", \"top genre\": \"canadian pop\", \"year\": 2002, \"added\": \"2020\\u201103\\u201105\", \"Beats per minute\": 152, \"energy\": 41, \"danceability\": 46, \"Loudness (dB)\": -7, \"liveness\": 12, \"valence\": 21, \"duration\": 223, \"acousticness\": 8, \"speechiness\": 3, \"popularity\": 69, \"album\": \"Let Go\"}, {\"title\": \"When You're Gone\", \"artist\": \"Avril Lavigne\", \"top genre\": \"canadian pop\", \"year\": 2007, \"added\": \"2020\\u201103\\u201105\", \"Beats per minute\": 142, \"energy\": 72, \"danceability\": 46, \"Loudness (dB)\": -4, \"liveness\": 23, \"valence\": 17, \"duration\": 240, \"acousticness\": 19, \"speechiness\": 3, \"popularity\": 68, \"album\": \"The Best Damn Thing\"}, {\"title\": \"My Happy Ending\", \"artist\": \"Avril Lavigne\", \"top genre\": \"canadian pop\", \"year\": 2004, \"added\": \"2020\\u201103\\u201105\", \"Beats per minute\": 170, \"energy\": 94, \"danceability\": 41, \"Loudness (dB)\": -2, \"liveness\": 37, \"valence\": 74, \"duration\": 242, \"acousticness\": 0, \"speechiness\": 8, \"popularity\": 67, \"album\": \"Under My Skin\"}, {\"title\": \"Here's to Never Growing Up\", \"artist\": \"Avril Lavigne\", \"top genre\": \"canadian pop\", \"year\": 2013, \"added\": \"2020\\u201103\\u201105\", \"Beats per minute\": 165, \"energy\": 87, \"danceability\": 48, \"Loudness (dB)\": -3, \"liveness\": 41, \"valence\": 74, \"duration\": 214, \"acousticness\": 1, \"speechiness\": 9, \"popularity\": 67, \"album\": \"Avril Lavigne\"}, {\"title\": \"Wish You Were Here\", \"artist\": \"Avril Lavigne\", \"top genre\": \"canadian pop\", \"year\": 2011, \"added\": \"2020\\u201103\\u201105\", \"Beats per minute\": 166, \"energy\": 87, \"danceability\": 45, \"Loudness (dB)\": -4, \"liveness\": 19, \"valence\": 34, \"duration\": 226, \"acousticness\": 3, \"speechiness\": 6, \"popularity\": 65, \"album\": \"Goodbye Lullaby\"}, {\"title\": \"Keep Holding On\", \"artist\": \"Avril Lavigne\", \"top genre\": \"canadian pop\", \"year\": 2007, \"added\": \"2020\\u201103\\u201105\", \"Beats per minute\": 161, \"energy\": 79, \"danceability\": 27, \"Loudness (dB)\": -2, \"liveness\": 14, \"valence\": 15, \"duration\": 240, \"acousticness\": 4, \"speechiness\": 3, \"popularity\": 64, \"album\": \"The Best Damn Thing\"}, {\"title\": \"Nobody's Home\", \"artist\": \"Avril Lavigne\", \"top genre\": \"canadian pop\", \"year\": 2004, \"added\": \"2020\\u201103\\u201105\", \"Beats per minute\": 185, \"energy\": 91, \"danceability\": 35, \"Loudness (dB)\": -4, \"liveness\": 16, \"valence\": 18, \"duration\": 212, \"acousticness\": 0, \"speechiness\": 5, \"popularity\": 61, \"album\": \"Under My Skin\"}, {\"title\": \"Smile\", \"artist\": \"Avril Lavigne\", \"top genre\": \"canadian pop\", \"year\": 2011, \"added\": \"2020\\u201103\\u201105\", \"Beats per minute\": 105, \"energy\": 85, \"danceability\": 63, \"Loudness (dB)\": -4, \"liveness\": 7, \"valence\": 65, \"duration\": 210, \"acousticness\": 0, \"speechiness\": 5, \"popularity\": 61, \"album\": \"Goodbye Lullaby\"}, {\"title\": \"Tell Me It's Over\", \"artist\": \"Avril Lavigne\", \"top genre\": \"canadian pop\", \"year\": 2019, \"added\": \"2020\\u201103\\u201105\", \"Beats per minute\": 92, \"energy\": 74, \"danceability\": 55, \"Loudness (dB)\": -4, \"liveness\": 14, \"valence\": 30, \"duration\": 189, \"acousticness\": 4, \"speechiness\": 3, \"popularity\": 60, \"album\": \"Head Above Water\"}, {\"title\": \"Hot\", \"artist\": \"Avril Lavigne\", \"top genre\": \"canadian pop\", \"year\": 2007, \"added\": \"2020\\u201103\\u201105\", \"Beats per minute\": 145, \"energy\": 94, \"danceability\": 60, \"Loudness (dB)\": -4, \"liveness\": 36, \"valence\": 47, \"duration\": 203, \"acousticness\": 2, \"speechiness\": 8, \"popularity\": 59, \"album\": \"The Best Damn Thing\"}, {\"title\": \"Rock N Roll\", \"artist\": \"Avril Lavigne\", \"top genre\": \"canadian pop\", \"year\": 2013, \"added\": \"2020\\u201103\\u201105\", \"Beats per minute\": 184, \"energy\": 96, \"danceability\": 47, \"Loudness (dB)\": -3, \"liveness\": 34, \"valence\": 67, \"duration\": 207, \"acousticness\": 1, \"speechiness\": 13, \"popularity\": 59, \"album\": \"Avril Lavigne\"}, {\"title\": \"Let Me Go (feat. Chad Kroeger)\", \"artist\": \"Avril Lavigne\", \"top genre\": \"canadian pop\", \"year\": 2013, \"added\": \"2020\\u201103\\u201105\", \"Beats per minute\": 164, \"energy\": 65, \"danceability\": 39, \"Loudness (dB)\": -7, \"liveness\": 14, \"valence\": 13, \"duration\": 268, \"acousticness\": 21, \"speechiness\": 3, \"popularity\": 59, \"album\": \"Avril Lavigne\"}, {\"title\": \"Don't Tell Me\", \"artist\": \"Avril Lavigne\", \"top genre\": \"canadian pop\", \"year\": 2004, \"added\": \"2020\\u201103\\u201105\", \"Beats per minute\": 144, \"energy\": 80, \"danceability\": 52, \"Loudness (dB)\": -3, \"liveness\": 36, \"valence\": 48, \"duration\": 202, \"acousticness\": 0, \"speechiness\": 4, \"popularity\": 58, \"album\": \"Under My Skin\"}, {\"title\": \"I Fell In Love With The Devil\", \"artist\": \"Avril Lavigne\", \"top genre\": \"canadian pop\", \"year\": 2019, \"added\": \"2020\\u201103\\u201105\", \"Beats per minute\": 136, \"energy\": 68, \"danceability\": 52, \"Loudness (dB)\": -7, \"liveness\": 20, \"valence\": 22, \"duration\": 256, \"acousticness\": 2, \"speechiness\": 8, \"popularity\": 58, \"album\": \"Head Above Water\"}, {\"title\": \"Losing Grip\", \"artist\": \"Avril Lavigne\", \"top genre\": \"canadian pop\", \"year\": 2002, \"added\": \"2020\\u201103\\u201105\", \"Beats per minute\": 158, \"energy\": 89, \"danceability\": 53, \"Loudness (dB)\": -5, \"liveness\": 8, \"valence\": 58, \"duration\": 234, \"acousticness\": 0, \"speechiness\": 10, \"popularity\": 57, \"album\": \"Let Go\"}, {\"title\": \"Innocence\", \"artist\": \"Avril Lavigne\", \"top genre\": \"canadian pop\", \"year\": 2007, \"added\": \"2020\\u201103\\u201105\", \"Beats per minute\": 138, \"energy\": 71, \"danceability\": 39, \"Loudness (dB)\": -4, \"liveness\": 20, \"valence\": 34, \"duration\": 232, \"acousticness\": 15, \"speechiness\": 3, \"popularity\": 57, \"album\": \"The Best Damn Thing\"}, {\"title\": \"Hello Kitty\", \"artist\": \"Avril Lavigne\", \"top genre\": \"canadian pop\", \"year\": 2013, \"added\": \"2020\\u201103\\u201105\", \"Beats per minute\": 128, \"energy\": 79, \"danceability\": 75, \"Loudness (dB)\": -7, \"liveness\": 65, \"valence\": 59, \"duration\": 196, \"acousticness\": 0, \"speechiness\": 9, \"popularity\": 57, \"album\": \"Avril Lavigne\"}, {\"title\": \"Give You What You Like\", \"artist\": \"Avril Lavigne\", \"top genre\": \"canadian pop\", \"year\": 2013, \"added\": \"2020\\u201103\\u201105\", \"Beats per minute\": 79, \"energy\": 53, \"danceability\": 62, \"Loudness (dB)\": -7, \"liveness\": 11, \"valence\": 39, \"duration\": 225, \"acousticness\": 44, \"speechiness\": 3, \"popularity\": 56, \"album\": \"Avril Lavigne\"}, {\"title\": \"Dumb Blonde (feat. Nicki Minaj)\", \"artist\": \"Avril Lavigne\", \"top genre\": \"canadian pop\", \"year\": 2019, \"added\": \"2020\\u201103\\u201105\", \"Beats per minute\": 110, \"energy\": 85, \"danceability\": 73, \"Loudness (dB)\": -5, \"liveness\": 12, \"valence\": 92, \"duration\": 215, \"acousticness\": 17, \"speechiness\": 8, \"popularity\": 56, \"album\": \"Head Above Water\"}, {\"title\": \"Things I'll Never Say\", \"artist\": \"Avril Lavigne\", \"top genre\": \"canadian pop\", \"year\": 2002, \"added\": \"2020\\u201103\\u201105\", \"Beats per minute\": 102, \"energy\": 81, \"danceability\": 57, \"Loudness (dB)\": -5, \"liveness\": 14, \"valence\": 59, \"duration\": 224, \"acousticness\": 0, \"speechiness\": 3, \"popularity\": 55, \"album\": \"Let Go\"}, {\"title\": \"The Best Damn Thing\", \"artist\": \"Avril Lavigne\", \"top genre\": \"canadian pop\", \"year\": 2007, \"added\": \"2020\\u201103\\u201105\", \"Beats per minute\": 165, \"energy\": 94, \"danceability\": 56, \"Loudness (dB)\": -2, \"liveness\": 15, \"valence\": 88, \"duration\": 189, \"acousticness\": 0, \"speechiness\": 9, \"popularity\": 55, \"album\": \"The Best Damn Thing\"}, {\"title\": \"Tomorrow\", \"artist\": \"Avril Lavigne\", \"top genre\": \"canadian pop\", \"year\": 2002, \"added\": \"2020\\u201103\\u201105\", \"Beats per minute\": 136, \"energy\": 79, \"danceability\": 63, \"Loudness (dB)\": -7, \"liveness\": 16, \"valence\": 61, \"duration\": 229, \"acousticness\": 1, \"speechiness\": 3, \"popularity\": 54, \"album\": \"Let Go\"}, {\"title\": \"Anything but Ordinary\", \"artist\": \"Avril Lavigne\", \"top genre\": \"canadian pop\", \"year\": 2002, \"added\": \"2020\\u201103\\u201105\", \"Beats per minute\": 123, \"energy\": 67, \"danceability\": 65, \"Loudness (dB)\": -6, \"liveness\": 9, \"valence\": 64, \"duration\": 251, \"acousticness\": 4, \"speechiness\": 4, \"popularity\": 54, \"album\": \"Let Go\"}, {\"title\": \"Fall To Pieces\", \"artist\": \"Avril Lavigne\", \"top genre\": \"canadian pop\", \"year\": 2004, \"added\": \"2020\\u201103\\u201105\", \"Beats per minute\": 178, \"energy\": 90, \"danceability\": 43, \"Loudness (dB)\": -3, \"liveness\": 63, \"valence\": 49, \"duration\": 209, \"acousticness\": 0, \"speechiness\": 4, \"popularity\": 54, \"album\": \"Under My Skin\"}, {\"title\": \"Bad Girl (feat. Marilyn Manson)\", \"artist\": \"Avril Lavigne\", \"top genre\": \"canadian pop\", \"year\": 2013, \"added\": \"2020\\u201103\\u201105\", \"Beats per minute\": 158, \"energy\": 94, \"danceability\": 43, \"Loudness (dB)\": -3, \"liveness\": 41, \"valence\": 34, \"duration\": 175, \"acousticness\": 0, \"speechiness\": 14, \"popularity\": 54, \"album\": \"Avril Lavigne\"}, {\"title\": \"Nobody's Fool\", \"artist\": \"Avril Lavigne\", \"top genre\": \"canadian pop\", \"year\": 2002, \"added\": \"2020\\u201103\\u201105\", \"Beats per minute\": 90, \"energy\": 88, \"danceability\": 50, \"Loudness (dB)\": -6, \"liveness\": 13, \"valence\": 46, \"duration\": 237, \"acousticness\": 0, \"speechiness\": 6, \"popularity\": 53, \"album\": \"Let Go\"}, {\"title\": \"Slipped Away\", \"artist\": \"Avril Lavigne\", \"top genre\": \"canadian pop\", \"year\": 2004, \"added\": \"2020\\u201103\\u201105\", \"Beats per minute\": 161, \"energy\": 62, \"danceability\": 45, \"Loudness (dB)\": -4, \"liveness\": 12, \"valence\": 10, \"duration\": 214, \"acousticness\": 0, \"speechiness\": 3, \"popularity\": 53, \"album\": \"Under My Skin\"}, {\"title\": \"Everybody Hurts\", \"artist\": \"Avril Lavigne\", \"top genre\": \"canadian pop\", \"year\": 2011, \"added\": \"2020\\u201103\\u201105\", \"Beats per minute\": 102, \"energy\": 75, \"danceability\": 45, \"Loudness (dB)\": -4, \"liveness\": 12, \"valence\": 36, \"duration\": 222, \"acousticness\": 1, \"speechiness\": 3, \"popularity\": 53, \"album\": \"Goodbye Lullaby\"}, {\"title\": \"Alice - Extended Version\", \"artist\": \"Avril Lavigne\", \"top genre\": \"canadian pop\", \"year\": 2011, \"added\": \"2020\\u201103\\u201105\", \"Beats per minute\": 119, \"energy\": 82, \"danceability\": 54, \"Loudness (dB)\": -4, \"liveness\": 17, \"valence\": 17, \"duration\": 301, \"acousticness\": 5, \"speechiness\": 8, \"popularity\": 53, \"album\": \"Goodbye Lullaby\"}, {\"title\": \"Birdie\", \"artist\": \"Avril Lavigne\", \"top genre\": \"canadian pop\", \"year\": 2019, \"added\": \"2020\\u201103\\u201105\", \"Beats per minute\": 156, \"energy\": 82, \"danceability\": 55, \"Loudness (dB)\": -4, \"liveness\": 26, \"valence\": 45, \"duration\": 215, \"acousticness\": 27, \"speechiness\": 9, \"popularity\": 53, \"album\": \"Head Above Water\"}, {\"title\": \"Warrior\", \"artist\": \"Avril Lavigne\", \"top genre\": \"canadian pop\", \"year\": 2019, \"added\": \"2020\\u201103\\u201105\", \"Beats per minute\": 142, \"energy\": 63, \"danceability\": 46, \"Loudness (dB)\": -5, \"liveness\": 22, \"valence\": 33, \"duration\": 226, \"acousticness\": 31, \"speechiness\": 5, \"popularity\": 53, \"album\": \"Head Above Water\"}, {\"title\": \"Take Me Away\", \"artist\": \"Avril Lavigne\", \"top genre\": \"canadian pop\", \"year\": 2004, \"added\": \"2020\\u201103\\u201105\", \"Beats per minute\": 99, \"energy\": 89, \"danceability\": 51, \"Loudness (dB)\": -2, \"liveness\": 20, \"valence\": 26, \"duration\": 178, \"acousticness\": 0, \"speechiness\": 3, \"popularity\": 52, \"album\": \"Under My Skin\"}, {\"title\": \"He Wasn't\", \"artist\": \"Avril Lavigne\", \"top genre\": \"canadian pop\", \"year\": 2004, \"added\": \"2020\\u201103\\u201105\", \"Beats per minute\": 173, \"energy\": 86, \"danceability\": 41, \"Loudness (dB)\": -4, \"liveness\": 8, \"valence\": 66, \"duration\": 179, \"acousticness\": 0, \"speechiness\": 5, \"popularity\": 52, \"album\": \"Under My Skin\"}, {\"title\": \"Runaway\", \"artist\": \"Avril Lavigne\", \"top genre\": \"canadian pop\", \"year\": 2007, \"added\": \"2020\\u201103\\u201105\", \"Beats per minute\": 135, \"energy\": 94, \"danceability\": 57, \"Loudness (dB)\": -2, \"liveness\": 16, \"valence\": 68, \"duration\": 228, \"acousticness\": 0, \"speechiness\": 5, \"popularity\": 51, \"album\": \"The Best Damn Thing\"}, {\"title\": \"Mobile\", \"artist\": \"Avril Lavigne\", \"top genre\": \"canadian pop\", \"year\": 2002, \"added\": \"2020\\u201103\\u201105\", \"Beats per minute\": 100, \"energy\": 73, \"danceability\": 59, \"Loudness (dB)\": -6, \"liveness\": 11, \"valence\": 63, \"duration\": 212, \"acousticness\": 0, \"speechiness\": 3, \"popularity\": 50, \"album\": \"Let Go\"}, {\"title\": \"Remember When\", \"artist\": \"Avril Lavigne\", \"top genre\": \"canadian pop\", \"year\": 2011, \"added\": \"2020\\u201103\\u201105\", \"Beats per minute\": 148, \"energy\": 53, \"danceability\": 43, \"Loudness (dB)\": -6, \"liveness\": 8, \"valence\": 17, \"duration\": 209, \"acousticness\": 3, \"speechiness\": 3, \"popularity\": 50, \"album\": \"Goodbye Lullaby\"}, {\"title\": \"It Was In Me\", \"artist\": \"Avril Lavigne\", \"top genre\": \"canadian pop\", \"year\": 2019, \"added\": \"2020\\u201103\\u201105\", \"Beats per minute\": 146, \"energy\": 64, \"danceability\": 46, \"Loudness (dB)\": -6, \"liveness\": 11, \"valence\": 22, \"duration\": 223, \"acousticness\": 1, \"speechiness\": 4, \"popularity\": 50, \"album\": \"Head Above Water\"}, {\"title\": \"Unwanted\", \"artist\": \"Avril Lavigne\", \"top genre\": \"canadian pop\", \"year\": 2002, \"added\": \"2020\\u201103\\u201105\", \"Beats per minute\": 162, \"energy\": 84, \"danceability\": 48, \"Loudness (dB)\": -5, \"liveness\": 63, \"valence\": 62, \"duration\": 221, \"acousticness\": 0, \"speechiness\": 6, \"popularity\": 48, \"album\": \"Let Go\"}, {\"title\": \"My World\", \"artist\": \"Avril Lavigne\", \"top genre\": \"canadian pop\", \"year\": 2002, \"added\": \"2020\\u201103\\u201105\", \"Beats per minute\": 103, \"energy\": 92, \"danceability\": 60, \"Loudness (dB)\": -5, \"liveness\": 10, \"valence\": 70, \"duration\": 207, \"acousticness\": 1, \"speechiness\": 5, \"popularity\": 48, \"album\": \"Let Go\"}, {\"title\": \"Crush\", \"artist\": \"Avril Lavigne\", \"top genre\": \"canadian pop\", \"year\": 2019, \"added\": \"2020\\u201103\\u201105\", \"Beats per minute\": 108, \"energy\": 73, \"danceability\": 53, \"Loudness (dB)\": -5, \"liveness\": 11, \"valence\": 29, \"duration\": 214, \"acousticness\": 9, \"speechiness\": 6, \"popularity\": 48, \"album\": \"Head Above Water\"}, {\"title\": \"Goddess\", \"artist\": \"Avril Lavigne\", \"top genre\": \"canadian pop\", \"year\": 2019, \"added\": \"2020\\u201103\\u201105\", \"Beats per minute\": 74, \"energy\": 51, \"danceability\": 47, \"Loudness (dB)\": -7, \"liveness\": 8, \"valence\": 50, \"duration\": 221, \"acousticness\": 31, \"speechiness\": 6, \"popularity\": 48, \"album\": \"Head Above Water\"}, {\"title\": \"Naked\", \"artist\": \"Avril Lavigne\", \"top genre\": \"canadian pop\", \"year\": 2002, \"added\": \"2020\\u201103\\u201105\", \"Beats per minute\": 82, \"energy\": 77, \"danceability\": 52, \"Loudness (dB)\": -6, \"liveness\": 10, \"valence\": 46, \"duration\": 209, \"acousticness\": 0, \"speechiness\": 4, \"popularity\": 47, \"album\": \"Let Go\"}, {\"title\": \"I Can Do Better\", \"artist\": \"Avril Lavigne\", \"top genre\": \"canadian pop\", \"year\": 2007, \"added\": \"2020\\u201103\\u201105\", \"Beats per minute\": 172, \"energy\": 98, \"danceability\": 44, \"Loudness (dB)\": -3, \"liveness\": 72, \"valence\": 27, \"duration\": 195, \"acousticness\": 0, \"speechiness\": 17, \"popularity\": 47, \"album\": \"The Best Damn Thing\"}, {\"title\": \"Souvenir\", \"artist\": \"Avril Lavigne\", \"top genre\": \"canadian pop\", \"year\": 2019, \"added\": \"2020\\u201103\\u201105\", \"Beats per minute\": 180, \"energy\": 74, \"danceability\": 49, \"Loudness (dB)\": -4, \"liveness\": 9, \"valence\": 42, \"duration\": 178, \"acousticness\": 41, \"speechiness\": 7, \"popularity\": 47, \"album\": \"Head Above Water\"}, {\"title\": \"Too Much to Ask\", \"artist\": \"Avril Lavigne\", \"top genre\": \"canadian pop\", \"year\": 2002, \"added\": \"2020\\u201103\\u201105\", \"Beats per minute\": 147, \"energy\": 70, \"danceability\": 50, \"Loudness (dB)\": -7, \"liveness\": 10, \"valence\": 41, \"duration\": 225, \"acousticness\": 1, \"speechiness\": 3, \"popularity\": 46, \"album\": \"Let Go\"}, {\"title\": \"Together\", \"artist\": \"Avril Lavigne\", \"top genre\": \"canadian pop\", \"year\": 2004, \"added\": \"2020\\u201103\\u201105\", \"Beats per minute\": 82, \"energy\": 86, \"danceability\": 44, \"Loudness (dB)\": -3, \"liveness\": 23, \"valence\": 30, \"duration\": 195, \"acousticness\": 0, \"speechiness\": 4, \"popularity\": 46, \"album\": \"Under My Skin\"}, {\"title\": \"Bigger Wow\", \"artist\": \"Avril Lavigne\", \"top genre\": \"canadian pop\", \"year\": 2019, \"added\": \"2020\\u201103\\u201105\", \"Beats per minute\": 103, \"energy\": 68, \"danceability\": 75, \"Loudness (dB)\": -5, \"liveness\": 6, \"valence\": 85, \"duration\": 175, \"acousticness\": 7, \"speechiness\": 3, \"popularity\": 46, \"album\": \"Head Above Water\"}, {\"title\": \"Love Me Insane\", \"artist\": \"Avril Lavigne\", \"top genre\": \"canadian pop\", \"year\": 2019, \"added\": \"2020\\u201103\\u201105\", \"Beats per minute\": 154, \"energy\": 53, \"danceability\": 68, \"Loudness (dB)\": -6, \"liveness\": 31, \"valence\": 56, \"duration\": 181, \"acousticness\": 7, \"speechiness\": 8, \"popularity\": 46, \"album\": \"Head Above Water\"}, {\"title\": \"How Does It Feel\", \"artist\": \"Avril Lavigne\", \"top genre\": \"canadian pop\", \"year\": 2004, \"added\": \"2020\\u201103\\u201105\", \"Beats per minute\": 118, \"energy\": 58, \"danceability\": 65, \"Loudness (dB)\": -5, \"liveness\": 12, \"valence\": 34, \"duration\": 225, \"acousticness\": 2, \"speechiness\": 3, \"popularity\": 45, \"album\": \"Under My Skin\"}, {\"title\": \"Forgotten\", \"artist\": \"Avril Lavigne\", \"top genre\": \"canadian pop\", \"year\": 2004, \"added\": \"2020\\u201103\\u201105\", \"Beats per minute\": 132, \"energy\": 68, \"danceability\": 57, \"Loudness (dB)\": -3, \"liveness\": 21, \"valence\": 35, \"duration\": 197, \"acousticness\": 0, \"speechiness\": 3, \"popularity\": 45, \"album\": \"Under My Skin\"}, {\"title\": \"Who Knows\", \"artist\": \"Avril Lavigne\", \"top genre\": \"canadian pop\", \"year\": 2004, \"added\": \"2020\\u201103\\u201105\", \"Beats per minute\": 162, \"energy\": 81, \"danceability\": 45, \"Loudness (dB)\": -3, \"liveness\": 11, \"valence\": 37, \"duration\": 210, \"acousticness\": 0, \"speechiness\": 4, \"popularity\": 45, \"album\": \"Under My Skin\"}, {\"title\": \"Hush Hush\", \"artist\": \"Avril Lavigne\", \"top genre\": \"canadian pop\", \"year\": 2013, \"added\": \"2020\\u201103\\u201105\", \"Beats per minute\": 148, \"energy\": 79, \"danceability\": 49, \"Loudness (dB)\": -7, \"liveness\": 15, \"valence\": 19, \"duration\": 239, \"acousticness\": 17, \"speechiness\": 6, \"popularity\": 45, \"album\": \"Avril Lavigne\"}, {\"title\": \"Freak Out\", \"artist\": \"Avril Lavigne\", \"top genre\": \"canadian pop\", \"year\": 2004, \"added\": \"2020\\u201103\\u201105\", \"Beats per minute\": 160, \"energy\": 89, \"danceability\": 46, \"Loudness (dB)\": -2, \"liveness\": 12, \"valence\": 68, \"duration\": 192, \"acousticness\": 0, \"speechiness\": 7, \"popularity\": 44, \"album\": \"Under My Skin\"}, {\"title\": \"Everything Back But You\", \"artist\": \"Avril Lavigne\", \"top genre\": \"canadian pop\", \"year\": 2007, \"added\": \"2020\\u201103\\u201105\", \"Beats per minute\": 130, \"energy\": 97, \"danceability\": 54, \"Loudness (dB)\": -3, \"liveness\": 38, \"valence\": 48, \"duration\": 182, \"acousticness\": 0, \"speechiness\": 17, \"popularity\": 44, \"album\": \"The Best Damn Thing\"}, {\"title\": \"Contagious\", \"artist\": \"Avril Lavigne\", \"top genre\": \"canadian pop\", \"year\": 2007, \"added\": \"2020\\u201103\\u201105\", \"Beats per minute\": 158, \"energy\": 91, \"danceability\": 45, \"Loudness (dB)\": -4, \"liveness\": 32, \"valence\": 44, \"duration\": 129, \"acousticness\": 0, \"speechiness\": 5, \"popularity\": 44, \"album\": \"The Best Damn Thing\"}, {\"title\": \"17\", \"artist\": \"Avril Lavigne\", \"top genre\": \"canadian pop\", \"year\": 2013, \"added\": \"2020\\u201103\\u201105\", \"Beats per minute\": 140, \"energy\": 90, \"danceability\": 68, \"Loudness (dB)\": -4, \"liveness\": 7, \"valence\": 94, \"duration\": 205, \"acousticness\": 1, \"speechiness\": 5, \"popularity\": 44, \"album\": \"Avril Lavigne\"}, {\"title\": \"Push\", \"artist\": \"Avril Lavigne\", \"top genre\": \"canadian pop\", \"year\": 2011, \"added\": \"2020\\u201103\\u201105\", \"Beats per minute\": 184, \"energy\": 68, \"danceability\": 52, \"Loudness (dB)\": -5, \"liveness\": 8, \"valence\": 47, \"duration\": 181, \"acousticness\": 1, \"speechiness\": 9, \"popularity\": 43, \"album\": \"Goodbye Lullaby\"}, {\"title\": \"Bitchin' Summer\", \"artist\": \"Avril Lavigne\", \"top genre\": \"canadian pop\", \"year\": 2013, \"added\": \"2020\\u201103\\u201105\", \"Beats per minute\": 174, \"energy\": 67, \"danceability\": 56, \"Loudness (dB)\": -5, \"liveness\": 6, \"valence\": 46, \"duration\": 211, \"acousticness\": 2, \"speechiness\": 6, \"popularity\": 43, \"album\": \"Avril Lavigne\"}, {\"title\": \"Falling Fast\", \"artist\": \"Avril Lavigne\", \"top genre\": \"canadian pop\", \"year\": 2013, \"added\": \"2020\\u201103\\u201105\", \"Beats per minute\": 174, \"energy\": 43, \"danceability\": 50, \"Loudness (dB)\": -9, \"liveness\": 14, \"valence\": 42, \"duration\": 194, \"acousticness\": 49, \"speechiness\": 4, \"popularity\": 43, \"album\": \"Avril Lavigne\"}, {\"title\": \"I Don't Have To Try\", \"artist\": \"Avril Lavigne\", \"top genre\": \"canadian pop\", \"year\": 2007, \"added\": \"2020\\u201103\\u201105\", \"Beats per minute\": 212, \"energy\": 97, \"danceability\": 42, \"Loudness (dB)\": -3, \"liveness\": 8, \"valence\": 25, \"duration\": 197, \"acousticness\": 0, \"speechiness\": 35, \"popularity\": 42, \"album\": \"The Best Damn Thing\"}, {\"title\": \"One of Those Girls\", \"artist\": \"Avril Lavigne\", \"top genre\": \"canadian pop\", \"year\": 2007, \"added\": \"2020\\u201103\\u201105\", \"Beats per minute\": 92, \"energy\": 93, \"danceability\": 51, \"Loudness (dB)\": -3, \"liveness\": 15, \"valence\": 74, \"duration\": 175, \"acousticness\": 0, \"speechiness\": 4, \"popularity\": 42, \"album\": \"The Best Damn Thing\"}, {\"title\": \"Stop Standing There\", \"artist\": \"Avril Lavigne\", \"top genre\": \"canadian pop\", \"year\": 2011, \"added\": \"2020\\u201103\\u201105\", \"Beats per minute\": 142, \"energy\": 89, \"danceability\": 64, \"Loudness (dB)\": -5, \"liveness\": 7, \"valence\": 91, \"duration\": 207, \"acousticness\": 0, \"speechiness\": 5, \"popularity\": 42, \"album\": \"Goodbye Lullaby\"}, {\"title\": \"Not Enough\", \"artist\": \"Avril Lavigne\", \"top genre\": \"canadian pop\", \"year\": 2011, \"added\": \"2020\\u201103\\u201105\", \"Beats per minute\": 136, \"energy\": 88, \"danceability\": 52, \"Loudness (dB)\": -4, \"liveness\": 10, \"valence\": 24, \"duration\": 259, \"acousticness\": 0, \"speechiness\": 4, \"popularity\": 42, \"album\": \"Goodbye Lullaby\"}, {\"title\": \"Darlin\", \"artist\": \"Avril Lavigne\", \"top genre\": \"canadian pop\", \"year\": 2011, \"added\": \"2020\\u201103\\u201105\", \"Beats per minute\": 179, \"energy\": 58, \"danceability\": 37, \"Loudness (dB)\": -5, \"liveness\": 8, \"valence\": 40, \"duration\": 231, \"acousticness\": 21, \"speechiness\": 3, \"popularity\": 42, \"album\": \"Goodbye Lullaby\"}, {\"title\": \"Hello Heartache\", \"artist\": \"Avril Lavigne\", \"top genre\": \"canadian pop\", \"year\": 2013, \"added\": \"2020\\u201103\\u201105\", \"Beats per minute\": 174, \"energy\": 76, \"danceability\": 51, \"Loudness (dB)\": -4, \"liveness\": 34, \"valence\": 59, \"duration\": 229, \"acousticness\": 9, \"speechiness\": 4, \"popularity\": 42, \"album\": \"Avril Lavigne\"}, {\"title\": \"Black Star\", \"artist\": \"Avril Lavigne\", \"top genre\": \"canadian pop\", \"year\": 2011, \"added\": \"2020\\u201103\\u201105\", \"Beats per minute\": 128, \"energy\": 33, \"danceability\": 54, \"Loudness (dB)\": -9, \"liveness\": 19, \"valence\": 20, \"duration\": 94, \"acousticness\": 61, \"speechiness\": 3, \"popularity\": 41, \"album\": \"Goodbye Lullaby\"}, {\"title\": \"4 Real\", \"artist\": \"Avril Lavigne\", \"top genre\": \"canadian pop\", \"year\": 2011, \"added\": \"2020\\u201103\\u201105\", \"Beats per minute\": 78, \"energy\": 84, \"danceability\": 52, \"Loudness (dB)\": -6, \"liveness\": 11, \"valence\": 28, \"duration\": 208, \"acousticness\": 0, \"speechiness\": 3, \"popularity\": 41, \"album\": \"Goodbye Lullaby\"}, {\"title\": \"Sippin' On Sunshine\", \"artist\": \"Avril Lavigne\", \"top genre\": \"canadian pop\", \"year\": 2013, \"added\": \"2020\\u201103\\u201105\", \"Beats per minute\": 176, \"energy\": 73, \"danceability\": 55, \"Loudness (dB)\": -7, \"liveness\": 32, \"valence\": 56, \"duration\": 209, \"acousticness\": 0, \"speechiness\": 12, \"popularity\": 41, \"album\": \"Avril Lavigne\"}, {\"title\": \"Goodbye\", \"artist\": \"Avril Lavigne\", \"top genre\": \"canadian pop\", \"year\": 2011, \"added\": \"2020\\u201103\\u201105\", \"Beats per minute\": 167, \"energy\": 33, \"danceability\": 18, \"Loudness (dB)\": -7, \"liveness\": 13, \"valence\": 24, \"duration\": 272, \"acousticness\": 72, \"speechiness\": 3, \"popularity\": 40, \"album\": \"Goodbye Lullaby\"}, {\"title\": \"You Ain't Seen Nothin' Yet\", \"artist\": \"Avril Lavigne\", \"top genre\": \"canadian pop\", \"year\": 2013, \"added\": \"2020\\u201103\\u201105\", \"Beats per minute\": 145, \"energy\": 90, \"danceability\": 56, \"Loudness (dB)\": -4, \"liveness\": 7, \"valence\": 67, \"duration\": 193, \"acousticness\": 0, \"speechiness\": 6, \"popularity\": 40, \"album\": \"Avril Lavigne\"}]}};\n",
       "const opt = {};\n",
       "const type = \"vega-lite\";\n",
       "const id = \"aa4ca31f-6619-4cd8-9ac5-5521ab2dd904\";\n",
       "\n",
       "const output_area = this;\n",
       "\n",
       "require([\"nbextensions/jupyter-vega/index\"], function(vega) {\n",
       "  const target = document.createElement(\"div\");\n",
       "  target.id = id;\n",
       "  target.className = \"vega-embed\";\n",
       "\n",
       "  const style = document.createElement(\"style\");\n",
       "  style.textContent = [\n",
       "    \".vega-embed .error p {\",\n",
       "    \"  color: firebrick;\",\n",
       "    \"  font-size: 14px;\",\n",
       "    \"}\",\n",
       "  ].join(\"\\\\n\");\n",
       "\n",
       "  // element is a jQuery wrapped DOM element inside the output area\n",
       "  // see http://ipython.readthedocs.io/en/stable/api/generated/\\\n",
       "  // IPython.display.html#IPython.display.Javascript.__init__\n",
       "  element[0].appendChild(target);\n",
       "  element[0].appendChild(style);\n",
       "\n",
       "  vega.render(\"#\" + id, spec, type, opt, output_area);\n",
       "}, function (err) {\n",
       "  if (err.requireType !== \"scripterror\") {\n",
       "    throw(err);\n",
       "  }\n",
       "});\n"
      ],
      "text/plain": [
       "<vega.vegalite.VegaLite at 0x7f08dc9a6630>"
      ]
     },
     "metadata": {
      "jupyter-vega": "#aa4ca31f-6619-4cd8-9ac5-5521ab2dd904"
     },
     "output_type": "display_data"
    },
    {
     "data": {
      "text/plain": []
     },
     "execution_count": 14,
     "metadata": {},
     "output_type": "execute_result"
    },
    {
     "data": {
      "image/png": "[encoded data removed]"
     },
     "metadata": {
      "jupyter-vega": "#aa4ca31f-6619-4cd8-9ac5-5521ab2dd904"
     },
     "output_type": "display_data"
    }
   ],
   "source": [
    "# Positive Mood (Valence) | # Acousticness\n",
    "chart6 | chart7"
   ]
  },
  {
   "cell_type": "code",
   "execution_count": 44,
   "metadata": {},
   "outputs": [],
   "source": [
    "# alt.hconcat(chart6, chart7).save('plots/charts67.json')\n",
    "# alt.hconcat(chart6, chart7).save('plots/charts67.html')"
   ]
  },
  {
   "cell_type": "code",
   "execution_count": 15,
   "metadata": {},
   "outputs": [
    {
     "data": {
      "application/javascript": [
       "const spec = {\"config\": {\"view\": {\"width\": 400, \"height\": 300}, \"mark\": {\"tooltip\": null}}, \"hconcat\": [{\"mark\": {\"type\": \"boxplot\", \"opacity\": 0.7}, \"encoding\": {\"color\": {\"type\": \"nominal\", \"field\": \"album\", \"sort\": [\"year\"]}, \"tooltip\": [{\"type\": \"nominal\", \"field\": \"title\"}, {\"type\": \"quantitative\", \"field\": \"speechiness\"}], \"x\": {\"type\": \"ordinal\", \"field\": \"year\"}, \"y\": {\"type\": \"quantitative\", \"field\": \"speechiness\"}}, \"height\": 300, \"selection\": {\"selector006\": {\"type\": \"interval\", \"bind\": \"scales\", \"encodings\": [\"x\", \"y\"]}}, \"width\": 300}, {\"mark\": {\"type\": \"boxplot\", \"opacity\": 0.7}, \"encoding\": {\"color\": {\"type\": \"nominal\", \"field\": \"album\", \"sort\": [\"year\"]}, \"tooltip\": [{\"type\": \"nominal\", \"field\": \"title\"}, {\"type\": \"quantitative\", \"field\": \"popularity\"}], \"x\": {\"type\": \"ordinal\", \"field\": \"year\"}, \"y\": {\"type\": \"quantitative\", \"field\": \"popularity\"}}, \"height\": 300, \"selection\": {\"selector007\": {\"type\": \"interval\", \"bind\": \"scales\", \"encodings\": [\"x\", \"y\"]}}, \"width\": 300}], \"data\": {\"name\": \"data-2f77c806fc60843d4fa6234c96e05c2c\"}, \"$schema\": \"https://vega.github.io/schema/vega-lite/v3.4.0.json\", \"datasets\": {\"data-2f77c806fc60843d4fa6234c96e05c2c\": [{\"title\": \"Complicated\", \"artist\": \"Avril Lavigne\", \"top genre\": \"canadian pop\", \"year\": 2002, \"added\": \"2020\\u201103\\u201105\", \"Beats per minute\": 78, \"energy\": 78, \"danceability\": 59, \"Loudness (dB)\": -6, \"liveness\": 30, \"valence\": 43, \"duration\": 245, \"acousticness\": 6, \"speechiness\": 5, \"popularity\": 76, \"album\": \"Let Go\"}, {\"title\": \"Sk8er Boi\", \"artist\": \"Avril Lavigne\", \"top genre\": \"canadian pop\", \"year\": 2002, \"added\": \"2020\\u201103\\u201105\", \"Beats per minute\": 150, \"energy\": 90, \"danceability\": 49, \"Loudness (dB)\": -4, \"liveness\": 36, \"valence\": 48, \"duration\": 204, \"acousticness\": 0, \"speechiness\": 5, \"popularity\": 74, \"album\": \"Let Go\"}, {\"title\": \"What the Hell\", \"artist\": \"Avril Lavigne\", \"top genre\": \"canadian pop\", \"year\": 2011, \"added\": \"2020\\u201103\\u201105\", \"Beats per minute\": 150, \"energy\": 93, \"danceability\": 58, \"Loudness (dB)\": -4, \"liveness\": 14, \"valence\": 88, \"duration\": 221, \"acousticness\": 0, \"speechiness\": 5, \"popularity\": 73, \"album\": \"Goodbye Lullaby\"}, {\"title\": \"Girlfriend\", \"artist\": \"Avril Lavigne\", \"top genre\": \"canadian pop\", \"year\": 2007, \"added\": \"2020\\u201103\\u201105\", \"Beats per minute\": 164, \"energy\": 96, \"danceability\": 56, \"Loudness (dB)\": -2, \"liveness\": 21, \"valence\": 67, \"duration\": 217, \"acousticness\": 0, \"speechiness\": 10, \"popularity\": 72, \"album\": \"The Best Damn Thing\"}, {\"title\": \"Head Above Water\", \"artist\": \"Avril Lavigne\", \"top genre\": \"canadian pop\", \"year\": 2019, \"added\": \"2020\\u201103\\u201105\", \"Beats per minute\": 130, \"energy\": 69, \"danceability\": 58, \"Loudness (dB)\": -5, \"liveness\": 10, \"valence\": 27, \"duration\": 221, \"acousticness\": 1, \"speechiness\": 7, \"popularity\": 71, \"album\": \"Head Above Water\"}, {\"title\": \"I'm with You\", \"artist\": \"Avril Lavigne\", \"top genre\": \"canadian pop\", \"year\": 2002, \"added\": \"2020\\u201103\\u201105\", \"Beats per minute\": 152, \"energy\": 41, \"danceability\": 46, \"Loudness (dB)\": -7, \"liveness\": 12, \"valence\": 21, \"duration\": 223, \"acousticness\": 8, \"speechiness\": 3, \"popularity\": 69, \"album\": \"Let Go\"}, {\"title\": \"When You're Gone\", \"artist\": \"Avril Lavigne\", \"top genre\": \"canadian pop\", \"year\": 2007, \"added\": \"2020\\u201103\\u201105\", \"Beats per minute\": 142, \"energy\": 72, \"danceability\": 46, \"Loudness (dB)\": -4, \"liveness\": 23, \"valence\": 17, \"duration\": 240, \"acousticness\": 19, \"speechiness\": 3, \"popularity\": 68, \"album\": \"The Best Damn Thing\"}, {\"title\": \"My Happy Ending\", \"artist\": \"Avril Lavigne\", \"top genre\": \"canadian pop\", \"year\": 2004, \"added\": \"2020\\u201103\\u201105\", \"Beats per minute\": 170, \"energy\": 94, \"danceability\": 41, \"Loudness (dB)\": -2, \"liveness\": 37, \"valence\": 74, \"duration\": 242, \"acousticness\": 0, \"speechiness\": 8, \"popularity\": 67, \"album\": \"Under My Skin\"}, {\"title\": \"Here's to Never Growing Up\", \"artist\": \"Avril Lavigne\", \"top genre\": \"canadian pop\", \"year\": 2013, \"added\": \"2020\\u201103\\u201105\", \"Beats per minute\": 165, \"energy\": 87, \"danceability\": 48, \"Loudness (dB)\": -3, \"liveness\": 41, \"valence\": 74, \"duration\": 214, \"acousticness\": 1, \"speechiness\": 9, \"popularity\": 67, \"album\": \"Avril Lavigne\"}, {\"title\": \"Wish You Were Here\", \"artist\": \"Avril Lavigne\", \"top genre\": \"canadian pop\", \"year\": 2011, \"added\": \"2020\\u201103\\u201105\", \"Beats per minute\": 166, \"energy\": 87, \"danceability\": 45, \"Loudness (dB)\": -4, \"liveness\": 19, \"valence\": 34, \"duration\": 226, \"acousticness\": 3, \"speechiness\": 6, \"popularity\": 65, \"album\": \"Goodbye Lullaby\"}, {\"title\": \"Keep Holding On\", \"artist\": \"Avril Lavigne\", \"top genre\": \"canadian pop\", \"year\": 2007, \"added\": \"2020\\u201103\\u201105\", \"Beats per minute\": 161, \"energy\": 79, \"danceability\": 27, \"Loudness (dB)\": -2, \"liveness\": 14, \"valence\": 15, \"duration\": 240, \"acousticness\": 4, \"speechiness\": 3, \"popularity\": 64, \"album\": \"The Best Damn Thing\"}, {\"title\": \"Nobody's Home\", \"artist\": \"Avril Lavigne\", \"top genre\": \"canadian pop\", \"year\": 2004, \"added\": \"2020\\u201103\\u201105\", \"Beats per minute\": 185, \"energy\": 91, \"danceability\": 35, \"Loudness (dB)\": -4, \"liveness\": 16, \"valence\": 18, \"duration\": 212, \"acousticness\": 0, \"speechiness\": 5, \"popularity\": 61, \"album\": \"Under My Skin\"}, {\"title\": \"Smile\", \"artist\": \"Avril Lavigne\", \"top genre\": \"canadian pop\", \"year\": 2011, \"added\": \"2020\\u201103\\u201105\", \"Beats per minute\": 105, \"energy\": 85, \"danceability\": 63, \"Loudness (dB)\": -4, \"liveness\": 7, \"valence\": 65, \"duration\": 210, \"acousticness\": 0, \"speechiness\": 5, \"popularity\": 61, \"album\": \"Goodbye Lullaby\"}, {\"title\": \"Tell Me It's Over\", \"artist\": \"Avril Lavigne\", \"top genre\": \"canadian pop\", \"year\": 2019, \"added\": \"2020\\u201103\\u201105\", \"Beats per minute\": 92, \"energy\": 74, \"danceability\": 55, \"Loudness (dB)\": -4, \"liveness\": 14, \"valence\": 30, \"duration\": 189, \"acousticness\": 4, \"speechiness\": 3, \"popularity\": 60, \"album\": \"Head Above Water\"}, {\"title\": \"Hot\", \"artist\": \"Avril Lavigne\", \"top genre\": \"canadian pop\", \"year\": 2007, \"added\": \"2020\\u201103\\u201105\", \"Beats per minute\": 145, \"energy\": 94, \"danceability\": 60, \"Loudness (dB)\": -4, \"liveness\": 36, \"valence\": 47, \"duration\": 203, \"acousticness\": 2, \"speechiness\": 8, \"popularity\": 59, \"album\": \"The Best Damn Thing\"}, {\"title\": \"Rock N Roll\", \"artist\": \"Avril Lavigne\", \"top genre\": \"canadian pop\", \"year\": 2013, \"added\": \"2020\\u201103\\u201105\", \"Beats per minute\": 184, \"energy\": 96, \"danceability\": 47, \"Loudness (dB)\": -3, \"liveness\": 34, \"valence\": 67, \"duration\": 207, \"acousticness\": 1, \"speechiness\": 13, \"popularity\": 59, \"album\": \"Avril Lavigne\"}, {\"title\": \"Let Me Go (feat. Chad Kroeger)\", \"artist\": \"Avril Lavigne\", \"top genre\": \"canadian pop\", \"year\": 2013, \"added\": \"2020\\u201103\\u201105\", \"Beats per minute\": 164, \"energy\": 65, \"danceability\": 39, \"Loudness (dB)\": -7, \"liveness\": 14, \"valence\": 13, \"duration\": 268, \"acousticness\": 21, \"speechiness\": 3, \"popularity\": 59, \"album\": \"Avril Lavigne\"}, {\"title\": \"Don't Tell Me\", \"artist\": \"Avril Lavigne\", \"top genre\": \"canadian pop\", \"year\": 2004, \"added\": \"2020\\u201103\\u201105\", \"Beats per minute\": 144, \"energy\": 80, \"danceability\": 52, \"Loudness (dB)\": -3, \"liveness\": 36, \"valence\": 48, \"duration\": 202, \"acousticness\": 0, \"speechiness\": 4, \"popularity\": 58, \"album\": \"Under My Skin\"}, {\"title\": \"I Fell In Love With The Devil\", \"artist\": \"Avril Lavigne\", \"top genre\": \"canadian pop\", \"year\": 2019, \"added\": \"2020\\u201103\\u201105\", \"Beats per minute\": 136, \"energy\": 68, \"danceability\": 52, \"Loudness (dB)\": -7, \"liveness\": 20, \"valence\": 22, \"duration\": 256, \"acousticness\": 2, \"speechiness\": 8, \"popularity\": 58, \"album\": \"Head Above Water\"}, {\"title\": \"Losing Grip\", \"artist\": \"Avril Lavigne\", \"top genre\": \"canadian pop\", \"year\": 2002, \"added\": \"2020\\u201103\\u201105\", \"Beats per minute\": 158, \"energy\": 89, \"danceability\": 53, \"Loudness (dB)\": -5, \"liveness\": 8, \"valence\": 58, \"duration\": 234, \"acousticness\": 0, \"speechiness\": 10, \"popularity\": 57, \"album\": \"Let Go\"}, {\"title\": \"Innocence\", \"artist\": \"Avril Lavigne\", \"top genre\": \"canadian pop\", \"year\": 2007, \"added\": \"2020\\u201103\\u201105\", \"Beats per minute\": 138, \"energy\": 71, \"danceability\": 39, \"Loudness (dB)\": -4, \"liveness\": 20, \"valence\": 34, \"duration\": 232, \"acousticness\": 15, \"speechiness\": 3, \"popularity\": 57, \"album\": \"The Best Damn Thing\"}, {\"title\": \"Hello Kitty\", \"artist\": \"Avril Lavigne\", \"top genre\": \"canadian pop\", \"year\": 2013, \"added\": \"2020\\u201103\\u201105\", \"Beats per minute\": 128, \"energy\": 79, \"danceability\": 75, \"Loudness (dB)\": -7, \"liveness\": 65, \"valence\": 59, \"duration\": 196, \"acousticness\": 0, \"speechiness\": 9, \"popularity\": 57, \"album\": \"Avril Lavigne\"}, {\"title\": \"Give You What You Like\", \"artist\": \"Avril Lavigne\", \"top genre\": \"canadian pop\", \"year\": 2013, \"added\": \"2020\\u201103\\u201105\", \"Beats per minute\": 79, \"energy\": 53, \"danceability\": 62, \"Loudness (dB)\": -7, \"liveness\": 11, \"valence\": 39, \"duration\": 225, \"acousticness\": 44, \"speechiness\": 3, \"popularity\": 56, \"album\": \"Avril Lavigne\"}, {\"title\": \"Dumb Blonde (feat. Nicki Minaj)\", \"artist\": \"Avril Lavigne\", \"top genre\": \"canadian pop\", \"year\": 2019, \"added\": \"2020\\u201103\\u201105\", \"Beats per minute\": 110, \"energy\": 85, \"danceability\": 73, \"Loudness (dB)\": -5, \"liveness\": 12, \"valence\": 92, \"duration\": 215, \"acousticness\": 17, \"speechiness\": 8, \"popularity\": 56, \"album\": \"Head Above Water\"}, {\"title\": \"Things I'll Never Say\", \"artist\": \"Avril Lavigne\", \"top genre\": \"canadian pop\", \"year\": 2002, \"added\": \"2020\\u201103\\u201105\", \"Beats per minute\": 102, \"energy\": 81, \"danceability\": 57, \"Loudness (dB)\": -5, \"liveness\": 14, \"valence\": 59, \"duration\": 224, \"acousticness\": 0, \"speechiness\": 3, \"popularity\": 55, \"album\": \"Let Go\"}, {\"title\": \"The Best Damn Thing\", \"artist\": \"Avril Lavigne\", \"top genre\": \"canadian pop\", \"year\": 2007, \"added\": \"2020\\u201103\\u201105\", \"Beats per minute\": 165, \"energy\": 94, \"danceability\": 56, \"Loudness (dB)\": -2, \"liveness\": 15, \"valence\": 88, \"duration\": 189, \"acousticness\": 0, \"speechiness\": 9, \"popularity\": 55, \"album\": \"The Best Damn Thing\"}, {\"title\": \"Tomorrow\", \"artist\": \"Avril Lavigne\", \"top genre\": \"canadian pop\", \"year\": 2002, \"added\": \"2020\\u201103\\u201105\", \"Beats per minute\": 136, \"energy\": 79, \"danceability\": 63, \"Loudness (dB)\": -7, \"liveness\": 16, \"valence\": 61, \"duration\": 229, \"acousticness\": 1, \"speechiness\": 3, \"popularity\": 54, \"album\": \"Let Go\"}, {\"title\": \"Anything but Ordinary\", \"artist\": \"Avril Lavigne\", \"top genre\": \"canadian pop\", \"year\": 2002, \"added\": \"2020\\u201103\\u201105\", \"Beats per minute\": 123, \"energy\": 67, \"danceability\": 65, \"Loudness (dB)\": -6, \"liveness\": 9, \"valence\": 64, \"duration\": 251, \"acousticness\": 4, \"speechiness\": 4, \"popularity\": 54, \"album\": \"Let Go\"}, {\"title\": \"Fall To Pieces\", \"artist\": \"Avril Lavigne\", \"top genre\": \"canadian pop\", \"year\": 2004, \"added\": \"2020\\u201103\\u201105\", \"Beats per minute\": 178, \"energy\": 90, \"danceability\": 43, \"Loudness (dB)\": -3, \"liveness\": 63, \"valence\": 49, \"duration\": 209, \"acousticness\": 0, \"speechiness\": 4, \"popularity\": 54, \"album\": \"Under My Skin\"}, {\"title\": \"Bad Girl (feat. Marilyn Manson)\", \"artist\": \"Avril Lavigne\", \"top genre\": \"canadian pop\", \"year\": 2013, \"added\": \"2020\\u201103\\u201105\", \"Beats per minute\": 158, \"energy\": 94, \"danceability\": 43, \"Loudness (dB)\": -3, \"liveness\": 41, \"valence\": 34, \"duration\": 175, \"acousticness\": 0, \"speechiness\": 14, \"popularity\": 54, \"album\": \"Avril Lavigne\"}, {\"title\": \"Nobody's Fool\", \"artist\": \"Avril Lavigne\", \"top genre\": \"canadian pop\", \"year\": 2002, \"added\": \"2020\\u201103\\u201105\", \"Beats per minute\": 90, \"energy\": 88, \"danceability\": 50, \"Loudness (dB)\": -6, \"liveness\": 13, \"valence\": 46, \"duration\": 237, \"acousticness\": 0, \"speechiness\": 6, \"popularity\": 53, \"album\": \"Let Go\"}, {\"title\": \"Slipped Away\", \"artist\": \"Avril Lavigne\", \"top genre\": \"canadian pop\", \"year\": 2004, \"added\": \"2020\\u201103\\u201105\", \"Beats per minute\": 161, \"energy\": 62, \"danceability\": 45, \"Loudness (dB)\": -4, \"liveness\": 12, \"valence\": 10, \"duration\": 214, \"acousticness\": 0, \"speechiness\": 3, \"popularity\": 53, \"album\": \"Under My Skin\"}, {\"title\": \"Everybody Hurts\", \"artist\": \"Avril Lavigne\", \"top genre\": \"canadian pop\", \"year\": 2011, \"added\": \"2020\\u201103\\u201105\", \"Beats per minute\": 102, \"energy\": 75, \"danceability\": 45, \"Loudness (dB)\": -4, \"liveness\": 12, \"valence\": 36, \"duration\": 222, \"acousticness\": 1, \"speechiness\": 3, \"popularity\": 53, \"album\": \"Goodbye Lullaby\"}, {\"title\": \"Alice - Extended Version\", \"artist\": \"Avril Lavigne\", \"top genre\": \"canadian pop\", \"year\": 2011, \"added\": \"2020\\u201103\\u201105\", \"Beats per minute\": 119, \"energy\": 82, \"danceability\": 54, \"Loudness (dB)\": -4, \"liveness\": 17, \"valence\": 17, \"duration\": 301, \"acousticness\": 5, \"speechiness\": 8, \"popularity\": 53, \"album\": \"Goodbye Lullaby\"}, {\"title\": \"Birdie\", \"artist\": \"Avril Lavigne\", \"top genre\": \"canadian pop\", \"year\": 2019, \"added\": \"2020\\u201103\\u201105\", \"Beats per minute\": 156, \"energy\": 82, \"danceability\": 55, \"Loudness (dB)\": -4, \"liveness\": 26, \"valence\": 45, \"duration\": 215, \"acousticness\": 27, \"speechiness\": 9, \"popularity\": 53, \"album\": \"Head Above Water\"}, {\"title\": \"Warrior\", \"artist\": \"Avril Lavigne\", \"top genre\": \"canadian pop\", \"year\": 2019, \"added\": \"2020\\u201103\\u201105\", \"Beats per minute\": 142, \"energy\": 63, \"danceability\": 46, \"Loudness (dB)\": -5, \"liveness\": 22, \"valence\": 33, \"duration\": 226, \"acousticness\": 31, \"speechiness\": 5, \"popularity\": 53, \"album\": \"Head Above Water\"}, {\"title\": \"Take Me Away\", \"artist\": \"Avril Lavigne\", \"top genre\": \"canadian pop\", \"year\": 2004, \"added\": \"2020\\u201103\\u201105\", \"Beats per minute\": 99, \"energy\": 89, \"danceability\": 51, \"Loudness (dB)\": -2, \"liveness\": 20, \"valence\": 26, \"duration\": 178, \"acousticness\": 0, \"speechiness\": 3, \"popularity\": 52, \"album\": \"Under My Skin\"}, {\"title\": \"He Wasn't\", \"artist\": \"Avril Lavigne\", \"top genre\": \"canadian pop\", \"year\": 2004, \"added\": \"2020\\u201103\\u201105\", \"Beats per minute\": 173, \"energy\": 86, \"danceability\": 41, \"Loudness (dB)\": -4, \"liveness\": 8, \"valence\": 66, \"duration\": 179, \"acousticness\": 0, \"speechiness\": 5, \"popularity\": 52, \"album\": \"Under My Skin\"}, {\"title\": \"Runaway\", \"artist\": \"Avril Lavigne\", \"top genre\": \"canadian pop\", \"year\": 2007, \"added\": \"2020\\u201103\\u201105\", \"Beats per minute\": 135, \"energy\": 94, \"danceability\": 57, \"Loudness (dB)\": -2, \"liveness\": 16, \"valence\": 68, \"duration\": 228, \"acousticness\": 0, \"speechiness\": 5, \"popularity\": 51, \"album\": \"The Best Damn Thing\"}, {\"title\": \"Mobile\", \"artist\": \"Avril Lavigne\", \"top genre\": \"canadian pop\", \"year\": 2002, \"added\": \"2020\\u201103\\u201105\", \"Beats per minute\": 100, \"energy\": 73, \"danceability\": 59, \"Loudness (dB)\": -6, \"liveness\": 11, \"valence\": 63, \"duration\": 212, \"acousticness\": 0, \"speechiness\": 3, \"popularity\": 50, \"album\": \"Let Go\"}, {\"title\": \"Remember When\", \"artist\": \"Avril Lavigne\", \"top genre\": \"canadian pop\", \"year\": 2011, \"added\": \"2020\\u201103\\u201105\", \"Beats per minute\": 148, \"energy\": 53, \"danceability\": 43, \"Loudness (dB)\": -6, \"liveness\": 8, \"valence\": 17, \"duration\": 209, \"acousticness\": 3, \"speechiness\": 3, \"popularity\": 50, \"album\": \"Goodbye Lullaby\"}, {\"title\": \"It Was In Me\", \"artist\": \"Avril Lavigne\", \"top genre\": \"canadian pop\", \"year\": 2019, \"added\": \"2020\\u201103\\u201105\", \"Beats per minute\": 146, \"energy\": 64, \"danceability\": 46, \"Loudness (dB)\": -6, \"liveness\": 11, \"valence\": 22, \"duration\": 223, \"acousticness\": 1, \"speechiness\": 4, \"popularity\": 50, \"album\": \"Head Above Water\"}, {\"title\": \"Unwanted\", \"artist\": \"Avril Lavigne\", \"top genre\": \"canadian pop\", \"year\": 2002, \"added\": \"2020\\u201103\\u201105\", \"Beats per minute\": 162, \"energy\": 84, \"danceability\": 48, \"Loudness (dB)\": -5, \"liveness\": 63, \"valence\": 62, \"duration\": 221, \"acousticness\": 0, \"speechiness\": 6, \"popularity\": 48, \"album\": \"Let Go\"}, {\"title\": \"My World\", \"artist\": \"Avril Lavigne\", \"top genre\": \"canadian pop\", \"year\": 2002, \"added\": \"2020\\u201103\\u201105\", \"Beats per minute\": 103, \"energy\": 92, \"danceability\": 60, \"Loudness (dB)\": -5, \"liveness\": 10, \"valence\": 70, \"duration\": 207, \"acousticness\": 1, \"speechiness\": 5, \"popularity\": 48, \"album\": \"Let Go\"}, {\"title\": \"Crush\", \"artist\": \"Avril Lavigne\", \"top genre\": \"canadian pop\", \"year\": 2019, \"added\": \"2020\\u201103\\u201105\", \"Beats per minute\": 108, \"energy\": 73, \"danceability\": 53, \"Loudness (dB)\": -5, \"liveness\": 11, \"valence\": 29, \"duration\": 214, \"acousticness\": 9, \"speechiness\": 6, \"popularity\": 48, \"album\": \"Head Above Water\"}, {\"title\": \"Goddess\", \"artist\": \"Avril Lavigne\", \"top genre\": \"canadian pop\", \"year\": 2019, \"added\": \"2020\\u201103\\u201105\", \"Beats per minute\": 74, \"energy\": 51, \"danceability\": 47, \"Loudness (dB)\": -7, \"liveness\": 8, \"valence\": 50, \"duration\": 221, \"acousticness\": 31, \"speechiness\": 6, \"popularity\": 48, \"album\": \"Head Above Water\"}, {\"title\": \"Naked\", \"artist\": \"Avril Lavigne\", \"top genre\": \"canadian pop\", \"year\": 2002, \"added\": \"2020\\u201103\\u201105\", \"Beats per minute\": 82, \"energy\": 77, \"danceability\": 52, \"Loudness (dB)\": -6, \"liveness\": 10, \"valence\": 46, \"duration\": 209, \"acousticness\": 0, \"speechiness\": 4, \"popularity\": 47, \"album\": \"Let Go\"}, {\"title\": \"I Can Do Better\", \"artist\": \"Avril Lavigne\", \"top genre\": \"canadian pop\", \"year\": 2007, \"added\": \"2020\\u201103\\u201105\", \"Beats per minute\": 172, \"energy\": 98, \"danceability\": 44, \"Loudness (dB)\": -3, \"liveness\": 72, \"valence\": 27, \"duration\": 195, \"acousticness\": 0, \"speechiness\": 17, \"popularity\": 47, \"album\": \"The Best Damn Thing\"}, {\"title\": \"Souvenir\", \"artist\": \"Avril Lavigne\", \"top genre\": \"canadian pop\", \"year\": 2019, \"added\": \"2020\\u201103\\u201105\", \"Beats per minute\": 180, \"energy\": 74, \"danceability\": 49, \"Loudness (dB)\": -4, \"liveness\": 9, \"valence\": 42, \"duration\": 178, \"acousticness\": 41, \"speechiness\": 7, \"popularity\": 47, \"album\": \"Head Above Water\"}, {\"title\": \"Too Much to Ask\", \"artist\": \"Avril Lavigne\", \"top genre\": \"canadian pop\", \"year\": 2002, \"added\": \"2020\\u201103\\u201105\", \"Beats per minute\": 147, \"energy\": 70, \"danceability\": 50, \"Loudness (dB)\": -7, \"liveness\": 10, \"valence\": 41, \"duration\": 225, \"acousticness\": 1, \"speechiness\": 3, \"popularity\": 46, \"album\": \"Let Go\"}, {\"title\": \"Together\", \"artist\": \"Avril Lavigne\", \"top genre\": \"canadian pop\", \"year\": 2004, \"added\": \"2020\\u201103\\u201105\", \"Beats per minute\": 82, \"energy\": 86, \"danceability\": 44, \"Loudness (dB)\": -3, \"liveness\": 23, \"valence\": 30, \"duration\": 195, \"acousticness\": 0, \"speechiness\": 4, \"popularity\": 46, \"album\": \"Under My Skin\"}, {\"title\": \"Bigger Wow\", \"artist\": \"Avril Lavigne\", \"top genre\": \"canadian pop\", \"year\": 2019, \"added\": \"2020\\u201103\\u201105\", \"Beats per minute\": 103, \"energy\": 68, \"danceability\": 75, \"Loudness (dB)\": -5, \"liveness\": 6, \"valence\": 85, \"duration\": 175, \"acousticness\": 7, \"speechiness\": 3, \"popularity\": 46, \"album\": \"Head Above Water\"}, {\"title\": \"Love Me Insane\", \"artist\": \"Avril Lavigne\", \"top genre\": \"canadian pop\", \"year\": 2019, \"added\": \"2020\\u201103\\u201105\", \"Beats per minute\": 154, \"energy\": 53, \"danceability\": 68, \"Loudness (dB)\": -6, \"liveness\": 31, \"valence\": 56, \"duration\": 181, \"acousticness\": 7, \"speechiness\": 8, \"popularity\": 46, \"album\": \"Head Above Water\"}, {\"title\": \"How Does It Feel\", \"artist\": \"Avril Lavigne\", \"top genre\": \"canadian pop\", \"year\": 2004, \"added\": \"2020\\u201103\\u201105\", \"Beats per minute\": 118, \"energy\": 58, \"danceability\": 65, \"Loudness (dB)\": -5, \"liveness\": 12, \"valence\": 34, \"duration\": 225, \"acousticness\": 2, \"speechiness\": 3, \"popularity\": 45, \"album\": \"Under My Skin\"}, {\"title\": \"Forgotten\", \"artist\": \"Avril Lavigne\", \"top genre\": \"canadian pop\", \"year\": 2004, \"added\": \"2020\\u201103\\u201105\", \"Beats per minute\": 132, \"energy\": 68, \"danceability\": 57, \"Loudness (dB)\": -3, \"liveness\": 21, \"valence\": 35, \"duration\": 197, \"acousticness\": 0, \"speechiness\": 3, \"popularity\": 45, \"album\": \"Under My Skin\"}, {\"title\": \"Who Knows\", \"artist\": \"Avril Lavigne\", \"top genre\": \"canadian pop\", \"year\": 2004, \"added\": \"2020\\u201103\\u201105\", \"Beats per minute\": 162, \"energy\": 81, \"danceability\": 45, \"Loudness (dB)\": -3, \"liveness\": 11, \"valence\": 37, \"duration\": 210, \"acousticness\": 0, \"speechiness\": 4, \"popularity\": 45, \"album\": \"Under My Skin\"}, {\"title\": \"Hush Hush\", \"artist\": \"Avril Lavigne\", \"top genre\": \"canadian pop\", \"year\": 2013, \"added\": \"2020\\u201103\\u201105\", \"Beats per minute\": 148, \"energy\": 79, \"danceability\": 49, \"Loudness (dB)\": -7, \"liveness\": 15, \"valence\": 19, \"duration\": 239, \"acousticness\": 17, \"speechiness\": 6, \"popularity\": 45, \"album\": \"Avril Lavigne\"}, {\"title\": \"Freak Out\", \"artist\": \"Avril Lavigne\", \"top genre\": \"canadian pop\", \"year\": 2004, \"added\": \"2020\\u201103\\u201105\", \"Beats per minute\": 160, \"energy\": 89, \"danceability\": 46, \"Loudness (dB)\": -2, \"liveness\": 12, \"valence\": 68, \"duration\": 192, \"acousticness\": 0, \"speechiness\": 7, \"popularity\": 44, \"album\": \"Under My Skin\"}, {\"title\": \"Everything Back But You\", \"artist\": \"Avril Lavigne\", \"top genre\": \"canadian pop\", \"year\": 2007, \"added\": \"2020\\u201103\\u201105\", \"Beats per minute\": 130, \"energy\": 97, \"danceability\": 54, \"Loudness (dB)\": -3, \"liveness\": 38, \"valence\": 48, \"duration\": 182, \"acousticness\": 0, \"speechiness\": 17, \"popularity\": 44, \"album\": \"The Best Damn Thing\"}, {\"title\": \"Contagious\", \"artist\": \"Avril Lavigne\", \"top genre\": \"canadian pop\", \"year\": 2007, \"added\": \"2020\\u201103\\u201105\", \"Beats per minute\": 158, \"energy\": 91, \"danceability\": 45, \"Loudness (dB)\": -4, \"liveness\": 32, \"valence\": 44, \"duration\": 129, \"acousticness\": 0, \"speechiness\": 5, \"popularity\": 44, \"album\": \"The Best Damn Thing\"}, {\"title\": \"17\", \"artist\": \"Avril Lavigne\", \"top genre\": \"canadian pop\", \"year\": 2013, \"added\": \"2020\\u201103\\u201105\", \"Beats per minute\": 140, \"energy\": 90, \"danceability\": 68, \"Loudness (dB)\": -4, \"liveness\": 7, \"valence\": 94, \"duration\": 205, \"acousticness\": 1, \"speechiness\": 5, \"popularity\": 44, \"album\": \"Avril Lavigne\"}, {\"title\": \"Push\", \"artist\": \"Avril Lavigne\", \"top genre\": \"canadian pop\", \"year\": 2011, \"added\": \"2020\\u201103\\u201105\", \"Beats per minute\": 184, \"energy\": 68, \"danceability\": 52, \"Loudness (dB)\": -5, \"liveness\": 8, \"valence\": 47, \"duration\": 181, \"acousticness\": 1, \"speechiness\": 9, \"popularity\": 43, \"album\": \"Goodbye Lullaby\"}, {\"title\": \"Bitchin' Summer\", \"artist\": \"Avril Lavigne\", \"top genre\": \"canadian pop\", \"year\": 2013, \"added\": \"2020\\u201103\\u201105\", \"Beats per minute\": 174, \"energy\": 67, \"danceability\": 56, \"Loudness (dB)\": -5, \"liveness\": 6, \"valence\": 46, \"duration\": 211, \"acousticness\": 2, \"speechiness\": 6, \"popularity\": 43, \"album\": \"Avril Lavigne\"}, {\"title\": \"Falling Fast\", \"artist\": \"Avril Lavigne\", \"top genre\": \"canadian pop\", \"year\": 2013, \"added\": \"2020\\u201103\\u201105\", \"Beats per minute\": 174, \"energy\": 43, \"danceability\": 50, \"Loudness (dB)\": -9, \"liveness\": 14, \"valence\": 42, \"duration\": 194, \"acousticness\": 49, \"speechiness\": 4, \"popularity\": 43, \"album\": \"Avril Lavigne\"}, {\"title\": \"I Don't Have To Try\", \"artist\": \"Avril Lavigne\", \"top genre\": \"canadian pop\", \"year\": 2007, \"added\": \"2020\\u201103\\u201105\", \"Beats per minute\": 212, \"energy\": 97, \"danceability\": 42, \"Loudness (dB)\": -3, \"liveness\": 8, \"valence\": 25, \"duration\": 197, \"acousticness\": 0, \"speechiness\": 35, \"popularity\": 42, \"album\": \"The Best Damn Thing\"}, {\"title\": \"One of Those Girls\", \"artist\": \"Avril Lavigne\", \"top genre\": \"canadian pop\", \"year\": 2007, \"added\": \"2020\\u201103\\u201105\", \"Beats per minute\": 92, \"energy\": 93, \"danceability\": 51, \"Loudness (dB)\": -3, \"liveness\": 15, \"valence\": 74, \"duration\": 175, \"acousticness\": 0, \"speechiness\": 4, \"popularity\": 42, \"album\": \"The Best Damn Thing\"}, {\"title\": \"Stop Standing There\", \"artist\": \"Avril Lavigne\", \"top genre\": \"canadian pop\", \"year\": 2011, \"added\": \"2020\\u201103\\u201105\", \"Beats per minute\": 142, \"energy\": 89, \"danceability\": 64, \"Loudness (dB)\": -5, \"liveness\": 7, \"valence\": 91, \"duration\": 207, \"acousticness\": 0, \"speechiness\": 5, \"popularity\": 42, \"album\": \"Goodbye Lullaby\"}, {\"title\": \"Not Enough\", \"artist\": \"Avril Lavigne\", \"top genre\": \"canadian pop\", \"year\": 2011, \"added\": \"2020\\u201103\\u201105\", \"Beats per minute\": 136, \"energy\": 88, \"danceability\": 52, \"Loudness (dB)\": -4, \"liveness\": 10, \"valence\": 24, \"duration\": 259, \"acousticness\": 0, \"speechiness\": 4, \"popularity\": 42, \"album\": \"Goodbye Lullaby\"}, {\"title\": \"Darlin\", \"artist\": \"Avril Lavigne\", \"top genre\": \"canadian pop\", \"year\": 2011, \"added\": \"2020\\u201103\\u201105\", \"Beats per minute\": 179, \"energy\": 58, \"danceability\": 37, \"Loudness (dB)\": -5, \"liveness\": 8, \"valence\": 40, \"duration\": 231, \"acousticness\": 21, \"speechiness\": 3, \"popularity\": 42, \"album\": \"Goodbye Lullaby\"}, {\"title\": \"Hello Heartache\", \"artist\": \"Avril Lavigne\", \"top genre\": \"canadian pop\", \"year\": 2013, \"added\": \"2020\\u201103\\u201105\", \"Beats per minute\": 174, \"energy\": 76, \"danceability\": 51, \"Loudness (dB)\": -4, \"liveness\": 34, \"valence\": 59, \"duration\": 229, \"acousticness\": 9, \"speechiness\": 4, \"popularity\": 42, \"album\": \"Avril Lavigne\"}, {\"title\": \"Black Star\", \"artist\": \"Avril Lavigne\", \"top genre\": \"canadian pop\", \"year\": 2011, \"added\": \"2020\\u201103\\u201105\", \"Beats per minute\": 128, \"energy\": 33, \"danceability\": 54, \"Loudness (dB)\": -9, \"liveness\": 19, \"valence\": 20, \"duration\": 94, \"acousticness\": 61, \"speechiness\": 3, \"popularity\": 41, \"album\": \"Goodbye Lullaby\"}, {\"title\": \"4 Real\", \"artist\": \"Avril Lavigne\", \"top genre\": \"canadian pop\", \"year\": 2011, \"added\": \"2020\\u201103\\u201105\", \"Beats per minute\": 78, \"energy\": 84, \"danceability\": 52, \"Loudness (dB)\": -6, \"liveness\": 11, \"valence\": 28, \"duration\": 208, \"acousticness\": 0, \"speechiness\": 3, \"popularity\": 41, \"album\": \"Goodbye Lullaby\"}, {\"title\": \"Sippin' On Sunshine\", \"artist\": \"Avril Lavigne\", \"top genre\": \"canadian pop\", \"year\": 2013, \"added\": \"2020\\u201103\\u201105\", \"Beats per minute\": 176, \"energy\": 73, \"danceability\": 55, \"Loudness (dB)\": -7, \"liveness\": 32, \"valence\": 56, \"duration\": 209, \"acousticness\": 0, \"speechiness\": 12, \"popularity\": 41, \"album\": \"Avril Lavigne\"}, {\"title\": \"Goodbye\", \"artist\": \"Avril Lavigne\", \"top genre\": \"canadian pop\", \"year\": 2011, \"added\": \"2020\\u201103\\u201105\", \"Beats per minute\": 167, \"energy\": 33, \"danceability\": 18, \"Loudness (dB)\": -7, \"liveness\": 13, \"valence\": 24, \"duration\": 272, \"acousticness\": 72, \"speechiness\": 3, \"popularity\": 40, \"album\": \"Goodbye Lullaby\"}, {\"title\": \"You Ain't Seen Nothin' Yet\", \"artist\": \"Avril Lavigne\", \"top genre\": \"canadian pop\", \"year\": 2013, \"added\": \"2020\\u201103\\u201105\", \"Beats per minute\": 145, \"energy\": 90, \"danceability\": 56, \"Loudness (dB)\": -4, \"liveness\": 7, \"valence\": 67, \"duration\": 193, \"acousticness\": 0, \"speechiness\": 6, \"popularity\": 40, \"album\": \"Avril Lavigne\"}]}};\n",
       "const opt = {};\n",
       "const type = \"vega-lite\";\n",
       "const id = \"888c6fb9-7e3b-43aa-8cc2-f2a0a1290ea4\";\n",
       "\n",
       "const output_area = this;\n",
       "\n",
       "require([\"nbextensions/jupyter-vega/index\"], function(vega) {\n",
       "  const target = document.createElement(\"div\");\n",
       "  target.id = id;\n",
       "  target.className = \"vega-embed\";\n",
       "\n",
       "  const style = document.createElement(\"style\");\n",
       "  style.textContent = [\n",
       "    \".vega-embed .error p {\",\n",
       "    \"  color: firebrick;\",\n",
       "    \"  font-size: 14px;\",\n",
       "    \"}\",\n",
       "  ].join(\"\\\\n\");\n",
       "\n",
       "  // element is a jQuery wrapped DOM element inside the output area\n",
       "  // see http://ipython.readthedocs.io/en/stable/api/generated/\\\n",
       "  // IPython.display.html#IPython.display.Javascript.__init__\n",
       "  element[0].appendChild(target);\n",
       "  element[0].appendChild(style);\n",
       "\n",
       "  vega.render(\"#\" + id, spec, type, opt, output_area);\n",
       "}, function (err) {\n",
       "  if (err.requireType !== \"scripterror\") {\n",
       "    throw(err);\n",
       "  }\n",
       "});\n"
      ],
      "text/plain": [
       "<vega.vegalite.VegaLite at 0x7f08dc122668>"
      ]
     },
     "metadata": {
      "jupyter-vega": "#888c6fb9-7e3b-43aa-8cc2-f2a0a1290ea4"
     },
     "output_type": "display_data"
    },
    {
     "data": {
      "text/plain": []
     },
     "execution_count": 15,
     "metadata": {},
     "output_type": "execute_result"
    },
    {
     "data": {
      "image/png": "[encoded data removed]"
     },
     "metadata": {
      "jupyter-vega": "#888c6fb9-7e3b-43aa-8cc2-f2a0a1290ea4"
     },
     "output_type": "display_data"
    }
   ],
   "source": [
    "# Speechiness | Popularity\n",
    "chart8 | chart9"
   ]
  },
  {
   "cell_type": "code",
   "execution_count": 45,
   "metadata": {},
   "outputs": [],
   "source": [
    "# alt.hconcat(chart8, chart9).save('plots/charts89.json')\n",
    "# alt.hconcat(chart8, chart9).save('plots/charts89.html')"
   ]
  },
  {
   "cell_type": "code",
   "execution_count": 23,
   "metadata": {},
   "outputs": [],
   "source": [
    "# Energy vs acousticness\n",
    "chart10 = alt.Chart(al_songs, width=200, height=200).mark_point(size=100, filled=True, opacity=0.7).encode(\n",
    "    x='energy:Q',\n",
    "    y='acousticness:Q',\n",
    "    color=alt.Color('album', sort=['year']),\n",
    "    tooltip=['title', 'album']\n",
    ").interactive()\n",
    "\n",
    "# Energy vs speechiness\n",
    "chart11 = alt.Chart(al_songs, width=200, height=200).mark_point(size=100, filled=True, opacity=0.7).encode(\n",
    "    x='energy:Q',\n",
    "    y='speechiness:Q',\n",
    "    color=alt.Color('album', sort=['year']),\n",
    "    tooltip=['title', 'album']\n",
    ").interactive()\n",
    "\n",
    "# Acousticness vs speechiness\n",
    "chart12 = alt.Chart(al_songs, width=200, height=200).mark_point(size=100, filled=True, opacity=0.7).encode(\n",
    "    x='acousticness:Q',\n",
    "    y='speechiness:Q',\n",
    "    color=alt.Color('album', sort=['year']),\n",
    "    tooltip=['title', 'album']\n",
    ").interactive()"
   ]
  },
  {
   "cell_type": "code",
   "execution_count": 24,
   "metadata": {},
   "outputs": [
    {
     "data": {
      "application/javascript": [
       "const spec = {\"config\": {\"view\": {\"width\": 400, \"height\": 300}, \"mark\": {\"tooltip\": null}}, \"hconcat\": [{\"mark\": {\"type\": \"point\", \"filled\": true, \"opacity\": 0.7, \"size\": 100}, \"encoding\": {\"color\": {\"type\": \"nominal\", \"field\": \"album\", \"sort\": [\"year\"]}, \"tooltip\": [{\"type\": \"nominal\", \"field\": \"title\"}, {\"type\": \"nominal\", \"field\": \"album\"}], \"x\": {\"type\": \"quantitative\", \"field\": \"energy\"}, \"y\": {\"type\": \"quantitative\", \"field\": \"acousticness\"}}, \"height\": 200, \"selection\": {\"selector021\": {\"type\": \"interval\", \"bind\": \"scales\", \"encodings\": [\"x\", \"y\"]}}, \"width\": 200}, {\"mark\": {\"type\": \"point\", \"filled\": true, \"opacity\": 0.7, \"size\": 100}, \"encoding\": {\"color\": {\"type\": \"nominal\", \"field\": \"album\", \"sort\": [\"year\"]}, \"tooltip\": [{\"type\": \"nominal\", \"field\": \"title\"}, {\"type\": \"nominal\", \"field\": \"album\"}], \"x\": {\"type\": \"quantitative\", \"field\": \"energy\"}, \"y\": {\"type\": \"quantitative\", \"field\": \"speechiness\"}}, \"height\": 200, \"selection\": {\"selector022\": {\"type\": \"interval\", \"bind\": \"scales\", \"encodings\": [\"x\", \"y\"]}}, \"width\": 200}, {\"mark\": {\"type\": \"point\", \"filled\": true, \"opacity\": 0.7, \"size\": 100}, \"encoding\": {\"color\": {\"type\": \"nominal\", \"field\": \"album\", \"sort\": [\"year\"]}, \"tooltip\": [{\"type\": \"nominal\", \"field\": \"title\"}, {\"type\": \"nominal\", \"field\": \"album\"}], \"x\": {\"type\": \"quantitative\", \"field\": \"acousticness\"}, \"y\": {\"type\": \"quantitative\", \"field\": \"speechiness\"}}, \"height\": 200, \"selection\": {\"selector023\": {\"type\": \"interval\", \"bind\": \"scales\", \"encodings\": [\"x\", \"y\"]}}, \"width\": 200}], \"data\": {\"name\": \"data-2f77c806fc60843d4fa6234c96e05c2c\"}, \"$schema\": \"https://vega.github.io/schema/vega-lite/v3.4.0.json\", \"datasets\": {\"data-2f77c806fc60843d4fa6234c96e05c2c\": [{\"title\": \"Complicated\", \"artist\": \"Avril Lavigne\", \"top genre\": \"canadian pop\", \"year\": 2002, \"added\": \"2020\\u201103\\u201105\", \"Beats per minute\": 78, \"energy\": 78, \"danceability\": 59, \"Loudness (dB)\": -6, \"liveness\": 30, \"valence\": 43, \"duration\": 245, \"acousticness\": 6, \"speechiness\": 5, \"popularity\": 76, \"album\": \"Let Go\"}, {\"title\": \"Sk8er Boi\", \"artist\": \"Avril Lavigne\", \"top genre\": \"canadian pop\", \"year\": 2002, \"added\": \"2020\\u201103\\u201105\", \"Beats per minute\": 150, \"energy\": 90, \"danceability\": 49, \"Loudness (dB)\": -4, \"liveness\": 36, \"valence\": 48, \"duration\": 204, \"acousticness\": 0, \"speechiness\": 5, \"popularity\": 74, \"album\": \"Let Go\"}, {\"title\": \"What the Hell\", \"artist\": \"Avril Lavigne\", \"top genre\": \"canadian pop\", \"year\": 2011, \"added\": \"2020\\u201103\\u201105\", \"Beats per minute\": 150, \"energy\": 93, \"danceability\": 58, \"Loudness (dB)\": -4, \"liveness\": 14, \"valence\": 88, \"duration\": 221, \"acousticness\": 0, \"speechiness\": 5, \"popularity\": 73, \"album\": \"Goodbye Lullaby\"}, {\"title\": \"Girlfriend\", \"artist\": \"Avril Lavigne\", \"top genre\": \"canadian pop\", \"year\": 2007, \"added\": \"2020\\u201103\\u201105\", \"Beats per minute\": 164, \"energy\": 96, \"danceability\": 56, \"Loudness (dB)\": -2, \"liveness\": 21, \"valence\": 67, \"duration\": 217, \"acousticness\": 0, \"speechiness\": 10, \"popularity\": 72, \"album\": \"The Best Damn Thing\"}, {\"title\": \"Head Above Water\", \"artist\": \"Avril Lavigne\", \"top genre\": \"canadian pop\", \"year\": 2019, \"added\": \"2020\\u201103\\u201105\", \"Beats per minute\": 130, \"energy\": 69, \"danceability\": 58, \"Loudness (dB)\": -5, \"liveness\": 10, \"valence\": 27, \"duration\": 221, \"acousticness\": 1, \"speechiness\": 7, \"popularity\": 71, \"album\": \"Head Above Water\"}, {\"title\": \"I'm with You\", \"artist\": \"Avril Lavigne\", \"top genre\": \"canadian pop\", \"year\": 2002, \"added\": \"2020\\u201103\\u201105\", \"Beats per minute\": 152, \"energy\": 41, \"danceability\": 46, \"Loudness (dB)\": -7, \"liveness\": 12, \"valence\": 21, \"duration\": 223, \"acousticness\": 8, \"speechiness\": 3, \"popularity\": 69, \"album\": \"Let Go\"}, {\"title\": \"When You're Gone\", \"artist\": \"Avril Lavigne\", \"top genre\": \"canadian pop\", \"year\": 2007, \"added\": \"2020\\u201103\\u201105\", \"Beats per minute\": 142, \"energy\": 72, \"danceability\": 46, \"Loudness (dB)\": -4, \"liveness\": 23, \"valence\": 17, \"duration\": 240, \"acousticness\": 19, \"speechiness\": 3, \"popularity\": 68, \"album\": \"The Best Damn Thing\"}, {\"title\": \"My Happy Ending\", \"artist\": \"Avril Lavigne\", \"top genre\": \"canadian pop\", \"year\": 2004, \"added\": \"2020\\u201103\\u201105\", \"Beats per minute\": 170, \"energy\": 94, \"danceability\": 41, \"Loudness (dB)\": -2, \"liveness\": 37, \"valence\": 74, \"duration\": 242, \"acousticness\": 0, \"speechiness\": 8, \"popularity\": 67, \"album\": \"Under My Skin\"}, {\"title\": \"Here's to Never Growing Up\", \"artist\": \"Avril Lavigne\", \"top genre\": \"canadian pop\", \"year\": 2013, \"added\": \"2020\\u201103\\u201105\", \"Beats per minute\": 165, \"energy\": 87, \"danceability\": 48, \"Loudness (dB)\": -3, \"liveness\": 41, \"valence\": 74, \"duration\": 214, \"acousticness\": 1, \"speechiness\": 9, \"popularity\": 67, \"album\": \"Avril Lavigne\"}, {\"title\": \"Wish You Were Here\", \"artist\": \"Avril Lavigne\", \"top genre\": \"canadian pop\", \"year\": 2011, \"added\": \"2020\\u201103\\u201105\", \"Beats per minute\": 166, \"energy\": 87, \"danceability\": 45, \"Loudness (dB)\": -4, \"liveness\": 19, \"valence\": 34, \"duration\": 226, \"acousticness\": 3, \"speechiness\": 6, \"popularity\": 65, \"album\": \"Goodbye Lullaby\"}, {\"title\": \"Keep Holding On\", \"artist\": \"Avril Lavigne\", \"top genre\": \"canadian pop\", \"year\": 2007, \"added\": \"2020\\u201103\\u201105\", \"Beats per minute\": 161, \"energy\": 79, \"danceability\": 27, \"Loudness (dB)\": -2, \"liveness\": 14, \"valence\": 15, \"duration\": 240, \"acousticness\": 4, \"speechiness\": 3, \"popularity\": 64, \"album\": \"The Best Damn Thing\"}, {\"title\": \"Nobody's Home\", \"artist\": \"Avril Lavigne\", \"top genre\": \"canadian pop\", \"year\": 2004, \"added\": \"2020\\u201103\\u201105\", \"Beats per minute\": 185, \"energy\": 91, \"danceability\": 35, \"Loudness (dB)\": -4, \"liveness\": 16, \"valence\": 18, \"duration\": 212, \"acousticness\": 0, \"speechiness\": 5, \"popularity\": 61, \"album\": \"Under My Skin\"}, {\"title\": \"Smile\", \"artist\": \"Avril Lavigne\", \"top genre\": \"canadian pop\", \"year\": 2011, \"added\": \"2020\\u201103\\u201105\", \"Beats per minute\": 105, \"energy\": 85, \"danceability\": 63, \"Loudness (dB)\": -4, \"liveness\": 7, \"valence\": 65, \"duration\": 210, \"acousticness\": 0, \"speechiness\": 5, \"popularity\": 61, \"album\": \"Goodbye Lullaby\"}, {\"title\": \"Tell Me It's Over\", \"artist\": \"Avril Lavigne\", \"top genre\": \"canadian pop\", \"year\": 2019, \"added\": \"2020\\u201103\\u201105\", \"Beats per minute\": 92, \"energy\": 74, \"danceability\": 55, \"Loudness (dB)\": -4, \"liveness\": 14, \"valence\": 30, \"duration\": 189, \"acousticness\": 4, \"speechiness\": 3, \"popularity\": 60, \"album\": \"Head Above Water\"}, {\"title\": \"Hot\", \"artist\": \"Avril Lavigne\", \"top genre\": \"canadian pop\", \"year\": 2007, \"added\": \"2020\\u201103\\u201105\", \"Beats per minute\": 145, \"energy\": 94, \"danceability\": 60, \"Loudness (dB)\": -4, \"liveness\": 36, \"valence\": 47, \"duration\": 203, \"acousticness\": 2, \"speechiness\": 8, \"popularity\": 59, \"album\": \"The Best Damn Thing\"}, {\"title\": \"Rock N Roll\", \"artist\": \"Avril Lavigne\", \"top genre\": \"canadian pop\", \"year\": 2013, \"added\": \"2020\\u201103\\u201105\", \"Beats per minute\": 184, \"energy\": 96, \"danceability\": 47, \"Loudness (dB)\": -3, \"liveness\": 34, \"valence\": 67, \"duration\": 207, \"acousticness\": 1, \"speechiness\": 13, \"popularity\": 59, \"album\": \"Avril Lavigne\"}, {\"title\": \"Let Me Go (feat. Chad Kroeger)\", \"artist\": \"Avril Lavigne\", \"top genre\": \"canadian pop\", \"year\": 2013, \"added\": \"2020\\u201103\\u201105\", \"Beats per minute\": 164, \"energy\": 65, \"danceability\": 39, \"Loudness (dB)\": -7, \"liveness\": 14, \"valence\": 13, \"duration\": 268, \"acousticness\": 21, \"speechiness\": 3, \"popularity\": 59, \"album\": \"Avril Lavigne\"}, {\"title\": \"Don't Tell Me\", \"artist\": \"Avril Lavigne\", \"top genre\": \"canadian pop\", \"year\": 2004, \"added\": \"2020\\u201103\\u201105\", \"Beats per minute\": 144, \"energy\": 80, \"danceability\": 52, \"Loudness (dB)\": -3, \"liveness\": 36, \"valence\": 48, \"duration\": 202, \"acousticness\": 0, \"speechiness\": 4, \"popularity\": 58, \"album\": \"Under My Skin\"}, {\"title\": \"I Fell In Love With The Devil\", \"artist\": \"Avril Lavigne\", \"top genre\": \"canadian pop\", \"year\": 2019, \"added\": \"2020\\u201103\\u201105\", \"Beats per minute\": 136, \"energy\": 68, \"danceability\": 52, \"Loudness (dB)\": -7, \"liveness\": 20, \"valence\": 22, \"duration\": 256, \"acousticness\": 2, \"speechiness\": 8, \"popularity\": 58, \"album\": \"Head Above Water\"}, {\"title\": \"Losing Grip\", \"artist\": \"Avril Lavigne\", \"top genre\": \"canadian pop\", \"year\": 2002, \"added\": \"2020\\u201103\\u201105\", \"Beats per minute\": 158, \"energy\": 89, \"danceability\": 53, \"Loudness (dB)\": -5, \"liveness\": 8, \"valence\": 58, \"duration\": 234, \"acousticness\": 0, \"speechiness\": 10, \"popularity\": 57, \"album\": \"Let Go\"}, {\"title\": \"Innocence\", \"artist\": \"Avril Lavigne\", \"top genre\": \"canadian pop\", \"year\": 2007, \"added\": \"2020\\u201103\\u201105\", \"Beats per minute\": 138, \"energy\": 71, \"danceability\": 39, \"Loudness (dB)\": -4, \"liveness\": 20, \"valence\": 34, \"duration\": 232, \"acousticness\": 15, \"speechiness\": 3, \"popularity\": 57, \"album\": \"The Best Damn Thing\"}, {\"title\": \"Hello Kitty\", \"artist\": \"Avril Lavigne\", \"top genre\": \"canadian pop\", \"year\": 2013, \"added\": \"2020\\u201103\\u201105\", \"Beats per minute\": 128, \"energy\": 79, \"danceability\": 75, \"Loudness (dB)\": -7, \"liveness\": 65, \"valence\": 59, \"duration\": 196, \"acousticness\": 0, \"speechiness\": 9, \"popularity\": 57, \"album\": \"Avril Lavigne\"}, {\"title\": \"Give You What You Like\", \"artist\": \"Avril Lavigne\", \"top genre\": \"canadian pop\", \"year\": 2013, \"added\": \"2020\\u201103\\u201105\", \"Beats per minute\": 79, \"energy\": 53, \"danceability\": 62, \"Loudness (dB)\": -7, \"liveness\": 11, \"valence\": 39, \"duration\": 225, \"acousticness\": 44, \"speechiness\": 3, \"popularity\": 56, \"album\": \"Avril Lavigne\"}, {\"title\": \"Dumb Blonde (feat. Nicki Minaj)\", \"artist\": \"Avril Lavigne\", \"top genre\": \"canadian pop\", \"year\": 2019, \"added\": \"2020\\u201103\\u201105\", \"Beats per minute\": 110, \"energy\": 85, \"danceability\": 73, \"Loudness (dB)\": -5, \"liveness\": 12, \"valence\": 92, \"duration\": 215, \"acousticness\": 17, \"speechiness\": 8, \"popularity\": 56, \"album\": \"Head Above Water\"}, {\"title\": \"Things I'll Never Say\", \"artist\": \"Avril Lavigne\", \"top genre\": \"canadian pop\", \"year\": 2002, \"added\": \"2020\\u201103\\u201105\", \"Beats per minute\": 102, \"energy\": 81, \"danceability\": 57, \"Loudness (dB)\": -5, \"liveness\": 14, \"valence\": 59, \"duration\": 224, \"acousticness\": 0, \"speechiness\": 3, \"popularity\": 55, \"album\": \"Let Go\"}, {\"title\": \"The Best Damn Thing\", \"artist\": \"Avril Lavigne\", \"top genre\": \"canadian pop\", \"year\": 2007, \"added\": \"2020\\u201103\\u201105\", \"Beats per minute\": 165, \"energy\": 94, \"danceability\": 56, \"Loudness (dB)\": -2, \"liveness\": 15, \"valence\": 88, \"duration\": 189, \"acousticness\": 0, \"speechiness\": 9, \"popularity\": 55, \"album\": \"The Best Damn Thing\"}, {\"title\": \"Tomorrow\", \"artist\": \"Avril Lavigne\", \"top genre\": \"canadian pop\", \"year\": 2002, \"added\": \"2020\\u201103\\u201105\", \"Beats per minute\": 136, \"energy\": 79, \"danceability\": 63, \"Loudness (dB)\": -7, \"liveness\": 16, \"valence\": 61, \"duration\": 229, \"acousticness\": 1, \"speechiness\": 3, \"popularity\": 54, \"album\": \"Let Go\"}, {\"title\": \"Anything but Ordinary\", \"artist\": \"Avril Lavigne\", \"top genre\": \"canadian pop\", \"year\": 2002, \"added\": \"2020\\u201103\\u201105\", \"Beats per minute\": 123, \"energy\": 67, \"danceability\": 65, \"Loudness (dB)\": -6, \"liveness\": 9, \"valence\": 64, \"duration\": 251, \"acousticness\": 4, \"speechiness\": 4, \"popularity\": 54, \"album\": \"Let Go\"}, {\"title\": \"Fall To Pieces\", \"artist\": \"Avril Lavigne\", \"top genre\": \"canadian pop\", \"year\": 2004, \"added\": \"2020\\u201103\\u201105\", \"Beats per minute\": 178, \"energy\": 90, \"danceability\": 43, \"Loudness (dB)\": -3, \"liveness\": 63, \"valence\": 49, \"duration\": 209, \"acousticness\": 0, \"speechiness\": 4, \"popularity\": 54, \"album\": \"Under My Skin\"}, {\"title\": \"Bad Girl (feat. Marilyn Manson)\", \"artist\": \"Avril Lavigne\", \"top genre\": \"canadian pop\", \"year\": 2013, \"added\": \"2020\\u201103\\u201105\", \"Beats per minute\": 158, \"energy\": 94, \"danceability\": 43, \"Loudness (dB)\": -3, \"liveness\": 41, \"valence\": 34, \"duration\": 175, \"acousticness\": 0, \"speechiness\": 14, \"popularity\": 54, \"album\": \"Avril Lavigne\"}, {\"title\": \"Nobody's Fool\", \"artist\": \"Avril Lavigne\", \"top genre\": \"canadian pop\", \"year\": 2002, \"added\": \"2020\\u201103\\u201105\", \"Beats per minute\": 90, \"energy\": 88, \"danceability\": 50, \"Loudness (dB)\": -6, \"liveness\": 13, \"valence\": 46, \"duration\": 237, \"acousticness\": 0, \"speechiness\": 6, \"popularity\": 53, \"album\": \"Let Go\"}, {\"title\": \"Slipped Away\", \"artist\": \"Avril Lavigne\", \"top genre\": \"canadian pop\", \"year\": 2004, \"added\": \"2020\\u201103\\u201105\", \"Beats per minute\": 161, \"energy\": 62, \"danceability\": 45, \"Loudness (dB)\": -4, \"liveness\": 12, \"valence\": 10, \"duration\": 214, \"acousticness\": 0, \"speechiness\": 3, \"popularity\": 53, \"album\": \"Under My Skin\"}, {\"title\": \"Everybody Hurts\", \"artist\": \"Avril Lavigne\", \"top genre\": \"canadian pop\", \"year\": 2011, \"added\": \"2020\\u201103\\u201105\", \"Beats per minute\": 102, \"energy\": 75, \"danceability\": 45, \"Loudness (dB)\": -4, \"liveness\": 12, \"valence\": 36, \"duration\": 222, \"acousticness\": 1, \"speechiness\": 3, \"popularity\": 53, \"album\": \"Goodbye Lullaby\"}, {\"title\": \"Alice - Extended Version\", \"artist\": \"Avril Lavigne\", \"top genre\": \"canadian pop\", \"year\": 2011, \"added\": \"2020\\u201103\\u201105\", \"Beats per minute\": 119, \"energy\": 82, \"danceability\": 54, \"Loudness (dB)\": -4, \"liveness\": 17, \"valence\": 17, \"duration\": 301, \"acousticness\": 5, \"speechiness\": 8, \"popularity\": 53, \"album\": \"Goodbye Lullaby\"}, {\"title\": \"Birdie\", \"artist\": \"Avril Lavigne\", \"top genre\": \"canadian pop\", \"year\": 2019, \"added\": \"2020\\u201103\\u201105\", \"Beats per minute\": 156, \"energy\": 82, \"danceability\": 55, \"Loudness (dB)\": -4, \"liveness\": 26, \"valence\": 45, \"duration\": 215, \"acousticness\": 27, \"speechiness\": 9, \"popularity\": 53, \"album\": \"Head Above Water\"}, {\"title\": \"Warrior\", \"artist\": \"Avril Lavigne\", \"top genre\": \"canadian pop\", \"year\": 2019, \"added\": \"2020\\u201103\\u201105\", \"Beats per minute\": 142, \"energy\": 63, \"danceability\": 46, \"Loudness (dB)\": -5, \"liveness\": 22, \"valence\": 33, \"duration\": 226, \"acousticness\": 31, \"speechiness\": 5, \"popularity\": 53, \"album\": \"Head Above Water\"}, {\"title\": \"Take Me Away\", \"artist\": \"Avril Lavigne\", \"top genre\": \"canadian pop\", \"year\": 2004, \"added\": \"2020\\u201103\\u201105\", \"Beats per minute\": 99, \"energy\": 89, \"danceability\": 51, \"Loudness (dB)\": -2, \"liveness\": 20, \"valence\": 26, \"duration\": 178, \"acousticness\": 0, \"speechiness\": 3, \"popularity\": 52, \"album\": \"Under My Skin\"}, {\"title\": \"He Wasn't\", \"artist\": \"Avril Lavigne\", \"top genre\": \"canadian pop\", \"year\": 2004, \"added\": \"2020\\u201103\\u201105\", \"Beats per minute\": 173, \"energy\": 86, \"danceability\": 41, \"Loudness (dB)\": -4, \"liveness\": 8, \"valence\": 66, \"duration\": 179, \"acousticness\": 0, \"speechiness\": 5, \"popularity\": 52, \"album\": \"Under My Skin\"}, {\"title\": \"Runaway\", \"artist\": \"Avril Lavigne\", \"top genre\": \"canadian pop\", \"year\": 2007, \"added\": \"2020\\u201103\\u201105\", \"Beats per minute\": 135, \"energy\": 94, \"danceability\": 57, \"Loudness (dB)\": -2, \"liveness\": 16, \"valence\": 68, \"duration\": 228, \"acousticness\": 0, \"speechiness\": 5, \"popularity\": 51, \"album\": \"The Best Damn Thing\"}, {\"title\": \"Mobile\", \"artist\": \"Avril Lavigne\", \"top genre\": \"canadian pop\", \"year\": 2002, \"added\": \"2020\\u201103\\u201105\", \"Beats per minute\": 100, \"energy\": 73, \"danceability\": 59, \"Loudness (dB)\": -6, \"liveness\": 11, \"valence\": 63, \"duration\": 212, \"acousticness\": 0, \"speechiness\": 3, \"popularity\": 50, \"album\": \"Let Go\"}, {\"title\": \"Remember When\", \"artist\": \"Avril Lavigne\", \"top genre\": \"canadian pop\", \"year\": 2011, \"added\": \"2020\\u201103\\u201105\", \"Beats per minute\": 148, \"energy\": 53, \"danceability\": 43, \"Loudness (dB)\": -6, \"liveness\": 8, \"valence\": 17, \"duration\": 209, \"acousticness\": 3, \"speechiness\": 3, \"popularity\": 50, \"album\": \"Goodbye Lullaby\"}, {\"title\": \"It Was In Me\", \"artist\": \"Avril Lavigne\", \"top genre\": \"canadian pop\", \"year\": 2019, \"added\": \"2020\\u201103\\u201105\", \"Beats per minute\": 146, \"energy\": 64, \"danceability\": 46, \"Loudness (dB)\": -6, \"liveness\": 11, \"valence\": 22, \"duration\": 223, \"acousticness\": 1, \"speechiness\": 4, \"popularity\": 50, \"album\": \"Head Above Water\"}, {\"title\": \"Unwanted\", \"artist\": \"Avril Lavigne\", \"top genre\": \"canadian pop\", \"year\": 2002, \"added\": \"2020\\u201103\\u201105\", \"Beats per minute\": 162, \"energy\": 84, \"danceability\": 48, \"Loudness (dB)\": -5, \"liveness\": 63, \"valence\": 62, \"duration\": 221, \"acousticness\": 0, \"speechiness\": 6, \"popularity\": 48, \"album\": \"Let Go\"}, {\"title\": \"My World\", \"artist\": \"Avril Lavigne\", \"top genre\": \"canadian pop\", \"year\": 2002, \"added\": \"2020\\u201103\\u201105\", \"Beats per minute\": 103, \"energy\": 92, \"danceability\": 60, \"Loudness (dB)\": -5, \"liveness\": 10, \"valence\": 70, \"duration\": 207, \"acousticness\": 1, \"speechiness\": 5, \"popularity\": 48, \"album\": \"Let Go\"}, {\"title\": \"Crush\", \"artist\": \"Avril Lavigne\", \"top genre\": \"canadian pop\", \"year\": 2019, \"added\": \"2020\\u201103\\u201105\", \"Beats per minute\": 108, \"energy\": 73, \"danceability\": 53, \"Loudness (dB)\": -5, \"liveness\": 11, \"valence\": 29, \"duration\": 214, \"acousticness\": 9, \"speechiness\": 6, \"popularity\": 48, \"album\": \"Head Above Water\"}, {\"title\": \"Goddess\", \"artist\": \"Avril Lavigne\", \"top genre\": \"canadian pop\", \"year\": 2019, \"added\": \"2020\\u201103\\u201105\", \"Beats per minute\": 74, \"energy\": 51, \"danceability\": 47, \"Loudness (dB)\": -7, \"liveness\": 8, \"valence\": 50, \"duration\": 221, \"acousticness\": 31, \"speechiness\": 6, \"popularity\": 48, \"album\": \"Head Above Water\"}, {\"title\": \"Naked\", \"artist\": \"Avril Lavigne\", \"top genre\": \"canadian pop\", \"year\": 2002, \"added\": \"2020\\u201103\\u201105\", \"Beats per minute\": 82, \"energy\": 77, \"danceability\": 52, \"Loudness (dB)\": -6, \"liveness\": 10, \"valence\": 46, \"duration\": 209, \"acousticness\": 0, \"speechiness\": 4, \"popularity\": 47, \"album\": \"Let Go\"}, {\"title\": \"I Can Do Better\", \"artist\": \"Avril Lavigne\", \"top genre\": \"canadian pop\", \"year\": 2007, \"added\": \"2020\\u201103\\u201105\", \"Beats per minute\": 172, \"energy\": 98, \"danceability\": 44, \"Loudness (dB)\": -3, \"liveness\": 72, \"valence\": 27, \"duration\": 195, \"acousticness\": 0, \"speechiness\": 17, \"popularity\": 47, \"album\": \"The Best Damn Thing\"}, {\"title\": \"Souvenir\", \"artist\": \"Avril Lavigne\", \"top genre\": \"canadian pop\", \"year\": 2019, \"added\": \"2020\\u201103\\u201105\", \"Beats per minute\": 180, \"energy\": 74, \"danceability\": 49, \"Loudness (dB)\": -4, \"liveness\": 9, \"valence\": 42, \"duration\": 178, \"acousticness\": 41, \"speechiness\": 7, \"popularity\": 47, \"album\": \"Head Above Water\"}, {\"title\": \"Too Much to Ask\", \"artist\": \"Avril Lavigne\", \"top genre\": \"canadian pop\", \"year\": 2002, \"added\": \"2020\\u201103\\u201105\", \"Beats per minute\": 147, \"energy\": 70, \"danceability\": 50, \"Loudness (dB)\": -7, \"liveness\": 10, \"valence\": 41, \"duration\": 225, \"acousticness\": 1, \"speechiness\": 3, \"popularity\": 46, \"album\": \"Let Go\"}, {\"title\": \"Together\", \"artist\": \"Avril Lavigne\", \"top genre\": \"canadian pop\", \"year\": 2004, \"added\": \"2020\\u201103\\u201105\", \"Beats per minute\": 82, \"energy\": 86, \"danceability\": 44, \"Loudness (dB)\": -3, \"liveness\": 23, \"valence\": 30, \"duration\": 195, \"acousticness\": 0, \"speechiness\": 4, \"popularity\": 46, \"album\": \"Under My Skin\"}, {\"title\": \"Bigger Wow\", \"artist\": \"Avril Lavigne\", \"top genre\": \"canadian pop\", \"year\": 2019, \"added\": \"2020\\u201103\\u201105\", \"Beats per minute\": 103, \"energy\": 68, \"danceability\": 75, \"Loudness (dB)\": -5, \"liveness\": 6, \"valence\": 85, \"duration\": 175, \"acousticness\": 7, \"speechiness\": 3, \"popularity\": 46, \"album\": \"Head Above Water\"}, {\"title\": \"Love Me Insane\", \"artist\": \"Avril Lavigne\", \"top genre\": \"canadian pop\", \"year\": 2019, \"added\": \"2020\\u201103\\u201105\", \"Beats per minute\": 154, \"energy\": 53, \"danceability\": 68, \"Loudness (dB)\": -6, \"liveness\": 31, \"valence\": 56, \"duration\": 181, \"acousticness\": 7, \"speechiness\": 8, \"popularity\": 46, \"album\": \"Head Above Water\"}, {\"title\": \"How Does It Feel\", \"artist\": \"Avril Lavigne\", \"top genre\": \"canadian pop\", \"year\": 2004, \"added\": \"2020\\u201103\\u201105\", \"Beats per minute\": 118, \"energy\": 58, \"danceability\": 65, \"Loudness (dB)\": -5, \"liveness\": 12, \"valence\": 34, \"duration\": 225, \"acousticness\": 2, \"speechiness\": 3, \"popularity\": 45, \"album\": \"Under My Skin\"}, {\"title\": \"Forgotten\", \"artist\": \"Avril Lavigne\", \"top genre\": \"canadian pop\", \"year\": 2004, \"added\": \"2020\\u201103\\u201105\", \"Beats per minute\": 132, \"energy\": 68, \"danceability\": 57, \"Loudness (dB)\": -3, \"liveness\": 21, \"valence\": 35, \"duration\": 197, \"acousticness\": 0, \"speechiness\": 3, \"popularity\": 45, \"album\": \"Under My Skin\"}, {\"title\": \"Who Knows\", \"artist\": \"Avril Lavigne\", \"top genre\": \"canadian pop\", \"year\": 2004, \"added\": \"2020\\u201103\\u201105\", \"Beats per minute\": 162, \"energy\": 81, \"danceability\": 45, \"Loudness (dB)\": -3, \"liveness\": 11, \"valence\": 37, \"duration\": 210, \"acousticness\": 0, \"speechiness\": 4, \"popularity\": 45, \"album\": \"Under My Skin\"}, {\"title\": \"Hush Hush\", \"artist\": \"Avril Lavigne\", \"top genre\": \"canadian pop\", \"year\": 2013, \"added\": \"2020\\u201103\\u201105\", \"Beats per minute\": 148, \"energy\": 79, \"danceability\": 49, \"Loudness (dB)\": -7, \"liveness\": 15, \"valence\": 19, \"duration\": 239, \"acousticness\": 17, \"speechiness\": 6, \"popularity\": 45, \"album\": \"Avril Lavigne\"}, {\"title\": \"Freak Out\", \"artist\": \"Avril Lavigne\", \"top genre\": \"canadian pop\", \"year\": 2004, \"added\": \"2020\\u201103\\u201105\", \"Beats per minute\": 160, \"energy\": 89, \"danceability\": 46, \"Loudness (dB)\": -2, \"liveness\": 12, \"valence\": 68, \"duration\": 192, \"acousticness\": 0, \"speechiness\": 7, \"popularity\": 44, \"album\": \"Under My Skin\"}, {\"title\": \"Everything Back But You\", \"artist\": \"Avril Lavigne\", \"top genre\": \"canadian pop\", \"year\": 2007, \"added\": \"2020\\u201103\\u201105\", \"Beats per minute\": 130, \"energy\": 97, \"danceability\": 54, \"Loudness (dB)\": -3, \"liveness\": 38, \"valence\": 48, \"duration\": 182, \"acousticness\": 0, \"speechiness\": 17, \"popularity\": 44, \"album\": \"The Best Damn Thing\"}, {\"title\": \"Contagious\", \"artist\": \"Avril Lavigne\", \"top genre\": \"canadian pop\", \"year\": 2007, \"added\": \"2020\\u201103\\u201105\", \"Beats per minute\": 158, \"energy\": 91, \"danceability\": 45, \"Loudness (dB)\": -4, \"liveness\": 32, \"valence\": 44, \"duration\": 129, \"acousticness\": 0, \"speechiness\": 5, \"popularity\": 44, \"album\": \"The Best Damn Thing\"}, {\"title\": \"17\", \"artist\": \"Avril Lavigne\", \"top genre\": \"canadian pop\", \"year\": 2013, \"added\": \"2020\\u201103\\u201105\", \"Beats per minute\": 140, \"energy\": 90, \"danceability\": 68, \"Loudness (dB)\": -4, \"liveness\": 7, \"valence\": 94, \"duration\": 205, \"acousticness\": 1, \"speechiness\": 5, \"popularity\": 44, \"album\": \"Avril Lavigne\"}, {\"title\": \"Push\", \"artist\": \"Avril Lavigne\", \"top genre\": \"canadian pop\", \"year\": 2011, \"added\": \"2020\\u201103\\u201105\", \"Beats per minute\": 184, \"energy\": 68, \"danceability\": 52, \"Loudness (dB)\": -5, \"liveness\": 8, \"valence\": 47, \"duration\": 181, \"acousticness\": 1, \"speechiness\": 9, \"popularity\": 43, \"album\": \"Goodbye Lullaby\"}, {\"title\": \"Bitchin' Summer\", \"artist\": \"Avril Lavigne\", \"top genre\": \"canadian pop\", \"year\": 2013, \"added\": \"2020\\u201103\\u201105\", \"Beats per minute\": 174, \"energy\": 67, \"danceability\": 56, \"Loudness (dB)\": -5, \"liveness\": 6, \"valence\": 46, \"duration\": 211, \"acousticness\": 2, \"speechiness\": 6, \"popularity\": 43, \"album\": \"Avril Lavigne\"}, {\"title\": \"Falling Fast\", \"artist\": \"Avril Lavigne\", \"top genre\": \"canadian pop\", \"year\": 2013, \"added\": \"2020\\u201103\\u201105\", \"Beats per minute\": 174, \"energy\": 43, \"danceability\": 50, \"Loudness (dB)\": -9, \"liveness\": 14, \"valence\": 42, \"duration\": 194, \"acousticness\": 49, \"speechiness\": 4, \"popularity\": 43, \"album\": \"Avril Lavigne\"}, {\"title\": \"I Don't Have To Try\", \"artist\": \"Avril Lavigne\", \"top genre\": \"canadian pop\", \"year\": 2007, \"added\": \"2020\\u201103\\u201105\", \"Beats per minute\": 212, \"energy\": 97, \"danceability\": 42, \"Loudness (dB)\": -3, \"liveness\": 8, \"valence\": 25, \"duration\": 197, \"acousticness\": 0, \"speechiness\": 35, \"popularity\": 42, \"album\": \"The Best Damn Thing\"}, {\"title\": \"One of Those Girls\", \"artist\": \"Avril Lavigne\", \"top genre\": \"canadian pop\", \"year\": 2007, \"added\": \"2020\\u201103\\u201105\", \"Beats per minute\": 92, \"energy\": 93, \"danceability\": 51, \"Loudness (dB)\": -3, \"liveness\": 15, \"valence\": 74, \"duration\": 175, \"acousticness\": 0, \"speechiness\": 4, \"popularity\": 42, \"album\": \"The Best Damn Thing\"}, {\"title\": \"Stop Standing There\", \"artist\": \"Avril Lavigne\", \"top genre\": \"canadian pop\", \"year\": 2011, \"added\": \"2020\\u201103\\u201105\", \"Beats per minute\": 142, \"energy\": 89, \"danceability\": 64, \"Loudness (dB)\": -5, \"liveness\": 7, \"valence\": 91, \"duration\": 207, \"acousticness\": 0, \"speechiness\": 5, \"popularity\": 42, \"album\": \"Goodbye Lullaby\"}, {\"title\": \"Not Enough\", \"artist\": \"Avril Lavigne\", \"top genre\": \"canadian pop\", \"year\": 2011, \"added\": \"2020\\u201103\\u201105\", \"Beats per minute\": 136, \"energy\": 88, \"danceability\": 52, \"Loudness (dB)\": -4, \"liveness\": 10, \"valence\": 24, \"duration\": 259, \"acousticness\": 0, \"speechiness\": 4, \"popularity\": 42, \"album\": \"Goodbye Lullaby\"}, {\"title\": \"Darlin\", \"artist\": \"Avril Lavigne\", \"top genre\": \"canadian pop\", \"year\": 2011, \"added\": \"2020\\u201103\\u201105\", \"Beats per minute\": 179, \"energy\": 58, \"danceability\": 37, \"Loudness (dB)\": -5, \"liveness\": 8, \"valence\": 40, \"duration\": 231, \"acousticness\": 21, \"speechiness\": 3, \"popularity\": 42, \"album\": \"Goodbye Lullaby\"}, {\"title\": \"Hello Heartache\", \"artist\": \"Avril Lavigne\", \"top genre\": \"canadian pop\", \"year\": 2013, \"added\": \"2020\\u201103\\u201105\", \"Beats per minute\": 174, \"energy\": 76, \"danceability\": 51, \"Loudness (dB)\": -4, \"liveness\": 34, \"valence\": 59, \"duration\": 229, \"acousticness\": 9, \"speechiness\": 4, \"popularity\": 42, \"album\": \"Avril Lavigne\"}, {\"title\": \"Black Star\", \"artist\": \"Avril Lavigne\", \"top genre\": \"canadian pop\", \"year\": 2011, \"added\": \"2020\\u201103\\u201105\", \"Beats per minute\": 128, \"energy\": 33, \"danceability\": 54, \"Loudness (dB)\": -9, \"liveness\": 19, \"valence\": 20, \"duration\": 94, \"acousticness\": 61, \"speechiness\": 3, \"popularity\": 41, \"album\": \"Goodbye Lullaby\"}, {\"title\": \"4 Real\", \"artist\": \"Avril Lavigne\", \"top genre\": \"canadian pop\", \"year\": 2011, \"added\": \"2020\\u201103\\u201105\", \"Beats per minute\": 78, \"energy\": 84, \"danceability\": 52, \"Loudness (dB)\": -6, \"liveness\": 11, \"valence\": 28, \"duration\": 208, \"acousticness\": 0, \"speechiness\": 3, \"popularity\": 41, \"album\": \"Goodbye Lullaby\"}, {\"title\": \"Sippin' On Sunshine\", \"artist\": \"Avril Lavigne\", \"top genre\": \"canadian pop\", \"year\": 2013, \"added\": \"2020\\u201103\\u201105\", \"Beats per minute\": 176, \"energy\": 73, \"danceability\": 55, \"Loudness (dB)\": -7, \"liveness\": 32, \"valence\": 56, \"duration\": 209, \"acousticness\": 0, \"speechiness\": 12, \"popularity\": 41, \"album\": \"Avril Lavigne\"}, {\"title\": \"Goodbye\", \"artist\": \"Avril Lavigne\", \"top genre\": \"canadian pop\", \"year\": 2011, \"added\": \"2020\\u201103\\u201105\", \"Beats per minute\": 167, \"energy\": 33, \"danceability\": 18, \"Loudness (dB)\": -7, \"liveness\": 13, \"valence\": 24, \"duration\": 272, \"acousticness\": 72, \"speechiness\": 3, \"popularity\": 40, \"album\": \"Goodbye Lullaby\"}, {\"title\": \"You Ain't Seen Nothin' Yet\", \"artist\": \"Avril Lavigne\", \"top genre\": \"canadian pop\", \"year\": 2013, \"added\": \"2020\\u201103\\u201105\", \"Beats per minute\": 145, \"energy\": 90, \"danceability\": 56, \"Loudness (dB)\": -4, \"liveness\": 7, \"valence\": 67, \"duration\": 193, \"acousticness\": 0, \"speechiness\": 6, \"popularity\": 40, \"album\": \"Avril Lavigne\"}]}};\n",
       "const opt = {};\n",
       "const type = \"vega-lite\";\n",
       "const id = \"1c4a7f54-8398-4170-b3c5-bd236b4d894a\";\n",
       "\n",
       "const output_area = this;\n",
       "\n",
       "require([\"nbextensions/jupyter-vega/index\"], function(vega) {\n",
       "  const target = document.createElement(\"div\");\n",
       "  target.id = id;\n",
       "  target.className = \"vega-embed\";\n",
       "\n",
       "  const style = document.createElement(\"style\");\n",
       "  style.textContent = [\n",
       "    \".vega-embed .error p {\",\n",
       "    \"  color: firebrick;\",\n",
       "    \"  font-size: 14px;\",\n",
       "    \"}\",\n",
       "  ].join(\"\\\\n\");\n",
       "\n",
       "  // element is a jQuery wrapped DOM element inside the output area\n",
       "  // see http://ipython.readthedocs.io/en/stable/api/generated/\\\n",
       "  // IPython.display.html#IPython.display.Javascript.__init__\n",
       "  element[0].appendChild(target);\n",
       "  element[0].appendChild(style);\n",
       "\n",
       "  vega.render(\"#\" + id, spec, type, opt, output_area);\n",
       "}, function (err) {\n",
       "  if (err.requireType !== \"scripterror\") {\n",
       "    throw(err);\n",
       "  }\n",
       "});\n"
      ],
      "text/plain": [
       "<vega.vegalite.VegaLite at 0x7f08a5de4b00>"
      ]
     },
     "metadata": {
      "jupyter-vega": "#1c4a7f54-8398-4170-b3c5-bd236b4d894a"
     },
     "output_type": "display_data"
    },
    {
     "data": {
      "text/plain": []
     },
     "execution_count": 24,
     "metadata": {},
     "output_type": "execute_result"
    },
    {
     "data": {
      "image/png": "[encoded data removed]"
     },
     "metadata": {
      "jupyter-vega": "#1c4a7f54-8398-4170-b3c5-bd236b4d894a"
     },
     "output_type": "display_data"
    }
   ],
   "source": [
    "# Energy vs acousticness | Energy vs speechiness |Acousticness vs speechiness\n",
    "chart10 | chart11 | chart12"
   ]
  },
  {
   "cell_type": "code",
   "execution_count": 46,
   "metadata": {},
   "outputs": [],
   "source": [
    "# alt.hconcat(chart10, chart11, chart12).save('plots/charts101113.json')\n",
    "# alt.hconcat(chart10, chart11, chart12).save('plots/charts101112.html')"
   ]
  },
  {
   "cell_type": "markdown",
   "metadata": {},
   "source": [
    "#### => Musically, there are a lot of similarities overall.\n",
    "\n",
    "#### Using songs from an open Spotify playlist [5] shows differences in energy and acousticness. The energy of her albums increased until the third album and then decreased. The songs are also more and more acoustic as time goes by. In terms of lyrics, the third, fifth and sixth albums seem to have more word content that the first, second and fourth albums.\n",
    "\n",
    "- Albums 1, 2, 3: more energy\n",
    "- Albums 4, 5, 6: more acoustic\n",
    "- Albums 3, 5, 6: more words"
   ]
  },
  {
   "cell_type": "markdown",
   "metadata": {},
   "source": [
    "**References**\n",
    "\n",
    "Conspiracy\n",
    "* [1] https://www.theguardian.com/lifeandstyle/shortcuts/2017/may/15/avril-lavigne-melissa-cloning-conspiracy-theories\n",
    "* [2] https://avrilestamorta.blogspot.com/\n",
    "\n",
    "Data for analysis\n",
    "* [3] https://en.wikipedia.org/wiki/Avril_Lavigne\n",
    "* [4] https://en.wikipedia.org/wiki/Avril_Lavigne_discography\n",
    "* [5] open Spotify playlist with all songs from studio recorded albums: https://open.spotify.com/playlist/1cVKLVWEFN2Be7tTA13qUj analyzed using http://organizeyourmusic.playlistmachinery.com (Powered by Spotify. Created by @plamere at The Science of Mu)\n",
    "\n",
    "Other\n",
    "* [6] photos: https://avrillavigne.com/music/\n",
    "* MTV docu, 2007: https://www.youtube.com/watch?v=f8GLe10jLSw"
   ]
  },
  {
   "cell_type": "code",
   "execution_count": null,
   "metadata": {},
   "outputs": [],
   "source": []
  }
 ],
 "metadata": {
  "kernelspec": {
   "display_name": "Python 3",
   "language": "python",
   "name": "python3"
  },
  "language_info": {
   "codemirror_mode": {
    "name": "ipython",
    "version": 3
   },
   "file_extension": ".py",
   "mimetype": "text/x-python",
   "name": "python",
   "nbconvert_exporter": "python",
   "pygments_lexer": "ipython3",
   "version": "3.6.8"
  }
 },
 "nbformat": 4,
 "nbformat_minor": 2
}
